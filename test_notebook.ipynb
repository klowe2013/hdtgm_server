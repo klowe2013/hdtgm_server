{
 "cells": [
  {
   "cell_type": "code",
   "execution_count": 1,
   "metadata": {},
   "outputs": [
    {
     "data": {
      "text/plain": [
       "['218. Deadfall LIVE! (w_ Chelsea Peretti).mp3',\n",
       " '11 The Tourist (w_ Gil Ozeri, Natasha Leggero).mp3',\n",
       " '40 Judge Dredd (w_ Erica Oyama).mp3',\n",
       " '229. The Spirit of Christmas (w_ Jessica St. Clair).mp3',\n",
       " '248 The VelociPastor.mp3',\n",
       " '217. Jaws 3-D.mp3',\n",
       " '308. Ghost in the Machine.mp3',\n",
       " '233. Space Jam_ LIVE!.mp3',\n",
       " '153. Escape from LA_ LIVE! (w_ D_Arcy Carden, Dan Levy).mp3',\n",
       " '278. Old.mp3',\n",
       " '307. 12 Pups of Christmas.mp3',\n",
       " '4 The Last Airbender (w_ Jon Daly).mp3',\n",
       " '16 The Smurfs (w_ Paul F. Tompkins).mp3',\n",
       " '74 Halloween III_ Season of the Witch.mp3',\n",
       " '264. The Visitor with Rob Huebel.mp3',\n",
       " '260. Jade.mp3',\n",
       " '258. Lawnmower Man 2.mp3',\n",
       " '284. Shadow in the Cloud.mp3',\n",
       " '49 Cobra_ LIVE (w_ Brian Posehn, Rhett Miller).mp3',\n",
       " '146. Dreamcatcher (w_ Curtis Gwinn, Jessica McKenna).mp3',\n",
       " '3 Old Dogs (w_ Casey Wilson).mp3',\n",
       " '12 The Love Guru (w_ Matt Walsh).mp3',\n",
       " '281. Snowmance.mp3',\n",
       " '72 Toys (w_ Drew McWeeny).mp3',\n",
       " '235 Underworld_ Blood Wars LIVE!.mp3',\n",
       " '92 The 1st Annual Howdies Pt. 2.mp3',\n",
       " '174 Jason X_ LIVE! (w_ Rob Huebel, Jenny Slate).mp3',\n",
       " '21 I Know Who Killed Me.mp3',\n",
       " '157. Surf Ninjas_ LIVE! (w_ Rob Huebel, Nicole Byer, Gil Ozeri).mp3',\n",
       " '14. Green Lantern.mp3',\n",
       " '76. Fair Game (w_ Danny Zuker).mp3',\n",
       " '77 Hudson Hawk (w_ Emily Gordon).mp3',\n",
       " '53 Anaconda.mp3',\n",
       " '35 Tiptoes (w_ Dave Holmes).mp3',\n",
       " '234 Prelude to a Kiss (w_ Andy Greenwald.mp3',\n",
       " '214. Hercules_ LIVE! (w_ Leslye Headland, Sasheer Zamata).mp3',\n",
       " '78 Crossroads (w_ Jeff Rubin).mp3',\n",
       " '42 Batman _ Robin (w_ Matt Mira, Jesse Falcon).mp3',\n",
       " '181 Freejack_ LIVE! (w_ Phoebe Robinson, Jessica St. Clair).mp3',\n",
       " '219. Drop Dead Fred_ LIVE! (w_ Casey Wilson).mp3',\n",
       " '126. The Star Wars Holiday Special (w_ Matt Gourley, Eden Sher).mp3',\n",
       " '144. Stealth (w_ Charlie Sanders).mp3',\n",
       " '257. A Gnome Named Gnorm.mp3',\n",
       " '208 Harry _ Meghan_ A Royal Romance LIVE! (w_ Casey Wilson).mp3',\n",
       " '37 Speed 2_ Cruise Control (w_ Scott Aukerman).mp3',\n",
       " '58. In The Name of The King (w_ Seth Morris).mp3',\n",
       " '180 Howling II Your Sister Is a Wer.mp3',\n",
       " '291. Diana the Musical.mp3',\n",
       " '43 Wild Wild West (w_ Kevin Smith).mp3',\n",
       " '6 Battlefield Earth (w_ Rob Huebel).mp3',\n",
       " '136 Hell Comes to Frogtown_ LIVE! (w_ Natasha Leggero, Moshe Kasher).mp3',\n",
       " '30. Director_s Edition_ Cool as Ice.mp3',\n",
       " '215. The Country Bears (w_ Kulap Vilaysack).mp3',\n",
       " '81. Mortal Kombat.mp3',\n",
       " '60 Street Fighter (w_ John Gemberling).mp3',\n",
       " '107 Lake Placid_ LIVE! (w_ Paul F. Tompkins, Nate Corddry).mp3',\n",
       " '19 The Wicker Man.mp3',\n",
       " '46 Barb Wire (w_ Jesse Thorn).mp3',\n",
       " '165 Ninja Terminator_ LIVE! (w_ Abbi Jacobson, Ilana Glazer).mp3',\n",
       " '222. Unforgettable_ LIVE!.mp3',\n",
       " '85. Color of Night (w_ Amy Schumer).mp3',\n",
       " '28 Crank_ Director_s Edition.mp3',\n",
       " '205 Cellular (w_ Ike Barinholtz, Erin Gibson).mp3',\n",
       " '102 Tango _ Cash (w_ Nick Kroll).mp3',\n",
       " '251 Breakin_ 2_ Electric Boogaloo.mp3',\n",
       " '27 Twilight Breaking Dawn Pt 1.mp3',\n",
       " '132 Bloodsport_ LIVE! (w_ Nicole Byer).mp3',\n",
       " '73. Congo (w_ Nick Wiger).mp3',\n",
       " '179 Second Sight_ LIVE! (w_ Jessica St. Clair).mp3',\n",
       " '123. Lifeforce (w_ Lennon Parham).mp3',\n",
       " '82. Double Team (w_ Owen Burke).mp3',\n",
       " '203 Perfect Stranger_ LIVE!.mp3',\n",
       " '39 Godzilla (w_ Chris Gore).mp3',\n",
       " '147. Gamer_ LIVE! (w_ Robert Kirkman, Emily V. Gordon).mp3',\n",
       " '2. Season of the Witch.mp3',\n",
       " '250 Under the Cherry Moon.mp3',\n",
       " '283. Babes in Toyland LIVE.mp3',\n",
       " '253 Cats.mp3',\n",
       " '196 The Meg_ LIVE! (w_ Nicole Byer, Adam Scott).mp3',\n",
       " '128. Streets of Fire_ LIVE! (w_ Rachel Bloom, Jessica St. Clair).mp3',\n",
       " '112 Jupiter Ascending (w_ Franklin Leonard, Razzle Dangerously, Josh Richmond).mp3',\n",
       " '119 Maximum Overdrive_ LIVE! (w_ Andy Daly).mp3',\n",
       " '195 Never Too Young to Die_ LIVE! (w_ Matt McConkey).mp3',\n",
       " '150 Grease 2 (w_ Anna Faris).mp3',\n",
       " '272. Surrogates.mp3',\n",
       " '124 Hackers.mp3',\n",
       " '130 Teen Witch (w_ Deanna Cheng).mp3',\n",
       " '236 The Great Wall_ LIVE!.mp3',\n",
       " '69 Crocodile Dundee in Los Angeles (w_ Eddie Pepitone, Matthew Berry).mp3',\n",
       " '187 Beautiful Creatures (w_ Erin Whitehead, Kate Hagen).mp3',\n",
       " '300. Hard Target.mp3',\n",
       " '254 Love_s Labour_s Lost.mp3',\n",
       " '191 Rad_ LIVE!.mp3',\n",
       " '63 Fast _ Furious 6 (w_ Adam Scott).mp3',\n",
       " '202 Look Who_s Talking Now (w_ Conan O_Brien).mp3',\n",
       " '164 The Wraith_ LIVE! (w_ Tim Baltz, Eliza Skinner).mp3',\n",
       " '304. Dracula 2000.mp3',\n",
       " '87 Easy Rider 2_ The Ride Back (w_ Nick Thune).mp3',\n",
       " '166 Timecop_ LIVE! (w_ Nick Kroll).mp3',\n",
       " '168 Hard Ticket to Hawaii_ LIVE! (w_ Andrea Savage, Karen Kilgariff).mp3',\n",
       " '158 Body Parts_ LIVE! (w_ Gillian Jacobs, Claudia O_Doherty).mp3',\n",
       " '276. Malignant.mp3',\n",
       " '32 88 Minutes.mp3',\n",
       " '24. Superman III_ LIVE!.mp3',\n",
       " '173. Virtuosity_ LIVE! (w_ Sarah Silverman, Taran Killam).mp3',\n",
       " '265. Supergirl with Brie Larson.mp3',\n",
       " '138. The Boy Next Door (w_ Heather Anne Campbell, Ben Siemon).mp3',\n",
       " '80 Jack Frost_ LIVE! (w_ Dan Harmon).mp3',\n",
       " '227. Double Dragon_ LIVE!.mp3',\n",
       " '216. Serenity_ LIVE! (w_ Nick Kroll).mp3',\n",
       " '8 Sucker Punch.mp3',\n",
       " '246 Swordfish_ LIVE!.mp3',\n",
       " '142. The Phantom_ LIVE! (w_ Eliza Skinner, Ed Brubaker).mp3',\n",
       " '200th Mini Retrospective Clip Show Spectacular!.mp3',\n",
       " '252 Governor Gabbi_ LIVE!.mp3',\n",
       " '244 My Demon Lover.mp3',\n",
       " '96. Monkey Shines.mp3',\n",
       " '105 Safe Haven (w_ Eliza Skinner, Jordan Rubin).mp3',\n",
       " '71 The Glimmer Man (w_ Jon Lajoie).mp3',\n",
       " '199 A Night In Heaven_ LIVE! (w_ Tawny Newsome, Jen D_Angelo).mp3',\n",
       " '210. Van Helsing_ LIVE! (w_ Seth Rogen, Riki Lindhome, Ben Blacker).mp3',\n",
       " '225. Friday the 13th Part VI_ Jason Lives_ LIVE!.mp3',\n",
       " '172 The Last Dragon_ LIVE! (w_ Hannibal Buress).mp3',\n",
       " '34 The Adventures of Pluto Nash (w_ Lennon Parham, Jessica St. Clair).mp3',\n",
       " '31. Birdemic_ LIVE!.mp3',\n",
       " '197 Beastly_ LIVE!.mp3',\n",
       " '177. The Disaster Artist (w_ James Franco, Seth Rogen, Tommy Wiseau).mp3',\n",
       " '44 Jaws 4_ The Revenge (w_ Jake Fogelnest).mp3',\n",
       " '65 Howard the Duck_ LIVE! (w_ Kristen Schaal).mp3',\n",
       " '57 From Justin To Kelly_ LIVE!.mp3',\n",
       " '223. Disclosure (w_ Nick Kroll, Emily Altman).mp3',\n",
       " '120 Masters of the Universe (w_ Tatiana Maslany).mp3',\n",
       " '266. Tammy and the T - Rex.mp3',\n",
       " '274. The Dirt Bike Kid.mp3',\n",
       " '237 Valerian And The City Of A Thousand.mp3',\n",
       " '292. A Sound of Thunder.mp3',\n",
       " '241 Ninja III_ The Domination.mp3',\n",
       " '91 The 1st Annual Howdies Pt. 1.mp3',\n",
       " '67 Sharknado (w_ Scott Aukerman).mp3',\n",
       " '55 The Devil_s Advocate_ LIVE!.mp3',\n",
       " '121 Perfect_ LIVE! (w_ Seth Morris).mp3',\n",
       " '68. Over The Top_ LIVE! (w_ Bobby Moynihan).mp3',\n",
       " '17. Skyline.mp3',\n",
       " '189 Sky Captain and the World of Tomorrow_ LIVE! (w_ Joe Mande, Tawny Newsome).mp3',\n",
       " '239 Cool World.mp3',\n",
       " '117. Theodore Rex_ LIVE!.mp3',\n",
       " '287. Killing Me Softly.mp3',\n",
       " '129. The Apple_ LIVE! (w_ Andy Richter).mp3',\n",
       " '20. Punisher_ War Zone.mp3',\n",
       " '201 Skyscraper (w_ Paul F. Tompkins, Rhea Butcher).mp3',\n",
       " '51 Liz and Dick (w_ Drew Droege).mp3',\n",
       " '185 Adore (w_ Charles Rogers, Jordan Firstman, Kulap Vilaysack).mp3',\n",
       " '109 Face Off_ LIVE! (w_ Randall Park).mp3',\n",
       " '188 Body Rock_ LIVE! (w_ Alison Brie).mp3',\n",
       " '228. High Strung (Live from The Beacon Theatre).mp3',\n",
       " '294. Moonfall.mp3',\n",
       " '295. Until We Meet Again.mp3',\n",
       " '190 Hurricane Heist_ LIVE!.mp3',\n",
       " '94 Glitter_ LIVE! (w_ Adam Scott, Casey Wilson, Dan Levy).mp3',\n",
       " '116 Top Dog_ LIVE!.mp3',\n",
       " '106. Deep Blue Sea_ LIVE! (w_ Evan Goldberg, Paul F. Tompkins).mp3',\n",
       " '127 Kazaam_ LIVE! (w_ Kay Cannon).mp3',\n",
       " '159 Sleepwalkers (w_ Lauren Lapkus).mp3',\n",
       " '232. The Adventures of Pinocchio_ LIVE!.mp3',\n",
       " '301. Open Windows.mp3',\n",
       " '224. Starcrash_ LIVE!.mp3',\n",
       " '139 Simply Irresistible (w_ Jensen Karp).mp3',\n",
       " '267. Abraxas, Guardian of the Universe.mp3',\n",
       " '206 Little Italy.mp3',\n",
       " '186 Geostorm_ LIVE! (w_ Colton Dunn, Jessica St. Clair).mp3',\n",
       " '118. Furious 7_ LIVE (w_ Adam Scott).mp3',\n",
       " '242 The Boyfriend School.mp3',\n",
       " '149. The Lawnmower Man_ LIVE! (w_ Neil Casey, Emily Heller).mp3',\n",
       " '135 Solarbabies_ LIVE! (w_ John Mulaney).mp3',\n",
       " '104 Zardoz 2.mp3',\n",
       " '194 Yes, Giorgio_ LIVE!.mp3',\n",
       " '143. Gods of Egypt (w_ Erin Gibson, Bryan Safi).mp3',\n",
       " '286. Kate and Leopold.mp3',\n",
       " '98 LOL_ LIVE! (w_ Rob Huebel, Chelsea Peretti, John Flynn).mp3',\n",
       " '231. Master of Disguise (Live from The Beacon Theatre).mp3',\n",
       " '299. Love on a Leash.mp3',\n",
       " '89. Gooby (w_ Nathan Fielder).mp3',\n",
       " '207 Dragon Blade (w_ Daniel Radcliffe, Erin Darke).mp3',\n",
       " '47 Super Mario Bros_ LIVE!.mp3',\n",
       " '162 My Stepmother Is An Alien_ LIVE! (w_ Whitney Cummings).mp3',\n",
       " '282. Knight Before Christmas.mp3',\n",
       " '169 The Garbage Pail Kids Movie_ LIVE! (w_ Jon Lovett).mp3',\n",
       " '45 Road House_ LIVE!.mp3',\n",
       " '306. Oogie Loves.mp3',\n",
       " '111 Hercules in New York_ LIVE! (w_ Abbi Jacobson).mp3',\n",
       " '302. An American Werewolf in Paris.mp3',\n",
       " '1 Burlesque.mp3',\n",
       " '182 Rock Star_ LIVE! (w_ Jake Weisman).mp3',\n",
       " '211. The Secret (w_ Topher Grace, Joel Kim Booster).mp3',\n",
       " '110 The Island of Dr. Moreau (w_ Alex Fernie).mp3',\n",
       " '151 The 2nd Annual Howdies Pt. 1.mp3',\n",
       " '220. Hobbs _ Shaw_ LIVE! (w_ Adam Scott, Nicole Byer).mp3',\n",
       " '178 Superman IV_ The Quest For Peace_ LIVE! (w_ Natasha Lyonne, Jessica St. Clair).mp3',\n",
       " '263. The January Man with Kulap Vilaysack.mp3',\n",
       " '83. Winter_s Tale (w_ Andy Daly).mp3',\n",
       " '93 Staying Alive_ LIVE! (w_ Katie Dippold).mp3',\n",
       " '305. Designed to Kill.mp3',\n",
       " '54 The Odd Life of Timothy Green (w_ Tim Heidecker).mp3',\n",
       " '114 Runaway (w_ Rhea Butcher).mp3',\n",
       " '100 Junior.mp3',\n",
       " '103 Zardoz (w_ Brett Gelman).mp3',\n",
       " '170 Bratz (w_ Kate Berlant).mp3',\n",
       " '141 The Shadow_ LIVE! (w_ Pete Davidson).mp3',\n",
       " '145. Vampire Academy (w_ Michael Showalter, Aisling Bea).mp3',\n",
       " '86. Ernest Goes To Jail (w_ Lesley Arfin).mp3',\n",
       " '261. A Talking Cat!! with Jessica St  Clair.mp3',\n",
       " '33 Abduction (w_ Jessica Chaffin).mp3',\n",
       " '243 The Peanut Butter Solution.mp3',\n",
       " '48 Sleepaway Camp.mp3',\n",
       " '75 Daredevil (w_ Ed Brubaker).mp3',\n",
       " '176 Jazz Singer_ LIVE! (w_ Chris Gethard).mp3',\n",
       " '15 The Back-Up Plan (w_ Jackie Clarke).mp3',\n",
       " '61 Stop! Or My Mom Will Shoot (w_ Kate Spencer).mp3',\n",
       " '10. Mac _ Me.mp3',\n",
       " '213. Shanghai Surprise (w_ Jordan Rubin).mp3',\n",
       " '22. Leprechaun in the Hood.mp3',\n",
       " '167 Chopping Mall_ LIVE! (w_ Mary Holland).mp3',\n",
       " '70 Gymkata_ LIVE! (w_ Michael Showalter).mp3',\n",
       " '59 Spice World (w_ Retta).mp3',\n",
       " '271. Fast _ Furious F9 with Adam Scott.mp3',\n",
       " '41 Spider-Man 3.mp3',\n",
       " '125 Steel_ LIVE! (w_ Anders Holm).mp3',\n",
       " '101 Xanadu_ LIVE! (w_ Michaela Watkins).mp3',\n",
       " '161 The Fate of the Furious (w_ Adam Scott).mp3',\n",
       " '133 The Quest (w_ Jon Gabrus).mp3',\n",
       " '7 All About Steve (w_ Brandon Johnson).mp3',\n",
       " '25 Catwoman.mp3',\n",
       " '293. Grand Piano.mp3',\n",
       " '212. Hello Mary Lou_ Prom Night II_ LIVE! (w_ Charlize Theron, Seth Rogen).mp3',\n",
       " '289 Shattered.mp3',\n",
       " '298. Music from Another Room.mp3',\n",
       " '90 Sharknado 2_ The Second One (w_ Scott Aukerman).mp3',\n",
       " '122 Death Spa_ LIVE! (w_ Horatio Sanz).mp3',\n",
       " '171 Miami Connection_ LIVE! (w_ Chris Geere).mp3',\n",
       " '256 10 Year Anniversary Reflections_Burlesque Re-Release.mp3',\n",
       " '108 Con Air LIVE! (w_ Seth Grahame-Smith).mp3',\n",
       " '62 Joyful Noise\\u2028 (w_ Fred Stoller).mp3',\n",
       " '99 A View To a Kill_ LIVE (w_ Matt Gourley, Matt Mira).mp3',\n",
       " '288. Dancin It_s On.mp3',\n",
       " '26 Jingle All The Way.mp3',\n",
       " '88 Mr. Nanny_ LIVE! (w_ Rob Corddry).mp3',\n",
       " '270. The 6th Day.mp3',\n",
       " '204. Holiday in Handcuffs (w_ Jessica St. Clair).mp3',\n",
       " '154 Highlander II_ The Quickening LIVE! (w_ Sam Richardson).mp3',\n",
       " '240 Megaforce_ LIVE!.mp3',\n",
       " '36 On the Line.mp3',\n",
       " '13 Crank 2_ High Voltage (w_ Jensen Karp).mp3',\n",
       " '79 Deck the Halls_ LIVE! (w_ Andrea Savage).mp3',\n",
       " '50 Twilight_ Breaking Dawn Pt. 2 (w_ Doug Benson).mp3',\n",
       " '296.5 Tuff Turf Last Looks.mp3',\n",
       " '115. Sharknado 3_ Oh Hell No! (w_ Scott Aukerman).mp3',\n",
       " '148 Vampire_s Kiss_ LIVE! (w_ Hayes Davenport).mp3',\n",
       " '163 The Running Man (w_ Kulap Vilaysack).mp3',\n",
       " '259. Holy Matrimony 1994 _ Patricia Arquette.mp3',\n",
       " '226. Body of Evidence_ LIVE!.mp3',\n",
       " '200 Action Jackson_ LIVE! (w_ Seth Rogen).mp3',\n",
       " '247 2_22 LIVE!.mp3',\n",
       " '131. The Covenant (w_ Alison Rich).mp3',\n",
       " '296. Tuff Turf.mp3',\n",
       " '297. The Stardust Brothers.mp3',\n",
       " '5. Drive Angry.mp3',\n",
       " '275. Bugsy Malone.mp3',\n",
       " '23 The Room_ Director_s Edition.mp3',\n",
       " '140 Mannequin Two_ On the Move (w_ Steve Agee).mp3',\n",
       " '38 Bad Ass (w_ Danny Trejo).mp3',\n",
       " '175. Ultraviolet_ LIVE! (w_ Nick Wiger, Mike Mitchell).mp3',\n",
       " '183 Ladybugs_ LIVE! (w_ Patton Oswalt).mp3',\n",
       " '18. Gigli.mp3',\n",
       " '192 Striptease_ LIVE!.mp3',\n",
       " '52 Reindeer Games.mp3',\n",
       " '156 xXx_ Return of Xander Cage_ LIVE! (w_ Adam Scott).mp3',\n",
       " '97. Rhinestone_ LIVE! (w_ Matt Jones).mp3',\n",
       " '273. The island.mp3',\n",
       " '152 The 2nd Annual Howdies Pt. 2.mp3',\n",
       " '238 Bloodshot (w_ Adam Scott).mp3',\n",
       " '245 Money Plane.mp3',\n",
       " '137 The Avengers_ LIVE! (w_ Tom Scharpling).mp3',\n",
       " '9 Fast Five.mp3',\n",
       " '184 Johnny Mnemonic_ LIVE! (w_ Jessica St. Clair).mp3',\n",
       " '230. Fateful Findings_ LIVE! (w_ Rob Huebel).mp3',\n",
       " '255 A Very Nutty Christmas.mp3',\n",
       " '64 After Earth (w_ Paul F. Tompkins).mp3',\n",
       " '155. Airborne_ LIVE! (w_ Scott Aukerman, Kumail Nanjiani, Danielle Schneider).mp3',\n",
       " '221. The Hottie and the Nottie_ LIVE!.mp3',\n",
       " '198 Look Who_s Talking Too_ LIVE!.mp3',\n",
       " '249 Deadly Mile High Club.mp3',\n",
       " '279. Made in Heaven.mp3',\n",
       " '84 No Holds Barred_ LIVE! (w_ Thomas Lennon).mp3',\n",
       " '56 Nothing But Trouble.mp3',\n",
       " '277. Uninvited.mp3',\n",
       " '268 Tough Guys Don_t Dance.mp3',\n",
       " '193 Blues Brothers 2000_ LIVE!.mp3',\n",
       " '29 Trespass (w_ Rachael Harris).mp3',\n",
       " '290. Stone Cold.mp3',\n",
       " '209. The Snowman_ LIVE! (w_ Erin Gibson, Bryan Safi).mp3',\n",
       " '262 Zack Snyder_s Justice League (w_ Gri.mp3',\n",
       " '285. Voyage of the Rock Aliens.mp3',\n",
       " '66 Demolition Man_ LIVE! (w_ Wyatt Cenac).mp3',\n",
       " '160 The Lake House_ LIVE! (w_ Starlee Kine, Aisling Bea).mp3',\n",
       " '269. Replicas.mp3',\n",
       " '303. Wish Upon.mp3',\n",
       " '113 Teenage Mutant Ninja Turtles II_ The Secret of the Ooze_ LIVE! (w_ Adam Pally).mp3',\n",
       " '95 Temptation_ Confessions of a Marriage Counselor (w_ Katie Aselton).mp3']"
      ]
     },
     "execution_count": 1,
     "metadata": {},
     "output_type": "execute_result"
    }
   ],
   "source": [
    "import glob \n",
    "base_dir = '/Users/kaleb/Documents/HDTGM Episodes'\n",
    "\n",
    "all_files = glob.glob(f\"{base_dir}/*\")\n",
    "fnames = [f.split('/')[-1] for f in all_files]\n"
   ]
  },
  {
   "cell_type": "code",
   "execution_count": 2,
   "metadata": {},
   "outputs": [],
   "source": [
    "from imdb import Cinemagoer\n",
    "\n",
    "ia = Cinemagoer()"
   ]
  },
  {
   "cell_type": "code",
   "execution_count": 8,
   "metadata": {},
   "outputs": [],
   "source": [
    "x = ia.search_movie('Snowmance')[0] "
   ]
  },
  {
   "cell_type": "code",
   "execution_count": 9,
   "metadata": {},
   "outputs": [
    {
     "data": {
      "text/plain": [
       "{'title': 'Snowmance',\n",
       " 'year': 2017,\n",
       " 'kind': 'tv movie',\n",
       " 'cover url': 'https://m.media-amazon.com/images/M/MV5BNGM3MmIyYmYtYWI0Yi00YTAyLWI0YTAtZWNjNTAwNjlhNTI0XkEyXkFqcGdeQXVyODEyNzgyNDg@._V1_QL75_UX50_CR0,1,50,74_.jpg'}"
      ]
     },
     "execution_count": 9,
     "metadata": {},
     "output_type": "execute_result"
    }
   ],
   "source": [
    "x.data"
   ]
  },
  {
   "cell_type": "code",
   "execution_count": 12,
   "metadata": {},
   "outputs": [
    {
     "data": {
      "text/plain": [
       "<Movie id:7657428[http] title:_Snowmance (2017) (TV)_>"
      ]
     },
     "execution_count": 12,
     "metadata": {},
     "output_type": "execute_result"
    }
   ],
   "source": [
    "y= ia.get_movie(x.getID())\n",
    "y"
   ]
  },
  {
   "cell_type": "code",
   "execution_count": 18,
   "metadata": {},
   "outputs": [
    {
     "data": {
      "text/plain": [
       "'Sarah has always been a true romantic, so her favorite Christmas tradition is building her annual \"Snow Beau\" snowman with her best friend Nick. After another breakup right before the holidays, Sarah begins to wonder if she\\'ll ever find her very own true love. When a little Christmas magic brings her Snow Beau to life as the romantically-perfect Cole, Sarah must decide whether to pursue the romance she\\'s always dreamed of or the true love that has been right in front of her all along.'"
      ]
     },
     "execution_count": 18,
     "metadata": {},
     "output_type": "execute_result"
    }
   ],
   "source": [
    "y['plot outline']"
   ]
  },
  {
   "cell_type": "code",
   "execution_count": 135,
   "metadata": {},
   "outputs": [
    {
     "data": {
      "text/plain": [
       "{'title': 'Deadfall',\n",
       " 'episode_no': '218',\n",
       " 'imdb_info': {'imdb_title': 'Deadfall',\n",
       "  'genres': ['Crime', 'Drama', 'Thriller'],\n",
       "  'description': 'After a heist of a casino, the criminal Addison and his sister Liza are on the run to Canada. Addison tells his sister to get a ride to the border while he will cross the woods. Meanwhile, the former boxer Jay, released from prison on probation, calls his mother June who invites her son for Thanksgiving dinner. While driving on the road, he sees Liza and gives her a ride. But Sheriff Marshall T. Becker is hunting Addison with his men but excludes his daughter, Deputy Hanna, from the hunting party. An unlikely gathering of characters for a Thanksgiving celebration.',\n",
       "  'rating': 6.2,\n",
       "  'year': 2012,\n",
       "  'cast': ['Eric Bana', 'Olivia Wilde', 'Dennis Lafond']}}"
      ]
     },
     "execution_count": 135,
     "metadata": {},
     "output_type": "execute_result"
    }
   ],
   "source": [
    "test = '218. Deadfall LIVE! (w_ Chelsea Peretti).mp3'\n",
    "import re \n",
    "\n",
    "def strip_to_title(filename):\n",
    "    cut_strings = ['.mp3', 'LIVE!', 'LIVE']\n",
    "\n",
    "    title_str = filename\n",
    "    if ')' not in title_str and '(' in title_str:\n",
    "        title_str = title_str.replace('.mp3', ').mp3')\n",
    "\n",
    "    # Remove everything up to first letter\n",
    "    title_str = re.sub('^[^A-Za-z]+', '', title_str)\n",
    "    title_str = re.sub('\\([^)]*\\)', '', title_str)\n",
    "    for c in cut_strings:\n",
    "        title_str = title_str.replace(c, '')\n",
    "\n",
    "    search_results = ia.search_movie(title_str.strip())\n",
    "    \n",
    "    check_ind, found_movie = 0, False\n",
    "    while check_ind < len(search_results) and not found_movie:\n",
    "        first_movie = ia.get_movie(search_results[check_ind].getID())    \n",
    "        if 'plot' in first_movie.keys():\n",
    "            found_movie = True\n",
    "        else:\n",
    "            check_ind += 1\n",
    "    \n",
    "    # If it couldn't be found, or if it's a TV show (number of episodes), skip\n",
    "    # Later, let's replace the search results query with a fuzzy match, and if match < thresh skip\n",
    "    if check_ind == len(search_results) or 'number of episodes' in first_movie.keys():\n",
    "        imdb_info = {}\n",
    "    else:\n",
    "        imdb_info = {\n",
    "            'imdb_title': first_movie['title'],\n",
    "            'genres': first_movie['genres'],\n",
    "            'description': first_movie['plot outline'] if 'plot outline' in first_movie.keys() else first_movie['plot'],\n",
    "            'rating': first_movie['rating'],\n",
    "            'year': first_movie['year'],\n",
    "            'cast': [c['name'] for c in first_movie['cast'][:3]]\n",
    "        }\n",
    "    \n",
    "    # Get episode number from title\n",
    "    episode_no = re.search('(^([0-9]+))', filename).group(0)\n",
    "\n",
    "    res = {\n",
    "        'title': title_str.strip(),\n",
    "        'episode_no': episode_no,\n",
    "        'imdb_info': imdb_info\n",
    "    }\n",
    "    return res\n",
    "\n",
    "strip_to_title(test)\n"
   ]
  },
  {
   "cell_type": "code",
   "execution_count": 136,
   "metadata": {},
   "outputs": [
    {
     "name": "stdout",
     "output_type": "stream",
     "text": [
      "Stripping file: 142. The Phantom_ LIVE! (w_ Eliza Skinner, Ed Brubaker).mp3\n",
      "{'title': 'The Phantom_', 'episode_no': '142', 'imdb_info': {'imdb_title': 'The Phantom of the Opera', 'genres': ['Drama', 'Musical', 'Romance', 'Thriller'], 'description': \"Begins when an opera ghost terrorizes the cast and crew of the French Opera House while tutoring a chorus girl. He finally drives the lead soprano crazy so she and her friend leave. The girl is able to sing lead one night but the soprano doesn't want her show stolen so she comes back. The ghost demands they keep giving his protégé lead roles. Meanwhile, His pupil falls in love with the Vicomte de Chagny, but the Phantom is in love with Christine, his student. The Phantom is outraged by their love and kidnaps Christine to be his eternal bride. Will Raoul, the Vicomte, be able to stop this dastardly plan?\", 'rating': 7.2, 'year': 2004, 'cast': ['Gerard Butler', 'Emmy Rossum', 'Patrick Wilson']}}\n",
      "Stripping file: 200th Mini Retrospective Clip Show Spectacular!.mp3\n",
      "{'title': 'th Mini Retrospective Clip Show Spectacular!)', 'episode_no': '200', 'imdb_info': {}}\n",
      "Stripping file: 252 Governor Gabbi_ LIVE!.mp3\n",
      "{'title': 'Governor Gabbi_ )', 'episode_no': '252', 'imdb_info': {'imdb_title': 'Governor Gabbi', 'genres': ['Comedy'], 'description': ['A college student is mistakenly elected governor.'], 'rating': 2.0, 'year': 2017, 'cast': ['Gabrielle Jones', 'Nanette Geree Rice', 'Pete Accetturo']}}\n",
      "Stripping file: 244 My Demon Lover.mp3\n",
      "{'title': 'My Demon Lover)', 'episode_no': '244', 'imdb_info': {'imdb_title': 'My Demon Lover', 'genres': ['Comedy', 'Fantasy', 'Horror'], 'description': 'Denny has yet again been left by her thug boyfriend Chip. It seems as if she is doomed to be stuck with awful guys, this time she has to choose between nerdy Charles and the strange Kaz, who turns into a monster when sexually aroused.', 'rating': 4.6, 'year': 1987, 'cast': ['Scott Valentine', 'Michele Little', 'Robert Trebor']}}\n",
      "Stripping file: 96. Monkey Shines.mp3\n",
      "{'title': 'Monkey Shines)', 'episode_no': '96', 'imdb_info': {'imdb_title': 'Monkey Shines', 'genres': ['Drama', 'Horror', 'Sci-Fi', 'Thriller'], 'description': \"When Allan becomes a quadriplegic he loses all hope for living until he meets Ella - a monkey trained to fetch and carry for him around the house, obeying him in all things. But Ella is part of another experiment, and when she starts responding to Allan's underlying rage and frustration she has the ability to carry out her master's darkest wishes.\", 'rating': 6.2, 'year': 1988, 'cast': ['Jason Beghe', 'John Pankow', 'Kate McNeil']}}\n",
      "Stripping file: 105 Safe Haven (w_ Eliza Skinner, Jordan Rubin).mp3\n",
      "{'title': 'Safe Haven', 'episode_no': '105', 'imdb_info': {'imdb_title': 'Safe Haven', 'genres': ['Drama', 'Romance', 'Thriller'], 'description': \"When a mysterious young woman named Katie appears in the small North Carolina town of Southport, her sudden arrival raises questions about her past. Beautiful, self-effacing Katie seems determined to avoid forming personal ties until a series of events draws her into two reluctant relationships: one with Alex, a widowed store owner with a kind heart and two young children; and another with her plainspoken single neighbor Jo. Despite her reservations, Katie begins to let down her guard, putting down roots in the close-knit community and becoming increasingly attached to Alex and his family. But even as Katie begins to fall in love, she struggles with the dark, haunting, terrifying secret that set her on a shattering journey across the country to the sheltered oasis of Southport. With Jo's empathetic, stubborn support, Katie eventually realizes that she must choose between a life of transient safety and one of riskier rewards . . . and that in the darkest hour, love is the only true safe haven.\", 'rating': 6.6, 'year': 2013, 'cast': ['Julianne Hough', 'Irene Ziegler', 'Jon Kohler']}}\n",
      "Stripping file: 71 The Glimmer Man (w_ Jon Lajoie).mp3\n",
      "{'title': 'The Glimmer Man', 'episode_no': '71', 'imdb_info': {'imdb_title': 'The Glimmer Man', 'genres': ['Action', 'Comedy', 'Crime', 'Drama', 'Thriller'], 'description': 'Jack Cole is a soft spoken, mystical, new age New York cop with a checkered past. He is transferred to Los Angeles to help Los Angeles cop Jim Campbell solve a series of brutal murders in which the victims are crucified. The murders that have happened since Jack arrived in Los Angeles just don\\'t sit right with him. When the killer, known as the \"Family Man\", kills Ellen DunLeavy, who happens to be Jack\\'s ex wife and the mother of his two kids, and Ellen\\'s husband Andrew DunLeavy, it becomes personal - especially when Jack\\'s prints are found on Ellen\\'s body. Jack meets with his military mentor Smith, not knowing that Smith is in cahoots with local crime boss Frank Deverell.', 'rating': 5.4, 'year': 1996, 'cast': ['Steven Seagal', 'Keenen Ivory Wayans', 'Bob Gunton']}}\n",
      "Stripping file: 199 A Night In Heaven_ LIVE! (w_ Tawny Newsome, Jen D_Angelo).mp3\n",
      "{'title': 'A Night In Heaven_', 'episode_no': '199', 'imdb_info': {'imdb_title': 'A Night in Heaven', 'genres': ['Drama', 'Romance'], 'description': 'Faye Hanlon is a prim and practical woman with a NASA engineer husband and a career as a professor at a small Florida college. Among her least favorite students is cocky Rick Monroe who is secretly paying his tuition as male stripper \"Ricky the Rocket\". When Faye is brought to a sweaty disco full of sweaty housewives, she is shocked to become a front-row witness to - and reluctant participant in - Ricky\\'s explosive performance. Now each kiss has its result of actions, every lie will take its toll. And two desperate lovers will pay the ultimate price for a night in \"Heaven\".', 'rating': 4.2, 'year': 1983, 'cast': ['Christopher Atkins', 'Lesley Ann Warren', 'Robert Logan']}}\n",
      "Stripping file: 210. Van Helsing_ LIVE! (w_ Seth Rogen, Riki Lindhome, Ben Blacker).mp3\n",
      "{'title': 'Van Helsing_', 'episode_no': '210', 'imdb_info': {'imdb_title': 'Van Helsing', 'genres': ['Action', 'Adventure', 'Fantasy', 'Thriller'], 'description': \"Van Helsing is in the world to rid all evil, even if not everyone agrees with him. The Vatican sends the monster hunter and his ally, Carl, to Transylvania. They have been sent to this land to stop the powerful Count Dracula. Whilst there they join forces with a Gypsy Princess called Anna Valerious, who is determined to end an ancient curse on her family by destroying the vampire. They just don't know how!\", 'rating': 6.0, 'year': 2004, 'cast': ['Hugh Jackman', 'Kate Beckinsale', 'Richard Roxburgh']}}\n",
      "Stripping file: 225. Friday the 13th Part VI_ Jason Lives_ LIVE!.mp3\n",
      "{'title': 'Friday the 13th Part VI_ Jason Lives_ )', 'episode_no': '225', 'imdb_info': {'imdb_title': 'Friday the 13th Part VI: Jason Lives', 'genres': ['Horror', 'Thriller'], 'description': \"Tommy Jarvis returns to the graveyard to make sure Jason Voorhees is dead and accidentally brings him back to life. Now it's up to Tommy to stop Jason's mindless killing and put him back where he belongs.\", 'rating': 6.0, 'year': 1986, 'cast': ['Thom Mathews', 'Jennifer Cooke', 'David Kagen']}}\n",
      "Stripping file: 172 The Last Dragon_ LIVE! (w_ Hannibal Buress).mp3\n",
      "{'title': 'The Last Dragon_', 'episode_no': '172', 'imdb_info': {'imdb_title': 'Raya and the Last Dragon', 'genres': ['Animation', 'Action', 'Adventure', 'Comedy', 'Drama', 'Family', 'Fantasy'], 'description': \"Long ago, in the fantasy world of Kumandra, humans and dragons lived together in harmony. However, when sinister monsters known as the Druun threatened the land, the dragons sacrificed themselves to save humanity. Now, 500 years later, those same monsters have returned, and it's up to a lone warrior to track down the last dragon and stop the Druun for good.\", 'rating': 7.3, 'year': 2021, 'cast': ['Kelly Marie Tran', 'Awkwafina', 'Izaac Wang']}}\n",
      "Stripping file: 34 The Adventures of Pluto Nash (w_ Lennon Parham, Jessica St. Clair).mp3\n",
      "{'title': 'The Adventures of Pluto Nash', 'episode_no': '34', 'imdb_info': {'imdb_title': 'The Adventures of Pluto Nash', 'genres': ['Action', 'Comedy', 'Sci-Fi'], 'description': 'The year is 2087, the setting is the moon. Pluto Nash (Murphy), the high-flying successful owner of the hottest nightclub in the universe, finds himself in trouble when he refuses to sell his club to lunar gangster Mogan (Pantoliano), who just happens to be helping the mysterious Rex Crater mastermind a plan to take over the entire moon.', 'rating': 3.9, 'year': 2002, 'cast': ['Eddie Murphy', 'Randy Quaid', 'Rosario Dawson']}}\n",
      "Stripping file: 31. Birdemic_ LIVE!.mp3\n",
      "{'title': 'Birdemic_ )', 'episode_no': '31', 'imdb_info': {'imdb_title': 'Birdemic: Shock and Terror', 'genres': ['Horror', 'Thriller'], 'description': \"In the town of Half Moon Bay, California, an epidemic is on the horizon: a Birdemic. All the birds are attacking humanity for the devastating damage that they are inflicting on the earth: they're going after gas stations and people's cars, and the birds have something the humans will never see coming: Bird-Acid.\", 'rating': 1.7, 'year': 2010, 'cast': ['Alan Bagh', 'Whitney Moore', 'Tippi Hedren']}}\n",
      "Stripping file: 197 Beastly_ LIVE!.mp3\n",
      "{'title': 'Beastly_ )', 'episode_no': '197', 'imdb_info': {'imdb_title': 'Beastly', 'genres': ['Drama', 'Fantasy', 'Romance'], 'description': \"At the Buckeston Academy High School, the wealthy, arrogant, narcissistic, and bigoted Kyle Kingson is a student who does not respect his classmates. When Kyle is elected representative of the students, he plays a prank on the outcast Kendra, who has a reputation as a witch: he invites her to a party and humiliates her in front of their classmates. However, Kendra curses him with a spell that makes Kyle as ugly as his soul. Further, she tells him that if he does not find anyone who loves him within a year, he will be doomed to that appearance forever. When Kyle's father, Rob Kingson, sees him, he takes Kyle to specialists but the doctors do not know what to do, so Rob hides Kyle in an apartment with a maid and a blind tutor. When Kyle sees his mate Lindy on the streets, he saves her from a dangerous drug dealer and he brings her to his apartment to protect her. Now his only hope is that Lindy will fall in love with him.\", 'rating': 5.5, 'year': 2011, 'cast': ['Alex Pettyfer', 'Justin Bradley', 'Mary-Kate Olsen']}}\n",
      "Stripping file: 177. The Disaster Artist (w_ James Franco, Seth Rogen, Tommy Wiseau).mp3\n",
      "{'title': 'The Disaster Artist', 'episode_no': '177', 'imdb_info': {'imdb_title': 'The Disaster Artist', 'genres': ['Biography', 'Comedy', 'Drama'], 'description': 'Aspiring actor Greg Sestero befriends the eccentric Tommy Wiseau. The two travel to L.A., and when Hollywood rejects them, Tommy decides to write, direct, produce and star in their own movie. That movie is, \"The Room,\" which has attained cult status as the \"Citizen Kane\" of bad movies.', 'rating': 7.3, 'year': 2017, 'cast': ['Dave Franco', 'James Franco', 'Seth Rogen']}}\n",
      "Stripping file: 44 Jaws 4_ The Revenge (w_ Jake Fogelnest).mp3\n",
      "{'title': 'Jaws 4_ The Revenge', 'episode_no': '44', 'imdb_info': {'imdb_title': 'Jaws: The Revenge', 'genres': ['Adventure', 'Horror', 'Thriller'], 'description': \"After the encounter with the shark at Sea World, Sean Brody has returned to Amity. Here he has assumed his father's role, working for the police department, and is engaged to a young woman named Tiffany. His mother, Ellen, still lives in Amity as well. Mike Brody is now married to Carla and is researching conch snails with his partner, Jake, in the Bahamas. One night, while repairing a buoy in Amity harbor from the police boat, Sean is ambushed from below and killed by the Brodys' old enemy, a Great White shark. After the funeral, Ellen wants Mike to stay off the water, but he refuses, and takes Ellen back to the Caribbean with him and his wife and daughter, Thea. Ellen starts trying to enjoy life again, meeting charming pilot Hoagie after having been a widow for some time. Mike and Jake encounter the Great White shark in the water, and tag and track it for research. But the shark soon starts wreaking havoc, and comes after Thea on a banana boat ride. Now, Ellen, Mike, Jake, and Hoagie will face the shark on his terms. Who will survive?\", 'rating': 3.0, 'year': 1987, 'cast': ['Lorraine Gary', 'Lance Guest', 'Mario Van Peebles']}}\n",
      "Stripping file: 65 Howard the Duck_ LIVE! (w_ Kristen Schaal).mp3\n",
      "{'title': 'Howard the Duck_', 'episode_no': '65', 'imdb_info': {'imdb_title': 'Howard the Duck', 'genres': ['Action', 'Adventure', 'Comedy', 'Romance', 'Sci-Fi'], 'description': \"A scientific experiment unknowingly brings extraterrestrial life forms to the Earth through a laser beam. First is the cigar smoking drake Howard from the duck's planet. A few kids try to keep him from the greedy scientists and help him back to his planet. But then a much less friendly being arrives through the beam...\", 'rating': 4.7, 'year': 1986, 'cast': ['Lea Thompson', 'Jeffrey Jones', 'Tim Robbins']}}\n",
      "Stripping file: 57 From Justin To Kelly_ LIVE!.mp3\n",
      "{'title': 'From Justin To Kelly_ )', 'episode_no': '57', 'imdb_info': {'imdb_title': 'From Justin to Kelly', 'genres': ['Comedy', 'Musical', 'Romance'], 'description': 'Spring break in Miami is the scene. It\\'s where surf-drenched guys cruise girls in bikinis and raucous parties rule day and night. It\\'s the perfect time and place for three young women from Texas and a trio of college guys from Pennsylvania to find adventure and maybe even fall in love. In a Texas dive bar, Kelly is singing her heart out to a few local yokels when her best friends Kaya and Alexa try and tempt her away for some fun in the Florida sun. It\\'s an easy sell--even for the cautious Kelly - and the three head for Miami. Making their way to the same destination is the \"Pennsylvania Posse\": college students Justin, Brandon, and Eddie. Justin and Brandon are smooth-talking party promoters, while Eddie\\'s primed to meet Lizzie, the cyber dream girl he\\'s been e-mailing for months. Miami Beach, beating with a rhythm all its own, is teeming with beautiful people. Kelly\\'s friends are drawn into the beachside fun, while Kelly tentatively navigates a sea of strangers. When her eyes meet Justin\\'s, everything changes--in an instant. While Kaya and Alexa are content to survey the parade of eye candy, Kelly\\'s now only interested in the guy with the irresistible smile. The feeling is mutual, and Justin\\'s on fire. But as luck would have it, he loses Kelly\\'s number--and boy-crazy Alexa has already set her sights on Justin. She will stop at nothing--even betraying a friend--to nab Justin as her own. Will true love win out for the star-crossed Justin and Kelly?', 'rating': 1.9, 'year': 2003, 'cast': ['Kelly Clarkson', 'Justin Guarini', 'Katherine Bailess']}}\n",
      "Stripping file: 223. Disclosure (w_ Nick Kroll, Emily Altman).mp3\n",
      "{'title': 'Disclosure', 'episode_no': '223', 'imdb_info': {'imdb_title': 'Disclosure', 'genres': ['Drama', 'Thriller'], 'description': \"Tom Sanders is a manager at a computer company in Seattle. Happily married with children, Tom had big hopes for a promotion by his boss, but it goes to Meredith Johnson, Tom's seductive ex-girlfriend, instead. Somehow Tom takes it with a grain of salt, until a personal meeting turns into a seduction when Meredith decides to relive her sexual fantasy and pick up from where they left off. Tom refuses, making Meredith frustrated. Tom's only choice; to sue for sexual harassment. But everyone believes it was the other way around and his boss wants to transfer him to another division, forcing him to lose everything. Tom discovers not only is the system rigged against him, but Meredith's going to destroy his career, and bolster her own by blaming him for a serious error of judgment on her part.\", 'rating': 6.1, 'year': 1994, 'cast': ['Michael Douglas', 'Demi Moore', 'Donald Sutherland']}}\n",
      "Stripping file: 120 Masters of the Universe (w_ Tatiana Maslany).mp3\n",
      "{'title': 'Masters of the Universe', 'episode_no': '120', 'imdb_info': {'imdb_title': 'Masters of the Universe', 'genres': ['Action', 'Adventure', 'Fantasy', 'Sci-Fi'], 'description': 'On the planet Eternia, Skeletor and his dark army overthrow the Sorceress of Castle Grayskull expecting to acquire her power. He-Man, his old friend Duncan \"Man-at-Arms\" and his daughter Teela are attacked by Skeletor\\'s soldiers and they defeat them. They also rescue their prisoner, the inventor and locksmith Gwildor. He explains that he was lured by Evil-Lyn that used his invention the Cosmic Key to open the gates and seize the Castle Grayskull. He-Man and his friends retrieve the prototype of the Cosmic Key trying to release the Sorcereress but they are defeated by Skeletor and his army and Gwildor uses his key to open and portal for them to flee. They come to Earth but lose the key. Meanwhile, Julie Winston, who grieves the loss of her parents in a plane crash, and her boyfriend Kevin Corrigan find and activate the key, believing it is a foreign musical instrument. On Eternia, Evil-Lyn locates the Cosmic Key and Skeletor sends her with a group of mercenaries and soldiers to vanquish He-Han and his friends and bring the key back. Will they succeed?', 'rating': 5.3, 'year': 1987, 'cast': ['Dolph Lundgren', 'Frank Langella', 'Meg Foster']}}\n",
      "Stripping file: 266. Tammy and the T - Rex.mp3\n",
      "{'title': 'Tammy and the T - Rex)', 'episode_no': '266', 'imdb_info': {'imdb_title': 'Tammy and the T-Rex', 'genres': ['Comedy', 'Sci-Fi'], 'description': \"An evil scientist implants the brain of Michael, a murdered high school student, into an animatronic Tyrannosaurus. He escapes, wreaks vengeance on his high-school tormentors and is reunited with his sweetheart Tammy. Together, the couple tries to elude the mad scientist and the police and find a more appropriate vessel for Michael's brain.\", 'rating': 5.3, 'year': 1994, 'cast': ['Denise Richards', 'Theo Forsett', 'Paul Walker']}}\n",
      "Stripping file: 274. The Dirt Bike Kid.mp3\n",
      "{'title': 'The Dirt Bike Kid)', 'episode_no': '274', 'imdb_info': {'imdb_title': 'The Dirt Bike Kid', 'genres': ['Comedy', 'Family', 'Fantasy'], 'description': 'When his mother sends Jack off with money to buy groceries, he comes home with a magic supercharged dirt bike instead. His mother is furious, but when Jack uses the magic bike to save the local hot dog stand from the clutches of corrupt big business, he becomes the town hero.', 'rating': 5.3, 'year': 1985, 'cast': ['Peter Billingsley', 'Stuart Pankin', 'Anne Bloom']}}\n",
      "Stripping file: 237 Valerian And The City Of A Thousand.mp3\n",
      "{'title': 'Valerian And The City Of A Thousand)', 'episode_no': '237', 'imdb_info': {'imdb_title': 'Valerian and the City of a Thousand Planets', 'genres': ['Action', 'Adventure', 'Fantasy', 'Sci-Fi'], 'description': 'In the twenty-eighth century, space station Alpha is a city where beings from different planets live together exchanging their knowledge and culture. Peace is granted by a human force, including Major Valerian (Dane DeHaan) and his partner Sergeant Laureline (Cara Delevingne). They are assigned by the Defense Minister (Herbie Hancock) to retrieve the last species of converter in a dangerous mission. They succeed and back to Alpha, unknown humanoids abduct Commander Arun Filitt (Clive Owen) expecting to steal the converter. They head to a forbidden area that is infected, but Valerian and Laureline follow them and disclose a hidden secret about the race and the infected area.', 'rating': 6.4, 'year': 2017, 'cast': ['Dane DeHaan', 'Cara Delevingne', 'Clive Owen']}}\n",
      "Stripping file: 292. A Sound of Thunder.mp3\n",
      "{'title': 'A Sound of Thunder)', 'episode_no': '292', 'imdb_info': {'imdb_title': 'A Sound of Thunder', 'genres': ['Action', 'Adventure', 'Horror', 'Sci-Fi'], 'description': \"Chicago, 2055. Charles Hatton has made a fortune by founding 'Time safari', which offers rich 'big game hunters' short time travels to kill off dinosaurs just before their natural death. When scientist Travis Ryer notices the weather and wildlife are not behaving as usual, he consults Dr. Sonia Rand, the contractually invisible inventor of the supercomputer which controls time. They soon face 'time waves', each worsening the effects in 2055 of evolutionary distortions, lower lifeforms first. They attempt to identify and rectify the past alteration, but each attempt gets harder in their distorted present.\", 'rating': 4.2, 'year': 2005, 'cast': ['Armin Rohde', 'Heike Makatsch', 'Jemima Rooper']}}\n",
      "Stripping file: 241 Ninja III_ The Domination.mp3\n",
      "{'title': 'Ninja III_ The Domination)', 'episode_no': '241', 'imdb_info': {'imdb_title': 'Ninja III: The Domination', 'genres': ['Action', 'Fantasy', 'Thriller'], 'description': \"The body of a sexy aerobics instructor is invaded by the evil spirit of a dying ninja. At first, changes in her behavior is limited to having strange interactions with an arcade game, doing sexy things with V8 juice, and being attracted to an unusually hairy police officer. But soon enough, she's systematically killing, ninja-style, the officers responsible for the ninja's death, and can only be stopped by another ninja!\", 'rating': 5.4, 'year': 1984, 'cast': ['Shô Kosugi', 'Lucinda Dickey', 'Jordan Bennett']}}\n",
      "Stripping file: 91 The 1st Annual Howdies Pt. 1.mp3\n",
      "{'title': 'The 1st Annual Howdies Pt. 1)', 'episode_no': '91', 'imdb_info': {'imdb_title': '1st Annual Urban One Honors', 'genres': ['News'], 'description': 'The 1st ANNUAL URBAN ONE HONORS is a ceremony hosted by D.L. Hughley that celebrates the best in black culture and honors achievements made by individuals in the fields of radio, television, music, social media, politics and social activism. The event is held at the Anthem in Washington, D.C. and broadcast February 28, 2019 on TV One.', 'rating': 7.4, 'year': 2019, 'cast': ['D.L. Hughley', 'Jermaine Dupri', 'Brandy Norwood']}}\n",
      "Stripping file: 67 Sharknado (w_ Scott Aukerman).mp3\n",
      "{'title': 'Sharknado', 'episode_no': '67', 'imdb_info': {'imdb_title': 'Sharknado', 'genres': ['Action', 'Adventure', 'Comedy', 'Horror', 'Sci-Fi', 'Thriller'], 'description': 'Against all logic and the laws of nature, an unprecedented hurricane off the coast of Mexico rips out a ravenous shiver of sharks, making its way towards southern California. As the freakish meteorological phenomenon brings violent tempests and towering, shark-infested tidal waves, the former surfing champion and Santa Monica Pier bar-owner, Finley \"Fin\" Shepard, embarks on a peril-laden journey to Beverly Hills, fearing for the life of his estranged wife, April, and his teenage daughter, Candice. Now, Fin; his friend, Baz; barmaid, Nova, and his regular customer, George, must fight tooth and nail to stay alive, as batch after batch of the flying oceanic predators rains down on the unsuspecting Angelenos, gobbling down everything in their path. Who can stand in the way of the mighty Sharknado?', 'rating': 3.3, 'year': 2013, 'cast': ['Ian Ziering', 'Tara Reid', 'John Heard']}}\n",
      "Stripping file: 55 The Devil_s Advocate_ LIVE!.mp3\n",
      "{'title': 'The Devil_s Advocate_ )', 'episode_no': '55', 'imdb_info': {'imdb_title': \"The Devil's Advocate\", 'genres': ['Drama', 'Fantasy', 'Mystery', 'Thriller'], 'description': \"Kevin Lomax, a ruthless young Florida attorney who never lost a case, is recruited by the most powerful law firm in the world. In spite of his mother's disagreement (she compares New York City to Babylon), he accepts the offer and the money that comes along. But soon, his wife starts feeling homesick and seeing devilish apparitions. However, Kevin is sinking in his new cases and pays less and less attention to his wife. His boss and mentor, John Milton, seems to always know how to overcome every problem and that just freaks out Kevin.\", 'rating': 7.5, 'year': 1997, 'cast': ['Keanu Reeves', 'Al Pacino', 'Charlize Theron']}}\n",
      "Stripping file: 121 Perfect_ LIVE! (w_ Seth Morris).mp3\n",
      "{'title': 'Perfect_', 'episode_no': '121', 'imdb_info': {'imdb_title': 'Pitch Perfect', 'genres': ['Comedy', 'Music', 'Romance'], 'description': \"The Barden Bellas are a collegiate, all-girls a cappella singing group thriving on female pop songs and their perfect looks. After a disastrous failing at last year's finals, they are forced to regroup. Among the new recruits is freshman Beca, an independent, aspiring DJ with no interest in the college life. But after she meets Jesse, from the rival all-male a cappella group, Beca has a new outlook and takes it upon herself to help the Bellas find their new look and sound and get back into the competition.\", 'rating': 7.1, 'year': 2012, 'cast': ['Anna Kendrick', 'Skylar Astin', 'Ben Platt']}}\n",
      "Stripping file: 68. Over The Top_ LIVE! (w_ Bobby Moynihan).mp3\n",
      "{'title': 'Over The Top_', 'episode_no': '68', 'imdb_info': {'imdb_title': 'Over the Top', 'genres': ['Action', 'Drama', 'Sport'], 'description': 'Lincoln Hawk is a struggling trucker who arm wrestles on the side to make extra cash while trying to rebuild his life. He tries to make amends with his son who he left behind 10 years earlier. Upon their first meeting, his son does not think too highly of him until he enters the World Arm Wrestling Championships in Las Vegas. His hope is to receive the grand prize.', 'rating': 5.8, 'year': 1987, 'cast': ['Sylvester Stallone', 'Robert Loggia', 'Susan Blakely']}}\n",
      "Stripping file: 17. Skyline.mp3\n",
      "{'title': 'Skyline)', 'episode_no': '17', 'imdb_info': {'imdb_title': 'Skyline', 'genres': ['Action', 'Sci-Fi', 'Thriller'], 'description': \"Jarrod and his pregnant girlfriend Elaine travel to Los Angeles to meet his old friend and successful entrepreneur Terry, and his wife Candice. Terry gives a party in his apartment for Jarrod and offers a job position to him in LA. Terry's assistant and lover Denise (Crystal Reed) and his friend Ray (Neil Hopkins) sleep on the couch in the living room, but in the dawn of the next morning, the group is awakened by mysterious beams of blue light. Ray stares at the light and is taken by the mysterious force. The group of friends try to escape from the alien invaders.\", 'rating': 4.5, 'year': 2010, 'cast': ['Eric Balfour', 'Scottie Thompson', 'Brittany Daniel']}}\n",
      "Stripping file: 189 Sky Captain and the World of Tomorrow_ LIVE! (w_ Joe Mande, Tawny Newsome).mp3\n",
      "{'title': 'Sky Captain and the World of Tomorrow_', 'episode_no': '189', 'imdb_info': {'imdb_title': 'Sky Captain and the World of Tomorrow', 'genres': ['Action', 'Adventure', 'Mystery', 'Sci-Fi', 'Thriller'], 'description': 'In 1939, an intrepid reporter in New York City makes a connection between the story she\\'s covering, of famous scientists suddenly disappearing around the world, and a recent attack on the city by giant robots. Determined to find the solution to these happenings, she seeks the help of her ex-boyfriend, the Captain of a mercenary legion of pilots. The two are investigating the case when the robots attack the city again, though in a stroke of luck, Sky Captain Harry Joseph \"Joe\" Sullivan\\'s right-hand man Dex (Giovanni Ribisi) is able to locate their source. They then set off on an adventure in search of the evil mastermind behind these schemes, who is bent on creating a utopia and destroying the current world.', 'rating': 6.1, 'year': 2004, 'cast': ['Gwyneth Paltrow', 'Jude Law', 'Giovanni Ribisi']}}\n",
      "Stripping file: 239 Cool World.mp3\n",
      "{'title': 'Cool World)', 'episode_no': '239', 'imdb_info': {'imdb_title': 'Cool World', 'genres': ['Animation', 'Comedy', 'Fantasy'], 'description': 'When cartoonist Jack Deebs was behind bars, he found escape by creating \"Cool World\", a cartoon series featuring a voluptuous femme fatale named Holli Would. But the cartoonist becomes a prisoner of his own fantasies when Holli transports Jack into Cool World with a scheme to seduce him and bring herself to life. A hard-boiled detective--the only other human in Cool World--cautions Jack with the law: Noids (humans) don\\'t have sex with doodles (cartoons). However, the flesh proves weaker than ink as Holli takes human form in Las Vegas, staring in a trans-universal chase that threatens the destruction of both worlds. With a splashy combination of animation and live-action sequences, \"Cool World\" delivers the hottest action around.', 'rating': 4.8, 'year': 1992, 'cast': ['Janni Brenn', 'Brad Pitt', 'William Frankfather']}}\n",
      "Stripping file: 117. Theodore Rex_ LIVE!.mp3\n",
      "{'title': 'Theodore Rex_ )', 'episode_no': '117', 'imdb_info': {'imdb_title': 'Theodore Rex', 'genres': ['Action', 'Comedy', 'Family', 'Sci-Fi'], 'description': 'In a future town a female police detective (Whoopi Goldberg) has to colaborate with Theodore Rex, a genetically generated Tyrannosaurus Rex, in order to investigate the murder of another dinosaur.', 'rating': 2.4, 'year': 1995, 'cast': ['Whoopi Goldberg', 'Armin Mueller-Stahl', 'Juliet Landau']}}\n",
      "Stripping file: 287. Killing Me Softly.mp3\n",
      "{'title': 'Killing Me Softly)', 'episode_no': '287', 'imdb_info': {'imdb_title': 'Killing Me Softly', 'genres': ['Drama', 'Mystery', 'Romance', 'Thriller'], 'description': \"London website designer Alice was happy in a stable relationship with reliable, somewhat boring Jake, but she quickly dumps him after falling in love at first sight and having wild sex with an overbearing hot hunk, even before she discovers that he is famous mountaineer Adam Tallis, a studly celebrity about whom a book is currently being promoted. In no time they get married, despite anonymous warnings not to trust him. In Adam's presence she enjoys being his slavish sex-toy, but when alone at his place she can't resist snooping into his past. Finding out about women falling out of love with him, she concludes that her climbing rescuer is scarily, dangerously jealous.\", 'rating': 5.4, 'year': 2002, 'cast': ['Heather Graham', 'Joseph Fiennes', 'Natascha McElhone']}}\n",
      "Stripping file: 129. The Apple_ LIVE! (w_ Andy Richter).mp3\n",
      "{'title': 'The Apple_', 'episode_no': '129', 'imdb_info': {'imdb_title': 'The Apple', 'genres': ['Music', 'Musical', 'Sci-Fi'], 'description': 'Alphie and Bibi, two sweet, naive youths from Moose Jaw, Canada, have come to America to compete in the 1994 Worldvision Song Festival. Although the pair have talent, they are beaten out by the underhanded tactics of the festival favorites, another duo with the backing of BIM: Boogalow International Music, and its leader, Mr. Boogalow. Though crestfallen by their loss, Bibi and Alphie are soon delighted to hear that Mr. Boogalow has taken an interest in their music and wants to sign them to his label. All is looking up for the two until they begin to discover the dark underside of the rock and roll world.', 'rating': 4.3, 'year': 1980, 'cast': ['Catherine Mary Stewart', 'George Gilmour', 'Grace Kennedy']}}\n",
      "Stripping file: 20. Punisher_ War Zone.mp3\n",
      "{'title': 'Punisher_ War Zone)', 'episode_no': '20', 'imdb_info': {'imdb_title': 'Punisher: War Zone', 'genres': ['Action', 'Crime', 'Drama', 'Thriller'], 'description': \"Frank Castle, the ex-military man whose family was killed by criminals, who became a vigilante known as the Punisher, goes after a whole mob family and gets everyone except enforcer Billy Russoti. He tracks Russoti down and chases him into a vat that is used for crushing bottles. Frank turns on the crusher hoping it would take care of him but it doesn't. He survives but sustains very severe injuries that even with plastic surgery his face looks like a jigsaw puzzle. So he decides to adopt the name Jigsaw. Frank who killed one of Russoti's people who unknown to him is an undercover Fed, decides to pack it in. But when he learns Russoti didn't die and is looking for the money he entrusted to the Fed and will go looking for it at his home which means his family is in danger. So Frank tries to save them. But Russoti wants revenge on Frank so he breaks out his brother who is so crazed that he is committed to an asylum, to deal with him. And also another Fed who's a friend of the man Frank killed wants him too.\", 'rating': 5.9, 'year': 2008, 'cast': ['Ray Stevenson', 'Dominic West', 'Doug Hutchison']}}\n",
      "Stripping file: 201 Skyscraper (w_ Paul F. Tompkins, Rhea Butcher).mp3\n",
      "{'title': 'Skyscraper', 'episode_no': '201', 'imdb_info': {'imdb_title': 'Skyscraper', 'genres': ['Action', 'Adventure', 'Thriller'], 'description': \"FBI Hostage Rescue Team leader and U.S. war veteran Will Sawyer now assesses security for skyscrapers. On assignment in Hong Kong he finds the tallest, safest building in the world suddenly ablaze and he's been framed for it. A wanted man on the run, Will must find those responsible, clear his name and somehow rescue his family who are trapped inside the building - above the fire line.\", 'rating': 5.8, 'year': 2018, 'cast': ['Dwayne Johnson', 'Neve Campbell', 'Chin Han']}}\n",
      "Stripping file: 51 Liz and Dick (w_ Drew Droege).mp3\n",
      "{'title': 'Liz and Dick', 'episode_no': '51', 'imdb_info': {'imdb_title': 'Liz & Dick', 'genres': ['Biography', 'Drama', 'Romance'], 'description': \"On the set of Cleopatra, Hollywood's most beautiful star, Elizabeth Taylor, fell into the arms of one of the world's greatest actors, Richard Burton - and she didn't leave. Their subsequent white-hot, scandalous love affair gave rise to the paparazzi and they became the most hunted and photographed couple on earth. Their rocky, passionate, relationship, born in front of the cameras, was subsequently captured in a series of films, including The V.I.P.s and Who's Afraid of Virginia Woolf? The last of the great, extravagant stars, flaunting diamonds, yachts and private planes, they continually seized the headlines. They even divorced and married again - only to divorce again - but remain in each other's hearts. This Elizabeth Taylor - Richard Burton story is a no-holds barred account of their undying, but impossible love.\", 'rating': 4.0, 'year': 2012, 'cast': ['Lindsay Lohan', 'Grant Bowler', 'Theresa Russell']}}\n",
      "Stripping file: 185 Adore (w_ Charles Rogers, Jordan Firstman, Kulap Vilaysack).mp3\n",
      "{'title': 'Adore', 'episode_no': '185', 'imdb_info': {'imdb_title': 'Adore', 'genres': ['Drama', 'Romance'], 'description': 'Lil (Naomi Watts) and Roz (Robin Wright) are two lifelong friends, having grown up together as neighbors in an idyllic beach town. As adults, their sons have developed a friendship as strong as that which binds their mothers. One summer, all four are confronted by simmering emotions that have been mounting between them, and each find unexpected happiness in relationships that cross the bounds of convention.', 'rating': 6.2, 'year': 2013, 'cast': ['Naomi Watts', 'Robin Wright', 'Xavier Samuel']}}\n",
      "Stripping file: 109 Face Off_ LIVE! (w_ Randall Park).mp3\n",
      "{'title': 'Face Off_', 'episode_no': '109', 'imdb_info': {'imdb_title': 'Face/Off', 'genres': ['Action', 'Crime', 'Sci-Fi', 'Thriller'], 'description': \"Sean Archer, a very tough, rugged FBI Agent, is still grieving for his dead son Michael. Archer believes that his son's killer is his sworn enemy and a very powerful criminal, Castor Troy. One day, Archer has finally cornered Castor, however, their fight has knocked out Troy cold. As Archer finally breathes easy over the capture of his enemy, he finds out that Troy has planted a bomb that will destroy the entire city of Los Angeles and all of its inhabitants. Unfortunately the only other person who knows its location is Castor's brother Pollux, and he refuses to talk. The solution, a special operation doctor that can cut off people's faces, and can place a person's face onto another person. Archer undergoes one of those surgeries to talk to Pollux. However, Castor Troy somehow regains consciousness and now wants revenge on Archer for taking his face. Not only is Troy ruining Archer's mission, but his personal life as well. Archer must stop Troy again. This time, it's personal.\", 'rating': 7.3, 'year': 1997, 'cast': ['John Travolta', 'Nicolas Cage', 'Joan Allen']}}\n",
      "Stripping file: 188 Body Rock_ LIVE! (w_ Alison Brie).mp3\n",
      "{'title': 'Body Rock_', 'episode_no': '188', 'imdb_info': {'imdb_title': 'Body Rock', 'genres': ['Drama', 'Music', 'Musical'], 'description': \"Chilly D is a young man in New York who just lives for the thrill of rapping and breakdancing with his gang, the Body Rocks. One night after performing in a club with his friends, Chilly gets an offer to perform at a high-class nightspot with a chance at becoming a star. He grabs the opportunity and soon he's on top of the world. Surrounded by all the trappings of his new-found fame, however, Chilly loses touch with the people and lifestyle that made him what he is. Will he turn his back forever on his past, or remain true to his roots?\", 'rating': 3.6, 'year': 1984, 'cast': ['Lorenzo Lamas', 'Vicki Frederick', 'Cameron Dye']}}\n",
      "Stripping file: 228. High Strung (Live from The Beacon Theatre).mp3\n",
      "{'title': 'High Strung', 'episode_no': '228', 'imdb_info': {'imdb_title': 'High Strung', 'genres': ['Drama', 'Music', 'Romance'], 'description': 'When a hip hop violinist busking in the New York subway encounters a classical dancer on scholarship at the Manhattan Conservatory of the Arts, sparks fly. With the help of a hip hop dance crew they must find a common ground while preparing for a competition that could change their lives forever.', 'rating': 6.3, 'year': 2016, 'cast': ['Keenan Kampa', 'Nicholas Galitzine', 'Sonoya Mizuno']}}\n",
      "Stripping file: 294. Moonfall.mp3\n",
      "{'title': 'Moonfall)', 'episode_no': '294', 'imdb_info': {'imdb_title': 'Moonfall', 'genres': ['Action', 'Adventure', 'Sci-Fi'], 'description': \"A force knocks the Moon from its orbit and sends it on a collision course with Earth. A former astronaut's convinced she knows the key to saving us - but only a former lover, and an outsider believe her.\", 'rating': 5.1, 'year': 2022, 'cast': ['Halle Berry', 'Patrick Wilson', 'John Bradley']}}\n",
      "Stripping file: 295. Until We Meet Again.mp3\n",
      "{'title': 'Until We Meet Again)', 'episode_no': '295', 'imdb_info': {'imdb_title': 'Until We Meet Again', 'genres': ['Drama', 'Fantasy', 'Romance'], 'description': \"For thirty-five years the ghost of EDDIE CONWAY a passionate young pianist has haunted an old house in the Hollywood Hills, unable to move on without completing his piano concerto. Then a pretty Midwestern girl, LISA WAGNER, moves in and disrupt his afterlife. Lisa is also a musician, a young unknown with dreams of her own, and her spirit connects with Eddie's. The girl and the ghost find each other thru music. Lisa and Eddie become fond of each other. Naturally their fondness turns to romance, but they both know it's impossible. They resist the attraction as long as they can. Eventually love overcomes even death, then tragedy strikes.\", 'rating': 4.3, 'year': 2022, 'cast': ['Jackson Rathbone', 'Janel Parrish', 'Michael Madsen']}}\n",
      "Stripping file: 190 Hurricane Heist_ LIVE!.mp3\n",
      "{'title': 'Hurricane Heist_ )', 'episode_no': '190', 'imdb_info': {'imdb_title': 'The Hurricane Heist', 'genres': ['Action', 'Adventure', 'Crime', 'Thriller'], 'description': 'In 1992 Alabama, Will and Breeze Rutledge are evacuating from the destructive Category 5 Hurricane Andrew with their dad. However, their truck gets stuck after avoiding a toppling tree in front of them and they are forced to take refuge in a nearby house. While trying to save the truck from blowing away, strong winds blow a water tank loose and it crushes their dad, killing him. In present day, another destructive hurricane named Tammy approaches the town in Alabama. Treasury agent Casey Corbyn is ordered by fellow employee Randy Moreno to summon Breeze, who now works as a handyman, and whose brother Will is a meteorologist, to fix the generator at a cash storage facility. While she is out of the facility, rogue Treasury agents, led by Connor Perkins, infiltrate the facility and hold employee Moreno hostage..', 'rating': 5.1, 'year': 2018, 'cast': ['Toby Kebbell', 'Maggie Grace', 'Ryan Kwanten']}}\n",
      "Stripping file: 94 Glitter_ LIVE! (w_ Adam Scott, Casey Wilson, Dan Levy).mp3\n",
      "{'title': 'Glitter_', 'episode_no': '94', 'imdb_info': {'imdb_title': 'Glitter', 'genres': ['Drama'], 'description': ['A sentimental journey to the colorful Poland of the seventies, showing independent women who live by their own rules and tackle social taboos head-on.'], 'rating': 5.5, 'year': 2022, 'cast': ['Magdalena Poplawska', 'Ashley Adler', 'Lukasz Simlat']}}\n",
      "Stripping file: 116 Top Dog_ LIVE!.mp3\n",
      "{'title': 'Top Dog_ )', 'episode_no': '116', 'imdb_info': {'imdb_title': 'Top Dog', 'genres': ['Crime', 'Drama', 'Thriller'], 'description': 'A mysterious disappearance makes two completely separate worlds collide, creating an extremely odd couple - the lawyer Emily and recently released convict Teddy. They have two opposing desires. She wants up. He wants out. She wants to secure her future. He wants to leave his old life behind. They are both forced to think again when they end up in the middle of a dangerous conspiracy, where the past catches up to them, dreams for the future are destroyed and nothing is what it seems.', 'rating': 7.3, 'year': 2020, 'cast': ['Josefin Asplund', 'Alexej Manvelov', 'Gustav Lindh']}}\n",
      "Stripping file: 106. Deep Blue Sea_ LIVE! (w_ Evan Goldberg, Paul F. Tompkins).mp3\n",
      "{'title': 'Deep Blue Sea_', 'episode_no': '106', 'imdb_info': {'imdb_title': 'Deep Blue Sea', 'genres': ['Action', 'Adventure', 'Sci-Fi', 'Thriller'], 'description': \"A businessman sinks $200 million into a special project to help fight Alzheimer's disease. As part of this project, medical biologist Susan McAlester rather naughtily figures out a way to genetically enlarge shark brains, so that disease-battling enzymes can be harvested. However, the shark subjects become super smart and decide they don't much like being cooped up in pens and being stabbed with hypodermics, so they figure a way to break out and make for the open sea...\", 'rating': 5.9, 'year': 1999, 'cast': ['Thomas Jane', 'Saffron Burrows', 'Samuel L. Jackson']}}\n",
      "Stripping file: 127 Kazaam_ LIVE! (w_ Kay Cannon).mp3\n",
      "{'title': 'Kazaam_', 'episode_no': '127', 'imdb_info': {'imdb_title': 'Kazaam', 'genres': ['Comedy', 'Family', 'Fantasy', 'Musical'], 'description': 'Being a lone young boy in the \\'hood\" is dangerous and unpleasant. This is what Max experiences when he fools a gang of local toughs who cornered him at school. The gang finds out that the key he gave them is of no value in committing a robbery, and they chase him through the streets of his neighborhood, bent on revenge. He tries to escape by slipping into the open door of an old warehouse, but they follow him there, too. While running from them through aisles filled with all kinds of stuff, he bumps into an old boom box. By doing that, he manages to release Kazaam, a genie who has been held captive for thousands of years. In order to stay free, Kazaam must give Max three wishes.', 'rating': 3.1, 'year': 1996, 'cast': [\"Shaquille O'Neal\", 'Francis Capra', 'Ally Walker']}}\n",
      "Stripping file: 159 Sleepwalkers (w_ Lauren Lapkus).mp3\n",
      "{'title': 'Sleepwalkers', 'episode_no': '159', 'imdb_info': {'imdb_title': 'Sleepwalkers', 'genres': ['Fantasy', 'Horror'], 'description': 'Charles and his mother Mary move to a small Indiana town, having recently fled Bodega Bay, California after draining and killed a young girl there. They are sleepwalkers - they can change their appearance and they need the lifeforce from young women. Charles has picked out young girl Tanya, whom he meets at a local high school, as his next victim. He asks her out for a date and invites her home - however, she did not suspect his real interest in her. On their first date, a picnic at a nearby cemetery, he attempts to drain the lifeforce from her for himself and his mother.', 'rating': 5.3, 'year': 1992, 'cast': ['Brian Krause', 'Mädchen Amick', 'Alice Krige']}}\n",
      "Stripping file: 232. The Adventures of Pinocchio_ LIVE!.mp3\n",
      "{'title': 'The Adventures of Pinocchio_ )', 'episode_no': '232', 'imdb_info': {'imdb_title': 'Merlin', 'genres': ['Adventure', 'Drama', 'Fantasy'], 'description': \"Young Merlin (Colin Morgan) is a teenager, discovering and then learning to master his magical gift. Magister Gaius (Richard Wilson), King Uther Pendragon's (Anthony Head's) learned court physician to whom he's assigned as humble page, teaches him medicine, coaches his magical self-study, and warns him of Uther's strong aversion to magic. Merlin becomes squire to the noble but imprudent crown Prince, Arthur (Bradley James), whose fate is linked with Merlin.\", 'rating': 7.9, 'year': 2008, 'cast': ['John Hurt', 'Colin Morgan', 'Bradley James']}}\n",
      "Stripping file: 301. Open Windows.mp3\n",
      "{'title': 'Open Windows)', 'episode_no': '301', 'imdb_info': {'imdb_title': 'Open Windows', 'genres': ['Crime', 'Mystery', 'Thriller'], 'description': \"An actress named Jill refuses to have dinner with Nick, a fan who won a date with her in an Internet contest. In return, a guy named Chord, posing as Jill's campaign manager, helps Nick to follow in the footsteps of the actress from his own computer. Nick starts a game in which he realizes that he is only a puppet into the maniacal plans devised by Chord, to hunt down the star.\", 'rating': 5.1, 'year': 2014, 'cast': ['Elijah Wood', 'Sasha Grey', 'Neil Maskell']}}\n",
      "Stripping file: 224. Starcrash_ LIVE!.mp3\n",
      "{'title': 'Starcrash_ )', 'episode_no': '224', 'imdb_info': {'imdb_title': 'Starcrash', 'genres': ['Action', 'Adventure', 'Sci-Fi'], 'description': \"Outlaw smugglers Stella Star and Akton manage to pick up a castaway while running from the authorities, who turns out to be the only survivor from a secret mission to destroy a mysterious superweapon designed by the evil Count Zarth Arn. The smugglers are soon recruited by the Emperor of the Galaxy to complete the mission, as well as to rescue the Emperor's son, who has gone missing.\", 'rating': 4.0, 'year': 1978, 'cast': ['Marjoe Gortner', 'Caroline Munro', 'Christopher Plummer']}}\n",
      "Stripping file: 139 Simply Irresistible (w_ Jensen Karp).mp3\n",
      "{'title': 'Simply Irresistible', 'episode_no': '139', 'imdb_info': {'imdb_title': 'Simply Irresistible', 'genres': ['Comedy', 'Drama', 'Fantasy', 'Romance'], 'description': 'A department store executive (Flanery) tries to resist falling in love with a young woman (Gellar), who he believes has possessed magical powers after inheriting a restaurant.', 'rating': 5.2, 'year': 1999, 'cast': ['Sarah Michelle Gellar', 'Sean Patrick Flanery', 'Patricia Clarkson']}}\n",
      "Stripping file: 267. Abraxas, Guardian of the Universe.mp3\n",
      "{'title': 'Abraxas, Guardian of the Universe)', 'episode_no': '267', 'imdb_info': {'imdb_title': 'Abraxas, Guardian of the Universe', 'genres': ['Action', 'Drama', 'Sci-Fi'], 'description': 'An alien \"policeman\" arrives on Earth to apprehend a renegade of his own race who impregnates a woman with a potentially destructive mutant embryo.', 'rating': 2.9, 'year': 1990, 'cast': ['Jesse Ventura', 'Sven-Ole Thorsen', 'Damian Lee']}}\n",
      "Stripping file: 206 Little Italy.mp3\n",
      "{'title': 'Little Italy)', 'episode_no': '206', 'imdb_info': {'imdb_title': 'Little Italy', 'genres': ['Comedy', 'Romance'], 'description': \"Young adults Nikki Angioli and Leo Campo were staunch competitors and best friends growing up in the Little Italy neighborhood of Toronto. Their respective fathers, friends Sal Angioli and Vince Campo, ran Pizza Napoli, which made the best pizza in the neighborhood due to the combination of Nikki's paternal nona Franca Angioli's secret marinara sauce, and Leo's paternal nono Carlo Campo's secret thin crust pizza dough recipe. While Leo has stayed in Toronto working part-time at his father's pizzeria with the secret hopes of one day opening his own pizzeria, Nikki, who loved Leo while they were growing up, ran off to London five years ago hoping never to return to Toronto to get away from her past, which includes Leo himself, who she believes has turned into a ladies man solely trying to put notches in his bedpost, and Sal and Vince now in a feud of an unspecified nature following they winning best pizza in Little Italy several years ago, each subsequently having opened competing pizzerias next door to each other, which would preclude Nikki and Leo getting together even if either wanted. Nikki is working toward being a chef in her own right of anything but pizza, she at the cooking school of famed Michelin starred chef, Corinne, who seemingly has nothing nice to say about anyone, especially her students. Nikki learns that it is between her and another student, Gareth, who Corinne will choose to work at her new London restaurant, the two who will compete to produce the best menu. First, Nikki further learns that she has to deal with a visa issue, meaning that, whether or not she likes it, she has to return to Toronto for a few weeks. In inevitably running in Leo, she finds that there is still a sexual tension that exists between the two. They will have the many existing hurdles to overcome to get together, they each having to realize that they are hurdles worth overcoming, while learning some of those issues are truly non-existent.\", 'rating': 5.7, 'year': 2018, 'cast': ['Emma Roberts', 'Hayden Christensen', 'Danny Aiello']}}\n",
      "Stripping file: 186 Geostorm_ LIVE! (w_ Colton Dunn, Jessica St. Clair).mp3\n",
      "{'title': 'Geostorm_', 'episode_no': '186', 'imdb_info': {'imdb_title': 'Geostorm', 'genres': ['Action', 'Sci-Fi', 'Thriller'], 'description': \"When catastrophic climate change endangers Earth's very survival, world governments unite and create the Dutch Boy Program: a worldwide net of satellites surrounding the planet, that are armed with geoengineering technologies designed to stave off the natural disasters. After three years of successful protection, something starts to go wrong. Two estranged brothers are tasked with solving the program's malfunction before a worldwide Geostorm can engulf the planet.\", 'rating': 5.3, 'year': 2017, 'cast': ['Gerard Butler', 'Jim Sturgess', 'Abbie Cornish']}}\n",
      "Stripping file: 118. Furious 7_ LIVE (w_ Adam Scott).mp3\n",
      "{'title': 'Furious 7_', 'episode_no': '118', 'imdb_info': {'imdb_title': 'Furious 7', 'genres': ['Action', 'Crime', 'Thriller'], 'description': 'Dominic and his crew thought they\\'d left the criminal mercenary life behind. They\\'d defeated international terrorist Owen Shaw and went their separate ways. But now, Shaw\\'s brother, Deckard Shaw, is out killing the crew one by one for revenge. Worse, a Somalian terrorist called Jakarde and a shady government official called \"Mr. Nobody\" are both competing to steal a computer terrorism program called \"God\\'s Eye,\" that can turn any technological device into a weapon. Torretto must reconvene with his team to stop Shaw and retrieve the God\\'s Eye program while caught in a power struggle between the terrorist and the United States government.', 'rating': 7.1, 'year': 2015, 'cast': ['Vin Diesel', 'Paul Walker', 'Jason Statham']}}\n",
      "Stripping file: 242 The Boyfriend School.mp3\n",
      "{'title': 'The Boyfriend School)', 'episode_no': '242', 'imdb_info': {'imdb_title': 'The Boyfriend School', 'genres': ['Comedy', 'Romance'], 'description': 'Gus is a fat cartoonist that recently won a battle against cancer, which explains his baldness. But he is also lonely. Therefore, his caring sister tries to set him up with suitable women. But to do so, she must turn him into an irresistible man. When he falls in love with Emily, Gus takes the identity of a mysterious biker from New Zealand.', 'rating': 5.7, 'year': 1990, 'cast': ['Shelley Long', 'Steve Guttenberg', 'Jami Gertz']}}\n",
      "Stripping file: 149. The Lawnmower Man_ LIVE! (w_ Neil Casey, Emily Heller).mp3\n",
      "{'title': 'The Lawnmower Man_', 'episode_no': '149', 'imdb_info': {'imdb_title': 'The Lawnmower Man', 'genres': ['Horror', 'Sci-Fi'], 'description': 'A scientist performs experiments involving intelligence enhancing drugs and virtual reality on a simple-minded gardener. He puts the gardener on an extensive schedule of learning, and quickly he becomes brilliant. But at this point the gardener has a few ideas of his own on how the research should continue, and the scientist begins losing control of his experiments.', 'rating': 5.4, 'year': 1992, 'cast': ['Jeff Fahey', 'Pierce Brosnan', 'Jenny Wright']}}\n",
      "Stripping file: 135 Solarbabies_ LIVE! (w_ John Mulaney).mp3\n",
      "{'title': 'Solarbabies_', 'episode_no': '135', 'imdb_info': {'imdb_title': 'Solarbabies', 'genres': ['Action', 'Adventure', 'Drama', 'Sci-Fi'], 'description': 'In a future, water has disappeared from the Earth, and a group of teenagers, who live at an orphanage run by the despotic rulers of the new Earth, find an orb of special power. They escape from the orphanage and try to cross the wasteland looking for a place they can live free even as the storm troopers search for them and the orb.', 'rating': 4.7, 'year': 1986, 'cast': ['Richard Jordan', 'Jami Gertz', 'Jason Patric']}}\n",
      "Stripping file: 104 Zardoz 2.mp3\n",
      "{'title': 'Zardoz 2)', 'episode_no': '104', 'imdb_info': {'imdb_title': 'Zardoz', 'genres': ['Adventure', 'Fantasy', 'Sci-Fi'], 'description': '2293. Zardoz, an unseen \"God\" who speaks through an idol, a large stone statue of a head, leads a barbaric race called the Brutals, who live a harsh existence in the Outlands. Zardoz tells the Brutals that once they die, they will be transported to the Vortex, where they will live happily as immortals. He has armed a small group, the Exterminators, with guns, as Zardoz\\'s philosophy is that killing is good, and procreation is the root of all that is bad. In reality, Zardoz is Arthur Frayn, from a competing, more advanced race, called \"the Eternals\", who live in paradise in the Vortex. The Eternals truly are immortal as they do not age and their bodies undergo reconstruction if they \"die\". As such, they truly do not believe in procreation as their society has reached perfect equilibrium. Past human acts such as sex and sleep are obsolete in their advanced state. All major decisions are achieved through pure democracy. The Eternals, however, are not immune to non life threatening disease or sin, the latter which is punishable by aging, only making their life less pleasant, but not ever killing them. Arthur\\'s mission as Zardoz is to control, monitor, and study the Brutals for the Eternals. Being in the Outlands, Arthur is isolated without communication back to the Vortex and the Eternals. In his work as an Exterminator, Zed, by accident, is able to find his way to the Vortex as a still alive being. The Eternals vote to keep Zed alive temporarily so that they can study him before they kill him. Amongst the Eternals who have direct interactions with Zed are: May, the lead scientist, who believes Zed is a blessing in that they have not had access to a Brutal in some time; Friend, a hedonist who wants to use Zed as the animal he considers him to be; and Consuela, the hard lined one who believes in vigilante justice. In the Eternals\\' access to Zed, they may learn if he making it to the Vortex was indeed an accident. In addition, their so-called Utopian society may be exposed for what it truly is.', 'rating': 5.8, 'year': 1974, 'cast': ['Sean Connery', 'Charlotte Rampling', 'Sara Kestelman']}}\n",
      "Stripping file: 194 Yes, Giorgio_ LIVE!.mp3\n",
      "{'title': 'Yes, Giorgio_ )', 'episode_no': '194', 'imdb_info': {'imdb_title': 'Yes, Giorgio', 'genres': ['Comedy', 'Musical'], 'description': ['A famous opera singer, Giorgio Fini, loses his voice during an American tour. He goes to a female throat specialist, Pamela Taylor, whom he falls in love with.'], 'rating': 3.8, 'year': 1982, 'cast': ['Luciano Pavarotti', 'Kathryn Harrold', 'Eddie Albert']}}\n",
      "Stripping file: 143. Gods of Egypt (w_ Erin Gibson, Bryan Safi).mp3\n",
      "{'title': 'Gods of Egypt', 'episode_no': '143', 'imdb_info': {'imdb_title': 'Gods of Egypt', 'genres': ['Action', 'Adventure', 'Drama', 'Fantasy'], 'description': 'Set, the merciless god of darkness, has taken over the throne of Egypt and plunged the once peaceful and prosperous empire into chaos and conflict. Few dare to rebel against him. A young thief, whose love was taken captive by the god, seeks to dethrone and defeat Set with the aid of the powerful god Horus.', 'rating': 5.4, 'year': 2016, 'cast': ['Brenton Thwaites', 'John Samaha', 'Courtney Eaton']}}\n",
      "Stripping file: 286. Kate and Leopold.mp3\n"
     ]
    },
    {
     "name": "stderr",
     "output_type": "stream",
     "text": [
      "2023-09-12 10:49:08,079 CRITICAL [imdbpy] /Users/kaleb/Documents/gitRepos/Projects/Hdtgm_webserver/hdtgm_server/lib/python3.8/site-packages/imdb/_exceptions.py:32: IMDbDataAccessError exception raised; args: ({'errcode': None, 'errmsg': 'None', 'url': 'https://www.imdb.com/find/?q=Kate+and+Leopold%29&s=tt', 'proxy': '', 'exception type': 'IOError', 'original exception': <HTTPError 405: 'Not Allowed'>},); kwds: {}\n",
      "Traceback (most recent call last):\n",
      "  File \"/Users/kaleb/Documents/gitRepos/Projects/Hdtgm_webserver/hdtgm_server/lib/python3.8/site-packages/imdb/parser/http/__init__.py\", line 233, in retrieve_unicode\n",
      "    response = uopener.open(url)\n",
      "  File \"/Library/Developer/CommandLineTools/Library/Frameworks/Python3.framework/Versions/3.8/lib/python3.8/urllib/request.py\", line 531, in open\n",
      "    response = meth(req, response)\n",
      "  File \"/Library/Developer/CommandLineTools/Library/Frameworks/Python3.framework/Versions/3.8/lib/python3.8/urllib/request.py\", line 640, in http_response\n",
      "    response = self.parent.error(\n",
      "  File \"/Library/Developer/CommandLineTools/Library/Frameworks/Python3.framework/Versions/3.8/lib/python3.8/urllib/request.py\", line 569, in error\n",
      "    return self._call_chain(*args)\n",
      "  File \"/Library/Developer/CommandLineTools/Library/Frameworks/Python3.framework/Versions/3.8/lib/python3.8/urllib/request.py\", line 502, in _call_chain\n",
      "    result = func(*args)\n",
      "  File \"/Library/Developer/CommandLineTools/Library/Frameworks/Python3.framework/Versions/3.8/lib/python3.8/urllib/request.py\", line 649, in http_error_default\n",
      "    raise HTTPError(req.full_url, code, msg, hdrs, fp)\n",
      "urllib.error.HTTPError: HTTP Error 405: Not Allowed\n"
     ]
    },
    {
     "ename": "IMDbDataAccessError",
     "evalue": "{'errcode': None, 'errmsg': 'None', 'url': 'https://www.imdb.com/find/?q=Kate+and+Leopold%29&s=tt', 'proxy': '', 'exception type': 'IOError', 'original exception': <HTTPError 405: 'Not Allowed'>}",
     "output_type": "error",
     "traceback": [
      "\u001b[0;31m---------------------------------------------------------------------------\u001b[0m",
      "\u001b[0;31mHTTPError\u001b[0m                                 Traceback (most recent call last)",
      "File \u001b[0;32m~/Documents/gitRepos/Projects/Hdtgm_webserver/hdtgm_server/lib/python3.8/site-packages/imdb/parser/http/__init__.py:233\u001b[0m, in \u001b[0;36mIMDbURLopener.retrieve_unicode\u001b[0;34m(self, url, size)\u001b[0m\n\u001b[1;32m    232\u001b[0m uopener\u001b[39m.\u001b[39maddheaders \u001b[39m=\u001b[39m \u001b[39mlist\u001b[39m(\u001b[39mself\u001b[39m\u001b[39m.\u001b[39maddheaders)\n\u001b[0;32m--> 233\u001b[0m response \u001b[39m=\u001b[39m uopener\u001b[39m.\u001b[39;49mopen(url)\n\u001b[1;32m    234\u001b[0m content \u001b[39m=\u001b[39m response\u001b[39m.\u001b[39mread()\n",
      "File \u001b[0;32m/Library/Developer/CommandLineTools/Library/Frameworks/Python3.framework/Versions/3.8/lib/python3.8/urllib/request.py:531\u001b[0m, in \u001b[0;36mOpenerDirector.open\u001b[0;34m(self, fullurl, data, timeout)\u001b[0m\n\u001b[1;32m    530\u001b[0m     meth \u001b[39m=\u001b[39m \u001b[39mgetattr\u001b[39m(processor, meth_name)\n\u001b[0;32m--> 531\u001b[0m     response \u001b[39m=\u001b[39m meth(req, response)\n\u001b[1;32m    533\u001b[0m \u001b[39mreturn\u001b[39;00m response\n",
      "File \u001b[0;32m/Library/Developer/CommandLineTools/Library/Frameworks/Python3.framework/Versions/3.8/lib/python3.8/urllib/request.py:640\u001b[0m, in \u001b[0;36mHTTPErrorProcessor.http_response\u001b[0;34m(self, request, response)\u001b[0m\n\u001b[1;32m    639\u001b[0m \u001b[39mif\u001b[39;00m \u001b[39mnot\u001b[39;00m (\u001b[39m200\u001b[39m \u001b[39m<\u001b[39m\u001b[39m=\u001b[39m code \u001b[39m<\u001b[39m \u001b[39m300\u001b[39m):\n\u001b[0;32m--> 640\u001b[0m     response \u001b[39m=\u001b[39m \u001b[39mself\u001b[39;49m\u001b[39m.\u001b[39;49mparent\u001b[39m.\u001b[39;49merror(\n\u001b[1;32m    641\u001b[0m         \u001b[39m'\u001b[39;49m\u001b[39mhttp\u001b[39;49m\u001b[39m'\u001b[39;49m, request, response, code, msg, hdrs)\n\u001b[1;32m    643\u001b[0m \u001b[39mreturn\u001b[39;00m response\n",
      "File \u001b[0;32m/Library/Developer/CommandLineTools/Library/Frameworks/Python3.framework/Versions/3.8/lib/python3.8/urllib/request.py:569\u001b[0m, in \u001b[0;36mOpenerDirector.error\u001b[0;34m(self, proto, *args)\u001b[0m\n\u001b[1;32m    568\u001b[0m args \u001b[39m=\u001b[39m (\u001b[39mdict\u001b[39m, \u001b[39m'\u001b[39m\u001b[39mdefault\u001b[39m\u001b[39m'\u001b[39m, \u001b[39m'\u001b[39m\u001b[39mhttp_error_default\u001b[39m\u001b[39m'\u001b[39m) \u001b[39m+\u001b[39m orig_args\n\u001b[0;32m--> 569\u001b[0m \u001b[39mreturn\u001b[39;00m \u001b[39mself\u001b[39;49m\u001b[39m.\u001b[39;49m_call_chain(\u001b[39m*\u001b[39;49margs)\n",
      "File \u001b[0;32m/Library/Developer/CommandLineTools/Library/Frameworks/Python3.framework/Versions/3.8/lib/python3.8/urllib/request.py:502\u001b[0m, in \u001b[0;36mOpenerDirector._call_chain\u001b[0;34m(self, chain, kind, meth_name, *args)\u001b[0m\n\u001b[1;32m    501\u001b[0m func \u001b[39m=\u001b[39m \u001b[39mgetattr\u001b[39m(handler, meth_name)\n\u001b[0;32m--> 502\u001b[0m result \u001b[39m=\u001b[39m func(\u001b[39m*\u001b[39;49margs)\n\u001b[1;32m    503\u001b[0m \u001b[39mif\u001b[39;00m result \u001b[39mis\u001b[39;00m \u001b[39mnot\u001b[39;00m \u001b[39mNone\u001b[39;00m:\n",
      "File \u001b[0;32m/Library/Developer/CommandLineTools/Library/Frameworks/Python3.framework/Versions/3.8/lib/python3.8/urllib/request.py:649\u001b[0m, in \u001b[0;36mHTTPDefaultErrorHandler.http_error_default\u001b[0;34m(self, req, fp, code, msg, hdrs)\u001b[0m\n\u001b[1;32m    648\u001b[0m \u001b[39mdef\u001b[39;00m \u001b[39mhttp_error_default\u001b[39m(\u001b[39mself\u001b[39m, req, fp, code, msg, hdrs):\n\u001b[0;32m--> 649\u001b[0m     \u001b[39mraise\u001b[39;00m HTTPError(req\u001b[39m.\u001b[39mfull_url, code, msg, hdrs, fp)\n",
      "\u001b[0;31mHTTPError\u001b[0m: HTTP Error 405: Not Allowed",
      "\nDuring handling of the above exception, another exception occurred:\n",
      "\u001b[0;31mIMDbDataAccessError\u001b[0m                       Traceback (most recent call last)",
      "Cell \u001b[0;32mIn[136], line 4\u001b[0m\n\u001b[1;32m      2\u001b[0m \u001b[39mfor\u001b[39;00m f \u001b[39min\u001b[39;00m fnames[\u001b[39m112\u001b[39m:]:\n\u001b[1;32m      3\u001b[0m     \u001b[39mprint\u001b[39m(\u001b[39mf\u001b[39m\u001b[39m'\u001b[39m\u001b[39mStripping file: \u001b[39m\u001b[39m{\u001b[39;00mf\u001b[39m}\u001b[39;00m\u001b[39m'\u001b[39m)\n\u001b[0;32m----> 4\u001b[0m     res \u001b[39m=\u001b[39m strip_to_title(f)\n\u001b[1;32m      5\u001b[0m     \u001b[39mprint\u001b[39m(res)\n",
      "Cell \u001b[0;32mIn[135], line 17\u001b[0m, in \u001b[0;36mstrip_to_title\u001b[0;34m(filename)\u001b[0m\n\u001b[1;32m     14\u001b[0m \u001b[39mfor\u001b[39;00m c \u001b[39min\u001b[39;00m cut_strings:\n\u001b[1;32m     15\u001b[0m     title_str \u001b[39m=\u001b[39m title_str\u001b[39m.\u001b[39mreplace(c, \u001b[39m'\u001b[39m\u001b[39m'\u001b[39m)\n\u001b[0;32m---> 17\u001b[0m search_results \u001b[39m=\u001b[39m ia\u001b[39m.\u001b[39;49msearch_movie(title_str\u001b[39m.\u001b[39;49mstrip())\n\u001b[1;32m     19\u001b[0m check_ind, found_movie \u001b[39m=\u001b[39m \u001b[39m0\u001b[39m, \u001b[39mFalse\u001b[39;00m\n\u001b[1;32m     20\u001b[0m \u001b[39mwhile\u001b[39;00m check_ind \u001b[39m<\u001b[39m \u001b[39mlen\u001b[39m(search_results) \u001b[39mand\u001b[39;00m \u001b[39mnot\u001b[39;00m found_movie:\n",
      "File \u001b[0;32m~/Documents/gitRepos/Projects/Hdtgm_webserver/hdtgm_server/lib/python3.8/site-packages/imdb/__init__.py:450\u001b[0m, in \u001b[0;36mIMDbBase.search_movie\u001b[0;34m(self, title, results, _episodes)\u001b[0m\n\u001b[1;32m    448\u001b[0m     results \u001b[39m=\u001b[39m \u001b[39m20\u001b[39m\n\u001b[1;32m    449\u001b[0m \u001b[39mif\u001b[39;00m \u001b[39mnot\u001b[39;00m _episodes:\n\u001b[0;32m--> 450\u001b[0m     res \u001b[39m=\u001b[39m \u001b[39mself\u001b[39;49m\u001b[39m.\u001b[39;49m_search_movie(title, results)\n\u001b[1;32m    451\u001b[0m \u001b[39melse\u001b[39;00m:\n\u001b[1;32m    452\u001b[0m     res \u001b[39m=\u001b[39m \u001b[39mself\u001b[39m\u001b[39m.\u001b[39m_search_episode(title, results)\n",
      "File \u001b[0;32m~/Documents/gitRepos/Projects/Hdtgm_webserver/hdtgm_server/lib/python3.8/site-packages/imdb/parser/http/__init__.py:421\u001b[0m, in \u001b[0;36mIMDbHTTPAccessSystem._search_movie\u001b[0;34m(self, title, results)\u001b[0m\n\u001b[1;32m    420\u001b[0m \u001b[39mdef\u001b[39;00m \u001b[39m_search_movie\u001b[39m(\u001b[39mself\u001b[39m, title, results):\n\u001b[0;32m--> 421\u001b[0m     cont \u001b[39m=\u001b[39m \u001b[39mself\u001b[39;49m\u001b[39m.\u001b[39;49m_get_search_content(\u001b[39m'\u001b[39;49m\u001b[39mtt\u001b[39;49m\u001b[39m'\u001b[39;49m, title, results)\n\u001b[1;32m    422\u001b[0m     \u001b[39mreturn\u001b[39;00m \u001b[39mself\u001b[39m\u001b[39m.\u001b[39msmProxy\u001b[39m.\u001b[39msearch_movie_parser\u001b[39m.\u001b[39mparse(cont, results\u001b[39m=\u001b[39mresults)[\u001b[39m'\u001b[39m\u001b[39mdata\u001b[39m\u001b[39m'\u001b[39m]\n",
      "File \u001b[0;32m~/Documents/gitRepos/Projects/Hdtgm_webserver/hdtgm_server/lib/python3.8/site-packages/imdb/parser/http/__init__.py:409\u001b[0m, in \u001b[0;36mIMDbHTTPAccessSystem._get_search_content\u001b[0;34m(self, kind, ton, results)\u001b[0m\n\u001b[1;32m    407\u001b[0m \u001b[39mif\u001b[39;00m kind \u001b[39m==\u001b[39m \u001b[39m'\u001b[39m\u001b[39mep\u001b[39m\u001b[39m'\u001b[39m:\n\u001b[1;32m    408\u001b[0m     params \u001b[39m=\u001b[39m params\u001b[39m.\u001b[39mreplace(\u001b[39m'\u001b[39m\u001b[39ms=ep&\u001b[39m\u001b[39m'\u001b[39m, \u001b[39m'\u001b[39m\u001b[39ms=tt&ttype=ep&\u001b[39m\u001b[39m'\u001b[39m, \u001b[39m1\u001b[39m)\n\u001b[0;32m--> 409\u001b[0m cont \u001b[39m=\u001b[39m \u001b[39mself\u001b[39;49m\u001b[39m.\u001b[39;49m_retrieve(\u001b[39mself\u001b[39;49m\u001b[39m.\u001b[39;49murls[\u001b[39m'\u001b[39;49m\u001b[39mfind\u001b[39;49m\u001b[39m'\u001b[39;49m] \u001b[39m%\u001b[39;49m params)\n\u001b[1;32m    410\u001b[0m \u001b[39m# print 'URL:', imdbURL_find % params\u001b[39;00m\n\u001b[1;32m    411\u001b[0m \u001b[39mif\u001b[39;00m cont\u001b[39m.\u001b[39mfind(\u001b[39m'\u001b[39m\u001b[39mYour search returned more than\u001b[39m\u001b[39m'\u001b[39m) \u001b[39m==\u001b[39m \u001b[39m-\u001b[39m\u001b[39m1\u001b[39m \u001b[39mor\u001b[39;00m \\\n\u001b[1;32m    412\u001b[0m         cont\u001b[39m.\u001b[39mfind(\u001b[39m\"\u001b[39m\u001b[39mdisplayed the exact matches\u001b[39m\u001b[39m\"\u001b[39m) \u001b[39m==\u001b[39m \u001b[39m-\u001b[39m\u001b[39m1\u001b[39m:\n",
      "File \u001b[0;32m~/Documents/gitRepos/Projects/Hdtgm_webserver/hdtgm_server/lib/python3.8/site-packages/imdb/parser/http/__init__.py:392\u001b[0m, in \u001b[0;36mIMDbHTTPAccessSystem._retrieve\u001b[0;34m(self, url, size, _noCookies)\u001b[0m\n\u001b[1;32m    390\u001b[0m \u001b[39m\u001b[39m\u001b[39m\"\"\"Retrieve the given URL.\"\"\"\u001b[39;00m\n\u001b[1;32m    391\u001b[0m \u001b[39mself\u001b[39m\u001b[39m.\u001b[39m_http_logger\u001b[39m.\u001b[39mdebug(\u001b[39m'\u001b[39m\u001b[39mfetching url \u001b[39m\u001b[39m%s\u001b[39;00m\u001b[39m (size: \u001b[39m\u001b[39m%d\u001b[39;00m\u001b[39m)\u001b[39m\u001b[39m'\u001b[39m, url, size)\n\u001b[0;32m--> 392\u001b[0m ret \u001b[39m=\u001b[39m \u001b[39mself\u001b[39;49m\u001b[39m.\u001b[39;49murlOpener\u001b[39m.\u001b[39;49mretrieve_unicode(url, size\u001b[39m=\u001b[39;49msize)\n\u001b[1;32m    393\u001b[0m \u001b[39mif\u001b[39;00m PY2 \u001b[39mand\u001b[39;00m \u001b[39misinstance\u001b[39m(ret, \u001b[39mstr\u001b[39m):\n\u001b[1;32m    394\u001b[0m     ret \u001b[39m=\u001b[39m ret\u001b[39m.\u001b[39mdecode(\u001b[39m'\u001b[39m\u001b[39mutf-8\u001b[39m\u001b[39m'\u001b[39m)\n",
      "File \u001b[0;32m~/Documents/gitRepos/Projects/Hdtgm_webserver/hdtgm_server/lib/python3.8/site-packages/imdb/parser/http/__init__.py:261\u001b[0m, in \u001b[0;36mIMDbURLopener.retrieve_unicode\u001b[0;34m(self, url, size)\u001b[0m\n\u001b[1;32m    258\u001b[0m     \u001b[39mif\u001b[39;00m size \u001b[39m!=\u001b[39m \u001b[39m-\u001b[39m\u001b[39m1\u001b[39m:\n\u001b[1;32m    259\u001b[0m         \u001b[39m# Ensure that the Range header is removed.\u001b[39;00m\n\u001b[1;32m    260\u001b[0m         \u001b[39mself\u001b[39m\u001b[39m.\u001b[39mdel_header(\u001b[39m'\u001b[39m\u001b[39mRange\u001b[39m\u001b[39m'\u001b[39m)\n\u001b[0;32m--> 261\u001b[0m     \u001b[39mraise\u001b[39;00m IMDbDataAccessError(\n\u001b[1;32m    262\u001b[0m         {\u001b[39m'\u001b[39m\u001b[39merrcode\u001b[39m\u001b[39m'\u001b[39m: e\u001b[39m.\u001b[39merrno,\n\u001b[1;32m    263\u001b[0m          \u001b[39m'\u001b[39m\u001b[39merrmsg\u001b[39m\u001b[39m'\u001b[39m: \u001b[39mstr\u001b[39m(e\u001b[39m.\u001b[39mstrerror),\n\u001b[1;32m    264\u001b[0m          \u001b[39m'\u001b[39m\u001b[39murl\u001b[39m\u001b[39m'\u001b[39m: url,\n\u001b[1;32m    265\u001b[0m          \u001b[39m'\u001b[39m\u001b[39mproxy\u001b[39m\u001b[39m'\u001b[39m: \u001b[39mself\u001b[39m\u001b[39m.\u001b[39mget_proxy(),\n\u001b[1;32m    266\u001b[0m          \u001b[39m'\u001b[39m\u001b[39mexception type\u001b[39m\u001b[39m'\u001b[39m: \u001b[39m'\u001b[39m\u001b[39mIOError\u001b[39m\u001b[39m'\u001b[39m,\n\u001b[1;32m    267\u001b[0m          \u001b[39m'\u001b[39m\u001b[39moriginal exception\u001b[39m\u001b[39m'\u001b[39m: e}\n\u001b[1;32m    268\u001b[0m     )\n\u001b[1;32m    269\u001b[0m \u001b[39mif\u001b[39;00m encode \u001b[39mis\u001b[39;00m \u001b[39mNone\u001b[39;00m:\n\u001b[1;32m    270\u001b[0m     encode \u001b[39m=\u001b[39m \u001b[39m'\u001b[39m\u001b[39mutf8\u001b[39m\u001b[39m'\u001b[39m\n",
      "\u001b[0;31mIMDbDataAccessError\u001b[0m: {'errcode': None, 'errmsg': 'None', 'url': 'https://www.imdb.com/find/?q=Kate+and+Leopold%29&s=tt', 'proxy': '', 'exception type': 'IOError', 'original exception': <HTTPError 405: 'Not Allowed'>}"
     ]
    }
   ],
   "source": [
    "# [strip_to_title(f) for f in fnames]\n",
    "for f in fnames[112:]:\n",
    "    print(f'Stripping file: {f}')\n",
    "    res = strip_to_title(f)\n",
    "    print(res)"
   ]
  },
  {
   "cell_type": "markdown",
   "metadata": {},
   "source": []
  },
  {
   "cell_type": "code",
   "execution_count": 132,
   "metadata": {},
   "outputs": [
    {
     "data": {
      "text/plain": [
       "{}"
      ]
     },
     "execution_count": 132,
     "metadata": {},
     "output_type": "execute_result"
    }
   ],
   "source": [
    "filename = '200th Mini Retrospective Clip Show Spectacular!.mp3'\n",
    "cut_strings = ['.mp3', 'LIVE!', 'LIVE']\n",
    "\n",
    "title_str = filename\n",
    "if ')' not in title_str:\n",
    "    title_str = title_str.replace('.mp3', ').mp3')\n",
    "\n",
    "# Remove everything up to first letter\n",
    "title_str = re.sub('^[^A-Za-z]+', '', title_str)\n",
    "title_str = re.sub('\\([^)]*\\)', '', title_str)\n",
    "for c in cut_strings:\n",
    "    title_str = title_str.replace(c, '')\n",
    "\n",
    "search_results = ia.search_movie(title_str.strip())\n",
    "\n",
    "check_ind = 0\n",
    "while check_ind < len(search_results):\n",
    "    first_movie = ia.get_movie(search_results[check_ind].getID())    \n",
    "    if 'plot' not in first_movie.keys():\n",
    "        check_ind += 1\n",
    "\n",
    "if check_ind == len(search_results) or 'number of episodes' in first_movie.keys():\n",
    "    imdb_info = {}\n",
    "else:\n",
    "    imdb_info = {\n",
    "        'imdb_title': first_movie['title'],\n",
    "        'genres': first_movie['genres'],\n",
    "        'description': first_movie['plot outline'] if 'plot outline' in first_movie.keys() else first_movie['plot'],\n",
    "        'rating': first_movie['rating'],\n",
    "        'year': first_movie['year'],\n",
    "        'cast': [c['name'] for c in first_movie['cast'][:3]]\n",
    "    }\n",
    "imdb_info"
   ]
  },
  {
   "cell_type": "code",
   "execution_count": 133,
   "metadata": {},
   "outputs": [
    {
     "data": {
      "text/plain": [
       "(array([113]),)"
      ]
     },
     "execution_count": 133,
     "metadata": {},
     "output_type": "execute_result"
    }
   ],
   "source": [
    "import numpy as np \n",
    "np.where(np.array(fnames)==filename)"
   ]
  },
  {
   "cell_type": "code",
   "execution_count": 131,
   "metadata": {},
   "outputs": [
    {
     "data": {
      "text/plain": [
       "True"
      ]
     },
     "execution_count": 131,
     "metadata": {},
     "output_type": "execute_result"
    }
   ],
   "source": [
    "check_ind == len(search_results) or 'number of episodes' in first_movie.keys()"
   ]
  },
  {
   "cell_type": "code",
   "execution_count": null,
   "metadata": {},
   "outputs": [],
   "source": []
  },
  {
   "cell_type": "code",
   "execution_count": null,
   "metadata": {},
   "outputs": [],
   "source": []
  },
  {
   "cell_type": "code",
   "execution_count": 124,
   "metadata": {},
   "outputs": [
    {
     "data": {
      "text/plain": [
       "[]"
      ]
     },
     "execution_count": 124,
     "metadata": {},
     "output_type": "execute_result"
    }
   ],
   "source": [
    "search_results"
   ]
  },
  {
   "cell_type": "code",
   "execution_count": null,
   "metadata": {},
   "outputs": [],
   "source": []
  },
  {
   "cell_type": "code",
   "execution_count": 104,
   "metadata": {},
   "outputs": [
    {
     "data": {
      "text/plain": [
       "True"
      ]
     },
     "execution_count": 104,
     "metadata": {},
     "output_type": "execute_result"
    }
   ],
   "source": [
    "# first_movie.keys()\n",
    "check_ind == len(search_results) - 1 or 'number of episodes' in first_movie.keys()"
   ]
  },
  {
   "cell_type": "code",
   "execution_count": null,
   "metadata": {},
   "outputs": [],
   "source": []
  },
  {
   "cell_type": "code",
   "execution_count": null,
   "metadata": {},
   "outputs": [],
   "source": [
    "search_results = ia.search_movie(f.strip())\n",
    "    \n",
    "check_ind = 0\n",
    "first_movie = ia.get_movie(search_results[check_ind].getID())\n",
    "while 'plot' not in first_movie.keys() and check_ind < (len(search_results)-1):\n",
    "    check_ind += 1\n",
    "    first_movie = ia.get_movie(search_results[check_ind].getID())\n",
    "first_movie"
   ]
  },
  {
   "cell_type": "code",
   "execution_count": 89,
   "metadata": {},
   "outputs": [
    {
     "data": {
      "text/plain": [
       "<Movie id:16892092[http] title:_The First Couple Pt. 2 (2020)_>"
      ]
     },
     "execution_count": 89,
     "metadata": {},
     "output_type": "execute_result"
    }
   ],
   "source": [
    "search_results = ia.search_movie(\"The 1st Annual Howdies Pt. 2\".strip())\n",
    "check_ind = 0\n",
    "first_movie = ia.get_movie(search_results[check_ind].getID())\n",
    "while 'plot' not in first_movie.keys():\n",
    "    check_ind += 1\n",
    "    first_movie = ia.get_movie(search_results[check_ind].getID())\n",
    "first_movie"
   ]
  },
  {
   "cell_type": "code",
   "execution_count": 90,
   "metadata": {},
   "outputs": [
    {
     "name": "stdout",
     "output_type": "stream",
     "text": [
      "['localized title', 'genres', 'runtimes', 'original air date', 'number of episodes', 'previous episode', 'next episode', 'imdbID', 'title', 'year', 'kind', 'original title', 'season', 'episode', 'plot', 'canonical title', 'long imdb title', 'long imdb canonical title', 'smart canonical title', 'smart long imdb canonical title']\n"
     ]
    }
   ],
   "source": [
    "print(first_movie.keys())"
   ]
  },
  {
   "cell_type": "code",
   "execution_count": null,
   "metadata": {},
   "outputs": [],
   "source": []
  },
  {
   "cell_type": "code",
   "execution_count": null,
   "metadata": {},
   "outputs": [],
   "source": []
  },
  {
   "cell_type": "code",
   "execution_count": null,
   "metadata": {},
   "outputs": [],
   "source": []
  },
  {
   "cell_type": "code",
   "execution_count": null,
   "metadata": {},
   "outputs": [],
   "source": []
  },
  {
   "cell_type": "code",
   "execution_count": null,
   "metadata": {},
   "outputs": [],
   "source": []
  },
  {
   "cell_type": "code",
   "execution_count": 56,
   "metadata": {},
   "outputs": [
    {
     "data": {
      "text/plain": [
       "['localized title',\n",
       " 'cast',\n",
       " 'genres',\n",
       " 'runtimes',\n",
       " 'countries',\n",
       " 'country codes',\n",
       " 'language codes',\n",
       " 'color info',\n",
       " 'aspect ratio',\n",
       " 'sound mix',\n",
       " 'box office',\n",
       " 'certificates',\n",
       " 'original air date',\n",
       " 'rating',\n",
       " 'votes',\n",
       " 'cover url',\n",
       " 'imdbID',\n",
       " 'videos',\n",
       " 'plot outline',\n",
       " 'languages',\n",
       " 'title',\n",
       " 'year',\n",
       " 'kind',\n",
       " 'original title',\n",
       " 'director',\n",
       " 'writer',\n",
       " 'producer',\n",
       " 'composer',\n",
       " 'cinematographer',\n",
       " 'editor',\n",
       " 'editorial department',\n",
       " 'casting director',\n",
       " 'production design',\n",
       " 'art direction',\n",
       " 'set decoration',\n",
       " 'costume designer',\n",
       " 'make up',\n",
       " 'production manager',\n",
       " 'assistant director',\n",
       " 'art department',\n",
       " 'sound crew',\n",
       " 'special effects',\n",
       " 'visual effects',\n",
       " 'stunt performer',\n",
       " 'camera and electrical department',\n",
       " 'casting department',\n",
       " 'costume department',\n",
       " 'location management',\n",
       " 'music department',\n",
       " 'script department',\n",
       " 'transportation department',\n",
       " 'miscellaneous crew',\n",
       " 'akas',\n",
       " 'production companies',\n",
       " 'distributors',\n",
       " 'special effects companies',\n",
       " 'other companies',\n",
       " 'plot',\n",
       " 'synopsis',\n",
       " 'canonical title',\n",
       " 'long imdb title',\n",
       " 'long imdb canonical title',\n",
       " 'smart canonical title',\n",
       " 'smart long imdb canonical title',\n",
       " 'full-size cover url']"
      ]
     },
     "execution_count": 56,
     "metadata": {},
     "output_type": "execute_result"
    }
   ],
   "source": [
    "first_movie.keys()"
   ]
  },
  {
   "cell_type": "code",
   "execution_count": 57,
   "metadata": {},
   "outputs": [
    {
     "data": {
      "text/plain": [
       "'Roger Jackson strives to support his family, a group that includes not only his Ivy League-educated wife Judith (Jurnee Smollett-Bell) but his ganja-smoking father Stanley and her Bible-thumping mother TT. Meanwhile, Judith doles out thoughtful advice to couples every day, yet remains completely powerless when it comes to addressing the issues surrounding her own troubled marriage. When an old college friend drops by her office, Judith faces her biggest personal challenge.'"
      ]
     },
     "execution_count": 57,
     "metadata": {},
     "output_type": "execute_result"
    }
   ],
   "source": [
    "first_movie['plot outline']"
   ]
  },
  {
   "cell_type": "code",
   "execution_count": 58,
   "metadata": {},
   "outputs": [
    {
     "data": {
      "text/plain": [
       "[\"An ambitious married woman's temptation by a handsome billionaire leads to betrayal, recklessness, and forever alters the course of her life.\",\n",
       " 'Roger Jackson strives to support his family, a group that includes not only his Ivy League-educated wife Judith (Jurnee Smollett-Bell) but his ganja-smoking father Stanley and her Bible-thumping mother TT. Meanwhile, Judith doles out thoughtful advice to couples every day, yet remains completely powerless when it comes to addressing the issues surrounding her own troubled marriage. When an old college friend drops by her office, Judith faces her biggest personal challenge.']"
      ]
     },
     "execution_count": 58,
     "metadata": {},
     "output_type": "execute_result"
    }
   ],
   "source": [
    "first_movie['plot']"
   ]
  },
  {
   "cell_type": "code",
   "execution_count": null,
   "metadata": {},
   "outputs": [],
   "source": []
  },
  {
   "cell_type": "code",
   "execution_count": 17,
   "metadata": {},
   "outputs": [
    {
     "name": "stdout",
     "output_type": "stream",
     "text": [
      "Collecting fuzzywuzzy\n",
      "  Downloading fuzzywuzzy-0.18.0-py2.py3-none-any.whl (18 kB)\n",
      "Installing collected packages: fuzzywuzzy\n",
      "Successfully installed fuzzywuzzy-0.18.0\n",
      "\u001b[33mWARNING: You are using pip version 20.2.3; however, version 23.2.1 is available.\n",
      "You should consider upgrading via the '/Users/kaleb/Documents/gitRepos/Projects/Hdtgm_webserver/hdtgm_server/bin/python -m pip install --upgrade pip' command.\u001b[0m\n",
      "Collecting python-Levenshtein\n",
      "  Downloading python_Levenshtein-0.21.1-py3-none-any.whl (9.4 kB)\n",
      "Collecting Levenshtein==0.21.1\n",
      "  Downloading Levenshtein-0.21.1.tar.gz (139 kB)\n",
      "\u001b[K     |████████████████████████████████| 139 kB 1.2 MB/s eta 0:00:01\n",
      "\u001b[?25h  Installing build dependencies ... \u001b[?25ldone\n",
      "\u001b[?25h  Getting requirements to build wheel ... \u001b[?25ldone\n",
      "\u001b[?25h  Installing backend dependencies ... \u001b[?25lerror\n",
      "\u001b[31m  ERROR: Command errored out with exit status 1:\n",
      "   command: /Users/kaleb/Documents/gitRepos/Projects/Hdtgm_webserver/hdtgm_server/bin/python /Users/kaleb/Documents/gitRepos/Projects/Hdtgm_webserver/hdtgm_server/lib/python3.8/site-packages/pip install --ignore-installed --no-user --prefix /private/var/folders/yq/0rj1vx5548d98lpwvg7lwr_h0000gn/T/pip-build-env-yuzuq__t/normal --no-warn-script-location --no-binary :none: --only-binary :none: -i https://pypi.org/simple -- cmake\n",
      "       cwd: None\n",
      "  Complete output (54 lines):\n",
      "  Collecting cmake\n",
      "    Using cached cmake-3.27.2.tar.gz (35 kB)\n",
      "    Installing build dependencies: started\n",
      "    Installing build dependencies: finished with status 'done'\n",
      "    Getting requirements to build wheel: started\n",
      "    Getting requirements to build wheel: finished with status 'done'\n",
      "      Preparing wheel metadata: started\n",
      "      Preparing wheel metadata: finished with status 'done'\n",
      "  Building wheels for collected packages: cmake\n",
      "    Building wheel for cmake (PEP 517): started\n",
      "    Building wheel for cmake (PEP 517): finished with status 'error'\n",
      "    ERROR: Command errored out with exit status 1:\n",
      "     command: /Users/kaleb/Documents/gitRepos/Projects/Hdtgm_webserver/hdtgm_server/bin/python /Users/kaleb/Documents/gitRepos/Projects/Hdtgm_webserver/hdtgm_server/lib/python3.8/site-packages/pip/_vendor/pep517/_in_process.py build_wheel /var/folders/yq/0rj1vx5548d98lpwvg7lwr_h0000gn/T/tmpj6pnsp7m\n",
      "         cwd: /private/var/folders/yq/0rj1vx5548d98lpwvg7lwr_h0000gn/T/pip-install-mraipot_/cmake\n",
      "    Complete output (33 lines):\n",
      "    Traceback (most recent call last):\n",
      "      File \"/private/var/folders/yq/0rj1vx5548d98lpwvg7lwr_h0000gn/T/pip-build-env-a8fey12t/overlay/lib/python3.8/site-packages/skbuild/setuptools_wrap.py\", line 645, in setup\n",
      "        cmkr = cmaker.CMaker(cmake_executable)\n",
      "      File \"/private/var/folders/yq/0rj1vx5548d98lpwvg7lwr_h0000gn/T/pip-build-env-a8fey12t/overlay/lib/python3.8/site-packages/skbuild/cmaker.py\", line 148, in __init__\n",
      "        self.cmake_version = get_cmake_version(self.cmake_executable)\n",
      "      File \"/private/var/folders/yq/0rj1vx5548d98lpwvg7lwr_h0000gn/T/pip-build-env-a8fey12t/overlay/lib/python3.8/site-packages/skbuild/cmaker.py\", line 105, in get_cmake_version\n",
      "        raise SKBuildError(msg) from err\n",
      "  \n",
      "  \n",
      "        =============================DEBUG ASSISTANCE=============================\n",
      "        If you are seeing a compilation error please try the following steps to\n",
      "        successfully install cmake:\n",
      "        1) Upgrade to the latest pip and try again. This will fix errors for most\n",
      "           users. See: https://pip.pypa.io/en/stable/installing/#upgrading-pip\n",
      "        2) If on Linux, with glibc < 2.12, you can set PIP_ONLY_BINARY=cmake in\n",
      "           order to retrieve the last manylinux1 compatible wheel.\n",
      "        3) If on Linux, with glibc < 2.12, you can cap \"cmake<3.23\" in your\n",
      "           requirements in order to retrieve the last manylinux1 compatible wheel.\n",
      "        4) Open an issue with the debug information that follows at\n",
      "           https://github.com/scikit-build/cmake-python-distributions/issues\n",
      "  \n",
      "        Python: 3.8.9\n",
      "        platform: macOS-12.3-arm64-arm-64bit\n",
      "        macos: 12.3\n",
      "        machine: arm64\n",
      "        bits: 64\n",
      "        pip: n/a\n",
      "        setuptools: 68.1.2\n",
      "        scikit-build: 0.17.6\n",
      "        PEP517_BUILD_BACKEND=setuptools.build_meta\n",
      "        =============================DEBUG ASSISTANCE=============================\n",
      "  \n",
      "    Problem with the CMake installation, aborting build. CMake executable is cmake\n",
      "    ----------------------------------------\n",
      "    ERROR: Failed building wheel for cmake\n",
      "  Failed to build cmake\n",
      "  ERROR: Could not build wheels for cmake which use PEP 517 and cannot be installed directly\n",
      "  WARNING: You are using pip version 20.2.3; however, version 23.2.1 is available.\n",
      "  You should consider upgrading via the '/Users/kaleb/Documents/gitRepos/Projects/Hdtgm_webserver/hdtgm_server/bin/python -m pip install --upgrade pip' command.\n",
      "  ----------------------------------------\u001b[0m\n",
      "\u001b[?25h\u001b[31mERROR: Command errored out with exit status 1: /Users/kaleb/Documents/gitRepos/Projects/Hdtgm_webserver/hdtgm_server/bin/python /Users/kaleb/Documents/gitRepos/Projects/Hdtgm_webserver/hdtgm_server/lib/python3.8/site-packages/pip install --ignore-installed --no-user --prefix /private/var/folders/yq/0rj1vx5548d98lpwvg7lwr_h0000gn/T/pip-build-env-yuzuq__t/normal --no-warn-script-location --no-binary :none: --only-binary :none: -i https://pypi.org/simple -- cmake Check the logs for full command output.\u001b[0m\n",
      "\u001b[33mWARNING: You are using pip version 20.2.3; however, version 23.2.1 is available.\n",
      "You should consider upgrading via the '/Users/kaleb/Documents/gitRepos/Projects/Hdtgm_webserver/hdtgm_server/bin/python -m pip install --upgrade pip' command.\u001b[0m\n"
     ]
    }
   ],
   "source": [
    "!pip install fuzzywuzzy\n",
    "!pip install python-Levenshtein"
   ]
  },
  {
   "cell_type": "code",
   "execution_count": 47,
   "metadata": {},
   "outputs": [
    {
     "name": "stdout",
     "output_type": "stream",
     "text": [
      "b'world'\n"
     ]
    }
   ],
   "source": [
    "import redis \n",
    "\n",
    "r = redis.Redis(host='localhost', port=6379)\n",
    "\n",
    "r.set('hello', 'world')\n",
    "print(r.get('hello'))"
   ]
  },
  {
   "cell_type": "code",
   "execution_count": 50,
   "metadata": {},
   "outputs": [
    {
     "data": {
      "text/plain": [
       "True"
      ]
     },
     "execution_count": 50,
     "metadata": {},
     "output_type": "execute_result"
    }
   ],
   "source": [
    "r.get('h') is None"
   ]
  },
  {
   "cell_type": "code",
   "execution_count": 45,
   "metadata": {},
   "outputs": [
    {
     "data": {
      "text/plain": [
       "[4, 5, 6]"
      ]
     },
     "execution_count": 45,
     "metadata": {},
     "output_type": "execute_result"
    }
   ],
   "source": [
    "import json \n",
    "r.set('foo_dict', json.dumps({'a': [1, 2, 3], 'b': [4, 5, 6]}))\n",
    "y = json.loads(r.get('foo_dict').decode())\n",
    "y['b']"
   ]
  },
  {
   "cell_type": "code",
   "execution_count": 32,
   "metadata": {},
   "outputs": [
    {
     "data": {
      "text/plain": [
       "0"
      ]
     },
     "execution_count": 32,
     "metadata": {},
     "output_type": "execute_result"
    }
   ],
   "source": [
    "fuzz.partial_ratio('Gigli', '296. Tuff Turf.mp3')"
   ]
  },
  {
   "cell_type": "code",
   "execution_count": 33,
   "metadata": {},
   "outputs": [
    {
     "data": {
      "text/plain": [
       "['218. Deadfall LIVE! (w_ Chelsea Peretti).mp3',\n",
       " '11 The Tourist (w_ Gil Ozeri, Natasha Leggero).mp3',\n",
       " '40 Judge Dredd (w_ Erica Oyama).mp3',\n",
       " '229. The Spirit of Christmas (w_ Jessica St. Clair).mp3',\n",
       " '248 The VelociPastor.mp3',\n",
       " '217. Jaws 3-D.mp3',\n",
       " '308. Ghost in the Machine.mp3',\n",
       " '233. Space Jam_ LIVE!.mp3',\n",
       " '153. Escape from LA_ LIVE! (w_ D_Arcy Carden, Dan Levy).mp3',\n",
       " '278. Old.mp3']"
      ]
     },
     "execution_count": 33,
     "metadata": {},
     "output_type": "execute_result"
    }
   ],
   "source": [
    "ff = fnames[:10]\n",
    "ff"
   ]
  },
  {
   "cell_type": "code",
   "execution_count": 34,
   "metadata": {},
   "outputs": [
    {
     "name": "stdout",
     "output_type": "stream",
     "text": [
      "fuzzy match of \"218. Deadfall LIVE! (w_ Chelsea Peretti).mp3\" and \"Chelsea Peretti\" is: 100\n",
      "fuzzy match of \"11 The Tourist (w_ Gil Ozeri, Natasha Leggero).mp3\" and \"Chelsea Peretti\" is: 33\n",
      "fuzzy match of \"40 Judge Dredd (w_ Erica Oyama).mp3\" and \"Chelsea Peretti\" is: 27\n",
      "fuzzy match of \"229. The Spirit of Christmas (w_ Jessica St. Clair).mp3\" and \"Chelsea Peretti\" is: 33\n",
      "fuzzy match of \"248 The VelociPastor.mp3\" and \"Chelsea Peretti\" is: 33\n",
      "fuzzy match of \"217. Jaws 3-D.mp3\" and \"Chelsea Peretti\" is: 14\n",
      "fuzzy match of \"308. Ghost in the Machine.mp3\" and \"Chelsea Peretti\" is: 20\n",
      "fuzzy match of \"233. Space Jam_ LIVE!.mp3\" and \"Chelsea Peretti\" is: 20\n",
      "fuzzy match of \"153. Escape from LA_ LIVE! (w_ D_Arcy Carden, Dan Levy).mp3\" and \"Chelsea Peretti\" is: 20\n",
      "fuzzy match of \"278. Old.mp3\" and \"Chelsea Peretti\" is: 8\n"
     ]
    }
   ],
   "source": [
    "search_str = 'Chelsea Peretti'\n",
    "for f in ff:\n",
    "    print(f'fuzzy match of \"{f}\" and \"{search_str}\" is: {fuzz.partial_ratio(search_str, f)}')"
   ]
  },
  {
   "cell_type": "code",
   "execution_count": 11,
   "metadata": {},
   "outputs": [
    {
     "data": {
      "text/plain": [
       "'1 Burlesque.mp3'"
      ]
     },
     "execution_count": 11,
     "metadata": {},
     "output_type": "execute_result"
    }
   ],
   "source": [
    "all_filenames[0]"
   ]
  },
  {
   "cell_type": "code",
   "execution_count": 3,
   "metadata": {},
   "outputs": [],
   "source": [
    "import base64 \n",
    "\n",
    "with open(f\"{base_dir}/{fnames[0]}\", 'rb') as f:\n",
    "    data = f.read()\n",
    "    # wav_file = base64.b64encode(data).decode('UTF-8')\n",
    "    wav_file = data\n",
    "wav_file "
   ]
  },
  {
   "cell_type": "code",
   "execution_count": 6,
   "metadata": {},
   "outputs": [
    {
     "data": {
      "text/plain": [
       "'SUQzBAAAAD10XVRJVDIAAAA4AAADMTUzLiBFc2NhcGUgZnJvbSBMQTogTElWRSEgKHcvIEQnQXJjeSBDYXJkZW4sIERhbiBMZXZ5KVRQRTEAAAAXAAADSG93IERpZCBUaGlzIEdldCBNYWRlP1RBTEIAAAAXAAADSG93IERpZCBUaGlzIEdldCBNYWRlP1RMQU4AAAAI'"
      ]
     },
     "execution_count": 6,
     "metadata": {},
     "output_type": "execute_result"
    }
   ],
   "source": [
    "x[:200].decode('UTF-8')"
   ]
  },
  {
   "cell_type": "code",
   "execution_count": 13,
   "metadata": {},
   "outputs": [
    {
     "name": "stdout",
     "output_type": "stream",
     "text": [
      "Collecting requests\n",
      "  Using cached requests-2.31.0-py3-none-any.whl (62 kB)\n",
      "Collecting charset-normalizer<4,>=2\n",
      "  Downloading charset_normalizer-3.2.0-py3-none-any.whl (46 kB)\n",
      "\u001b[K     |████████████████████████████████| 46 kB 474 kB/s eta 0:00:01\n",
      "\u001b[?25hCollecting certifi>=2017.4.17\n",
      "  Using cached certifi-2023.7.22-py3-none-any.whl (158 kB)\n",
      "Collecting idna<4,>=2.5\n",
      "  Using cached idna-3.4-py3-none-any.whl (61 kB)\n",
      "Collecting urllib3<3,>=1.21.1\n",
      "  Using cached urllib3-2.0.4-py3-none-any.whl (123 kB)\n",
      "Installing collected packages: charset-normalizer, certifi, idna, urllib3, requests\n",
      "Successfully installed certifi-2023.7.22 charset-normalizer-3.2.0 idna-3.4 requests-2.31.0 urllib3-2.0.4\n",
      "\u001b[33mWARNING: You are using pip version 20.2.3; however, version 23.2.1 is available.\n",
      "You should consider upgrading via the '/Users/kaleb/Documents/gitRepos/Projects/Hdtgm_webserver/hdtgm_server/bin/python -m pip install --upgrade pip' command.\u001b[0m\n"
     ]
    }
   ],
   "source": [
    "!pip install requests"
   ]
  },
  {
   "cell_type": "code",
   "execution_count": 14,
   "metadata": {},
   "outputs": [
    {
     "name": "stderr",
     "output_type": "stream",
     "text": [
      "/Users/kaleb/Documents/gitRepos/Projects/Hdtgm_webserver/hdtgm_server/lib/python3.8/site-packages/urllib3/__init__.py:34: NotOpenSSLWarning: urllib3 v2.0 only supports OpenSSL 1.1.1+, currently the 'ssl' module is compiled with 'LibreSSL 2.8.3'. See: https://github.com/urllib3/urllib3/issues/3020\n",
      "  warnings.warn(\n"
     ]
    },
    {
     "ename": "MissingSchema",
     "evalue": "Invalid URL '/audio': No scheme supplied. Perhaps you meant https:///audio?",
     "output_type": "error",
     "traceback": [
      "\u001b[0;31m---------------------------------------------------------------------------\u001b[0m",
      "\u001b[0;31mMissingSchema\u001b[0m                             Traceback (most recent call last)",
      "Cell \u001b[0;32mIn[14], line 3\u001b[0m\n\u001b[1;32m      1\u001b[0m \u001b[39mimport\u001b[39;00m \u001b[39mrequests\u001b[39;00m\n\u001b[0;32m----> 3\u001b[0m requests\u001b[39m.\u001b[39;49mget(\u001b[39m'\u001b[39;49m\u001b[39m/audio\u001b[39;49m\u001b[39m'\u001b[39;49m)\n",
      "File \u001b[0;32m~/Documents/gitRepos/Projects/Hdtgm_webserver/hdtgm_server/lib/python3.8/site-packages/requests/api.py:73\u001b[0m, in \u001b[0;36mget\u001b[0;34m(url, params, **kwargs)\u001b[0m\n\u001b[1;32m     62\u001b[0m \u001b[39mdef\u001b[39;00m \u001b[39mget\u001b[39m(url, params\u001b[39m=\u001b[39m\u001b[39mNone\u001b[39;00m, \u001b[39m*\u001b[39m\u001b[39m*\u001b[39mkwargs):\n\u001b[1;32m     63\u001b[0m \u001b[39m    \u001b[39m\u001b[39mr\u001b[39m\u001b[39m\"\"\"Sends a GET request.\u001b[39;00m\n\u001b[1;32m     64\u001b[0m \n\u001b[1;32m     65\u001b[0m \u001b[39m    :param url: URL for the new :class:`Request` object.\u001b[39;00m\n\u001b[0;32m   (...)\u001b[0m\n\u001b[1;32m     70\u001b[0m \u001b[39m    :rtype: requests.Response\u001b[39;00m\n\u001b[1;32m     71\u001b[0m \u001b[39m    \"\"\"\u001b[39;00m\n\u001b[0;32m---> 73\u001b[0m     \u001b[39mreturn\u001b[39;00m request(\u001b[39m\"\u001b[39;49m\u001b[39mget\u001b[39;49m\u001b[39m\"\u001b[39;49m, url, params\u001b[39m=\u001b[39;49mparams, \u001b[39m*\u001b[39;49m\u001b[39m*\u001b[39;49mkwargs)\n",
      "File \u001b[0;32m~/Documents/gitRepos/Projects/Hdtgm_webserver/hdtgm_server/lib/python3.8/site-packages/requests/api.py:59\u001b[0m, in \u001b[0;36mrequest\u001b[0;34m(method, url, **kwargs)\u001b[0m\n\u001b[1;32m     55\u001b[0m \u001b[39m# By using the 'with' statement we are sure the session is closed, thus we\u001b[39;00m\n\u001b[1;32m     56\u001b[0m \u001b[39m# avoid leaving sockets open which can trigger a ResourceWarning in some\u001b[39;00m\n\u001b[1;32m     57\u001b[0m \u001b[39m# cases, and look like a memory leak in others.\u001b[39;00m\n\u001b[1;32m     58\u001b[0m \u001b[39mwith\u001b[39;00m sessions\u001b[39m.\u001b[39mSession() \u001b[39mas\u001b[39;00m session:\n\u001b[0;32m---> 59\u001b[0m     \u001b[39mreturn\u001b[39;00m session\u001b[39m.\u001b[39;49mrequest(method\u001b[39m=\u001b[39;49mmethod, url\u001b[39m=\u001b[39;49murl, \u001b[39m*\u001b[39;49m\u001b[39m*\u001b[39;49mkwargs)\n",
      "File \u001b[0;32m~/Documents/gitRepos/Projects/Hdtgm_webserver/hdtgm_server/lib/python3.8/site-packages/requests/sessions.py:575\u001b[0m, in \u001b[0;36mSession.request\u001b[0;34m(self, method, url, params, data, headers, cookies, files, auth, timeout, allow_redirects, proxies, hooks, stream, verify, cert, json)\u001b[0m\n\u001b[1;32m    562\u001b[0m \u001b[39m# Create the Request.\u001b[39;00m\n\u001b[1;32m    563\u001b[0m req \u001b[39m=\u001b[39m Request(\n\u001b[1;32m    564\u001b[0m     method\u001b[39m=\u001b[39mmethod\u001b[39m.\u001b[39mupper(),\n\u001b[1;32m    565\u001b[0m     url\u001b[39m=\u001b[39murl,\n\u001b[0;32m   (...)\u001b[0m\n\u001b[1;32m    573\u001b[0m     hooks\u001b[39m=\u001b[39mhooks,\n\u001b[1;32m    574\u001b[0m )\n\u001b[0;32m--> 575\u001b[0m prep \u001b[39m=\u001b[39m \u001b[39mself\u001b[39;49m\u001b[39m.\u001b[39;49mprepare_request(req)\n\u001b[1;32m    577\u001b[0m proxies \u001b[39m=\u001b[39m proxies \u001b[39mor\u001b[39;00m {}\n\u001b[1;32m    579\u001b[0m settings \u001b[39m=\u001b[39m \u001b[39mself\u001b[39m\u001b[39m.\u001b[39mmerge_environment_settings(\n\u001b[1;32m    580\u001b[0m     prep\u001b[39m.\u001b[39murl, proxies, stream, verify, cert\n\u001b[1;32m    581\u001b[0m )\n",
      "File \u001b[0;32m~/Documents/gitRepos/Projects/Hdtgm_webserver/hdtgm_server/lib/python3.8/site-packages/requests/sessions.py:486\u001b[0m, in \u001b[0;36mSession.prepare_request\u001b[0;34m(self, request)\u001b[0m\n\u001b[1;32m    483\u001b[0m     auth \u001b[39m=\u001b[39m get_netrc_auth(request\u001b[39m.\u001b[39murl)\n\u001b[1;32m    485\u001b[0m p \u001b[39m=\u001b[39m PreparedRequest()\n\u001b[0;32m--> 486\u001b[0m p\u001b[39m.\u001b[39;49mprepare(\n\u001b[1;32m    487\u001b[0m     method\u001b[39m=\u001b[39;49mrequest\u001b[39m.\u001b[39;49mmethod\u001b[39m.\u001b[39;49mupper(),\n\u001b[1;32m    488\u001b[0m     url\u001b[39m=\u001b[39;49mrequest\u001b[39m.\u001b[39;49murl,\n\u001b[1;32m    489\u001b[0m     files\u001b[39m=\u001b[39;49mrequest\u001b[39m.\u001b[39;49mfiles,\n\u001b[1;32m    490\u001b[0m     data\u001b[39m=\u001b[39;49mrequest\u001b[39m.\u001b[39;49mdata,\n\u001b[1;32m    491\u001b[0m     json\u001b[39m=\u001b[39;49mrequest\u001b[39m.\u001b[39;49mjson,\n\u001b[1;32m    492\u001b[0m     headers\u001b[39m=\u001b[39;49mmerge_setting(\n\u001b[1;32m    493\u001b[0m         request\u001b[39m.\u001b[39;49mheaders, \u001b[39mself\u001b[39;49m\u001b[39m.\u001b[39;49mheaders, dict_class\u001b[39m=\u001b[39;49mCaseInsensitiveDict\n\u001b[1;32m    494\u001b[0m     ),\n\u001b[1;32m    495\u001b[0m     params\u001b[39m=\u001b[39;49mmerge_setting(request\u001b[39m.\u001b[39;49mparams, \u001b[39mself\u001b[39;49m\u001b[39m.\u001b[39;49mparams),\n\u001b[1;32m    496\u001b[0m     auth\u001b[39m=\u001b[39;49mmerge_setting(auth, \u001b[39mself\u001b[39;49m\u001b[39m.\u001b[39;49mauth),\n\u001b[1;32m    497\u001b[0m     cookies\u001b[39m=\u001b[39;49mmerged_cookies,\n\u001b[1;32m    498\u001b[0m     hooks\u001b[39m=\u001b[39;49mmerge_hooks(request\u001b[39m.\u001b[39;49mhooks, \u001b[39mself\u001b[39;49m\u001b[39m.\u001b[39;49mhooks),\n\u001b[1;32m    499\u001b[0m )\n\u001b[1;32m    500\u001b[0m \u001b[39mreturn\u001b[39;00m p\n",
      "File \u001b[0;32m~/Documents/gitRepos/Projects/Hdtgm_webserver/hdtgm_server/lib/python3.8/site-packages/requests/models.py:368\u001b[0m, in \u001b[0;36mPreparedRequest.prepare\u001b[0;34m(self, method, url, headers, files, data, params, auth, cookies, hooks, json)\u001b[0m\n\u001b[1;32m    365\u001b[0m \u001b[39m\u001b[39m\u001b[39m\"\"\"Prepares the entire request with the given parameters.\"\"\"\u001b[39;00m\n\u001b[1;32m    367\u001b[0m \u001b[39mself\u001b[39m\u001b[39m.\u001b[39mprepare_method(method)\n\u001b[0;32m--> 368\u001b[0m \u001b[39mself\u001b[39;49m\u001b[39m.\u001b[39;49mprepare_url(url, params)\n\u001b[1;32m    369\u001b[0m \u001b[39mself\u001b[39m\u001b[39m.\u001b[39mprepare_headers(headers)\n\u001b[1;32m    370\u001b[0m \u001b[39mself\u001b[39m\u001b[39m.\u001b[39mprepare_cookies(cookies)\n",
      "File \u001b[0;32m~/Documents/gitRepos/Projects/Hdtgm_webserver/hdtgm_server/lib/python3.8/site-packages/requests/models.py:439\u001b[0m, in \u001b[0;36mPreparedRequest.prepare_url\u001b[0;34m(self, url, params)\u001b[0m\n\u001b[1;32m    436\u001b[0m     \u001b[39mraise\u001b[39;00m InvalidURL(\u001b[39m*\u001b[39me\u001b[39m.\u001b[39margs)\n\u001b[1;32m    438\u001b[0m \u001b[39mif\u001b[39;00m \u001b[39mnot\u001b[39;00m scheme:\n\u001b[0;32m--> 439\u001b[0m     \u001b[39mraise\u001b[39;00m MissingSchema(\n\u001b[1;32m    440\u001b[0m         \u001b[39mf\u001b[39m\u001b[39m\"\u001b[39m\u001b[39mInvalid URL \u001b[39m\u001b[39m{\u001b[39;00murl\u001b[39m!r}\u001b[39;00m\u001b[39m: No scheme supplied. \u001b[39m\u001b[39m\"\u001b[39m\n\u001b[1;32m    441\u001b[0m         \u001b[39mf\u001b[39m\u001b[39m\"\u001b[39m\u001b[39mPerhaps you meant https://\u001b[39m\u001b[39m{\u001b[39;00murl\u001b[39m}\u001b[39;00m\u001b[39m?\u001b[39m\u001b[39m\"\u001b[39m\n\u001b[1;32m    442\u001b[0m     )\n\u001b[1;32m    444\u001b[0m \u001b[39mif\u001b[39;00m \u001b[39mnot\u001b[39;00m host:\n\u001b[1;32m    445\u001b[0m     \u001b[39mraise\u001b[39;00m InvalidURL(\u001b[39mf\u001b[39m\u001b[39m\"\u001b[39m\u001b[39mInvalid URL \u001b[39m\u001b[39m{\u001b[39;00murl\u001b[39m!r}\u001b[39;00m\u001b[39m: No host supplied\u001b[39m\u001b[39m\"\u001b[39m)\n",
      "\u001b[0;31mMissingSchema\u001b[0m: Invalid URL '/audio': No scheme supplied. Perhaps you meant https:///audio?"
     ]
    }
   ],
   "source": [
    "import requests\n",
    "\n",
    "requests.get('/audio')"
   ]
  },
  {
   "cell_type": "code",
   "execution_count": 4,
   "metadata": {},
   "outputs": [
    {
     "data": {
      "text/plain": [
       "b'SUQzBAAAAD10XVRJVDIAAAA4AAADMTUzLiBFc2NhcGUgZnJvbSBMQTogTElWRSEgKHcvIEQnQXJjeSBDYXJkZW4sIERhbiBMZXZ5KVRQRTEAAAAXAAADSG93IERpZCBUaGlzIEdldCBNYWRlP1RBTEIAAAAXAAADSG93IERpZCBUaGlzIEdldCBNYWRlP1RMQU4AAAAI'"
      ]
     },
     "execution_count": 4,
     "metadata": {},
     "output_type": "execute_result"
    }
   ],
   "source": [
    "x[:200]"
   ]
  }
 ],
 "metadata": {
  "kernelspec": {
   "display_name": "hdtgm_server",
   "language": "python",
   "name": "python3"
  },
  "language_info": {
   "codemirror_mode": {
    "name": "ipython",
    "version": 3
   },
   "file_extension": ".py",
   "mimetype": "text/x-python",
   "name": "python",
   "nbconvert_exporter": "python",
   "pygments_lexer": "ipython3",
   "version": "3.8.9"
  },
  "orig_nbformat": 4
 },
 "nbformat": 4,
 "nbformat_minor": 2
}
