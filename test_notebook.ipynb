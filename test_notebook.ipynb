{
 "cells": [
  {
   "cell_type": "code",
   "execution_count": 1,
   "metadata": {},
   "outputs": [
    {
     "data": {
      "text/plain": [
       "['218. Deadfall LIVE! (w_ Chelsea Peretti).mp3',\n",
       " '11 The Tourist (w_ Gil Ozeri, Natasha Leggero).mp3',\n",
       " '40 Judge Dredd (w_ Erica Oyama).mp3',\n",
       " '229. The Spirit of Christmas (w_ Jessica St. Clair).mp3',\n",
       " '248 The VelociPastor.mp3',\n",
       " '217. Jaws 3-D.mp3',\n",
       " '308. Ghost in the Machine.mp3',\n",
       " '233. Space Jam_ LIVE!.mp3',\n",
       " '153. Escape from LA_ LIVE! (w_ D_Arcy Carden, Dan Levy).mp3',\n",
       " '278. Old.mp3',\n",
       " '307. 12 Pups of Christmas.mp3',\n",
       " '4 The Last Airbender (w_ Jon Daly).mp3',\n",
       " '16 The Smurfs (w_ Paul F. Tompkins).mp3',\n",
       " '74 Halloween III_ Season of the Witch.mp3',\n",
       " '264. The Visitor with Rob Huebel.mp3',\n",
       " '260. Jade.mp3',\n",
       " '258. Lawnmower Man 2.mp3',\n",
       " '284. Shadow in the Cloud.mp3',\n",
       " '49 Cobra_ LIVE (w_ Brian Posehn, Rhett Miller).mp3',\n",
       " '146. Dreamcatcher (w_ Curtis Gwinn, Jessica McKenna).mp3',\n",
       " '3 Old Dogs (w_ Casey Wilson).mp3',\n",
       " '12 The Love Guru (w_ Matt Walsh).mp3',\n",
       " '281. Snowmance.mp3',\n",
       " '72 Toys (w_ Drew McWeeny).mp3',\n",
       " '235 Underworld_ Blood Wars LIVE!.mp3',\n",
       " '92 The 1st Annual Howdies Pt. 2.mp3',\n",
       " '174 Jason X_ LIVE! (w_ Rob Huebel, Jenny Slate).mp3',\n",
       " '21 I Know Who Killed Me.mp3',\n",
       " '157. Surf Ninjas_ LIVE! (w_ Rob Huebel, Nicole Byer, Gil Ozeri).mp3',\n",
       " '14. Green Lantern.mp3',\n",
       " '76. Fair Game (w_ Danny Zuker).mp3',\n",
       " '77 Hudson Hawk (w_ Emily Gordon).mp3',\n",
       " '53 Anaconda.mp3',\n",
       " '35 Tiptoes (w_ Dave Holmes).mp3',\n",
       " '234 Prelude to a Kiss (w_ Andy Greenwald.mp3',\n",
       " '214. Hercules_ LIVE! (w_ Leslye Headland, Sasheer Zamata).mp3',\n",
       " '78 Crossroads (w_ Jeff Rubin).mp3',\n",
       " '42 Batman _ Robin (w_ Matt Mira, Jesse Falcon).mp3',\n",
       " '181 Freejack_ LIVE! (w_ Phoebe Robinson, Jessica St. Clair).mp3',\n",
       " '219. Drop Dead Fred_ LIVE! (w_ Casey Wilson).mp3',\n",
       " '126. The Star Wars Holiday Special (w_ Matt Gourley, Eden Sher).mp3',\n",
       " '144. Stealth (w_ Charlie Sanders).mp3',\n",
       " '257. A Gnome Named Gnorm.mp3',\n",
       " '208 Harry _ Meghan_ A Royal Romance LIVE! (w_ Casey Wilson).mp3',\n",
       " '37 Speed 2_ Cruise Control (w_ Scott Aukerman).mp3',\n",
       " '58. In The Name of The King (w_ Seth Morris).mp3',\n",
       " '180 Howling II Your Sister Is a Wer.mp3',\n",
       " '291. Diana the Musical.mp3',\n",
       " '43 Wild Wild West (w_ Kevin Smith).mp3',\n",
       " '6 Battlefield Earth (w_ Rob Huebel).mp3',\n",
       " '136 Hell Comes to Frogtown_ LIVE! (w_ Natasha Leggero, Moshe Kasher).mp3',\n",
       " '30. Director_s Edition_ Cool as Ice.mp3',\n",
       " '215. The Country Bears (w_ Kulap Vilaysack).mp3',\n",
       " '81. Mortal Kombat.mp3',\n",
       " '60 Street Fighter (w_ John Gemberling).mp3',\n",
       " '107 Lake Placid_ LIVE! (w_ Paul F. Tompkins, Nate Corddry).mp3',\n",
       " '19 The Wicker Man.mp3',\n",
       " '46 Barb Wire (w_ Jesse Thorn).mp3',\n",
       " '165 Ninja Terminator_ LIVE! (w_ Abbi Jacobson, Ilana Glazer).mp3',\n",
       " '222. Unforgettable_ LIVE!.mp3',\n",
       " '85. Color of Night (w_ Amy Schumer).mp3',\n",
       " '28 Crank_ Director_s Edition.mp3',\n",
       " '205 Cellular (w_ Ike Barinholtz, Erin Gibson).mp3',\n",
       " '102 Tango _ Cash (w_ Nick Kroll).mp3',\n",
       " '251 Breakin_ 2_ Electric Boogaloo.mp3',\n",
       " '27 Twilight Breaking Dawn Pt 1.mp3',\n",
       " '132 Bloodsport_ LIVE! (w_ Nicole Byer).mp3',\n",
       " '73. Congo (w_ Nick Wiger).mp3',\n",
       " '179 Second Sight_ LIVE! (w_ Jessica St. Clair).mp3',\n",
       " '123. Lifeforce (w_ Lennon Parham).mp3',\n",
       " '82. Double Team (w_ Owen Burke).mp3',\n",
       " '203 Perfect Stranger_ LIVE!.mp3',\n",
       " '39 Godzilla (w_ Chris Gore).mp3',\n",
       " '147. Gamer_ LIVE! (w_ Robert Kirkman, Emily V. Gordon).mp3',\n",
       " '2. Season of the Witch.mp3',\n",
       " '250 Under the Cherry Moon.mp3',\n",
       " '283. Babes in Toyland LIVE.mp3',\n",
       " '253 Cats.mp3',\n",
       " '196 The Meg_ LIVE! (w_ Nicole Byer, Adam Scott).mp3',\n",
       " '128. Streets of Fire_ LIVE! (w_ Rachel Bloom, Jessica St. Clair).mp3',\n",
       " '112 Jupiter Ascending (w_ Franklin Leonard, Razzle Dangerously, Josh Richmond).mp3',\n",
       " '119 Maximum Overdrive_ LIVE! (w_ Andy Daly).mp3',\n",
       " '195 Never Too Young to Die_ LIVE! (w_ Matt McConkey).mp3',\n",
       " '150 Grease 2 (w_ Anna Faris).mp3',\n",
       " '272. Surrogates.mp3',\n",
       " '124 Hackers.mp3',\n",
       " '130 Teen Witch (w_ Deanna Cheng).mp3',\n",
       " '236 The Great Wall_ LIVE!.mp3',\n",
       " '69 Crocodile Dundee in Los Angeles (w_ Eddie Pepitone, Matthew Berry).mp3',\n",
       " '187 Beautiful Creatures (w_ Erin Whitehead, Kate Hagen).mp3',\n",
       " '300. Hard Target.mp3',\n",
       " '254 Love_s Labour_s Lost.mp3',\n",
       " '191 Rad_ LIVE!.mp3',\n",
       " '63 Fast _ Furious 6 (w_ Adam Scott).mp3',\n",
       " '202 Look Who_s Talking Now (w_ Conan O_Brien).mp3',\n",
       " '164 The Wraith_ LIVE! (w_ Tim Baltz, Eliza Skinner).mp3',\n",
       " '304. Dracula 2000.mp3',\n",
       " '87 Easy Rider 2_ The Ride Back (w_ Nick Thune).mp3',\n",
       " '166 Timecop_ LIVE! (w_ Nick Kroll).mp3',\n",
       " '168 Hard Ticket to Hawaii_ LIVE! (w_ Andrea Savage, Karen Kilgariff).mp3',\n",
       " '158 Body Parts_ LIVE! (w_ Gillian Jacobs, Claudia O_Doherty).mp3',\n",
       " '276. Malignant.mp3',\n",
       " '32 88 Minutes.mp3',\n",
       " '24. Superman III_ LIVE!.mp3',\n",
       " '173. Virtuosity_ LIVE! (w_ Sarah Silverman, Taran Killam).mp3',\n",
       " '265. Supergirl with Brie Larson.mp3',\n",
       " '138. The Boy Next Door (w_ Heather Anne Campbell, Ben Siemon).mp3',\n",
       " '80 Jack Frost_ LIVE! (w_ Dan Harmon).mp3',\n",
       " '227. Double Dragon_ LIVE!.mp3',\n",
       " '216. Serenity_ LIVE! (w_ Nick Kroll).mp3',\n",
       " '8 Sucker Punch.mp3',\n",
       " '246 Swordfish_ LIVE!.mp3',\n",
       " '142. The Phantom_ LIVE! (w_ Eliza Skinner, Ed Brubaker).mp3',\n",
       " '200th Mini Retrospective Clip Show Spectacular!.mp3',\n",
       " '252 Governor Gabbi_ LIVE!.mp3',\n",
       " '244 My Demon Lover.mp3',\n",
       " '96. Monkey Shines.mp3',\n",
       " '105 Safe Haven (w_ Eliza Skinner, Jordan Rubin).mp3',\n",
       " '71 The Glimmer Man (w_ Jon Lajoie).mp3',\n",
       " '199 A Night In Heaven_ LIVE! (w_ Tawny Newsome, Jen D_Angelo).mp3',\n",
       " '210. Van Helsing_ LIVE! (w_ Seth Rogen, Riki Lindhome, Ben Blacker).mp3',\n",
       " '225. Friday the 13th Part VI_ Jason Lives_ LIVE!.mp3',\n",
       " '172 The Last Dragon_ LIVE! (w_ Hannibal Buress).mp3',\n",
       " '34 The Adventures of Pluto Nash (w_ Lennon Parham, Jessica St. Clair).mp3',\n",
       " '31. Birdemic_ LIVE!.mp3',\n",
       " '197 Beastly_ LIVE!.mp3',\n",
       " '177. The Disaster Artist (w_ James Franco, Seth Rogen, Tommy Wiseau).mp3',\n",
       " '44 Jaws 4_ The Revenge (w_ Jake Fogelnest).mp3',\n",
       " '65 Howard the Duck_ LIVE! (w_ Kristen Schaal).mp3',\n",
       " '57 From Justin To Kelly_ LIVE!.mp3',\n",
       " '223. Disclosure (w_ Nick Kroll, Emily Altman).mp3',\n",
       " '120 Masters of the Universe (w_ Tatiana Maslany).mp3',\n",
       " '266. Tammy and the T - Rex.mp3',\n",
       " '274. The Dirt Bike Kid.mp3',\n",
       " '237 Valerian And The City Of A Thousand.mp3',\n",
       " '292. A Sound of Thunder.mp3',\n",
       " '241 Ninja III_ The Domination.mp3',\n",
       " '91 The 1st Annual Howdies Pt. 1.mp3',\n",
       " '67 Sharknado (w_ Scott Aukerman).mp3',\n",
       " '55 The Devil_s Advocate_ LIVE!.mp3',\n",
       " '121 Perfect_ LIVE! (w_ Seth Morris).mp3',\n",
       " '68. Over The Top_ LIVE! (w_ Bobby Moynihan).mp3',\n",
       " '17. Skyline.mp3',\n",
       " '189 Sky Captain and the World of Tomorrow_ LIVE! (w_ Joe Mande, Tawny Newsome).mp3',\n",
       " '239 Cool World.mp3',\n",
       " '117. Theodore Rex_ LIVE!.mp3',\n",
       " '287. Killing Me Softly.mp3',\n",
       " '129. The Apple_ LIVE! (w_ Andy Richter).mp3',\n",
       " '20. Punisher_ War Zone.mp3',\n",
       " '201 Skyscraper (w_ Paul F. Tompkins, Rhea Butcher).mp3',\n",
       " '51 Liz and Dick (w_ Drew Droege).mp3',\n",
       " '185 Adore (w_ Charles Rogers, Jordan Firstman, Kulap Vilaysack).mp3',\n",
       " '109 Face Off_ LIVE! (w_ Randall Park).mp3',\n",
       " '188 Body Rock_ LIVE! (w_ Alison Brie).mp3',\n",
       " '228. High Strung (Live from The Beacon Theatre).mp3',\n",
       " '294. Moonfall.mp3',\n",
       " '295. Until We Meet Again.mp3',\n",
       " '190 Hurricane Heist_ LIVE!.mp3',\n",
       " '94 Glitter_ LIVE! (w_ Adam Scott, Casey Wilson, Dan Levy).mp3',\n",
       " '116 Top Dog_ LIVE!.mp3',\n",
       " '106. Deep Blue Sea_ LIVE! (w_ Evan Goldberg, Paul F. Tompkins).mp3',\n",
       " '127 Kazaam_ LIVE! (w_ Kay Cannon).mp3',\n",
       " '159 Sleepwalkers (w_ Lauren Lapkus).mp3',\n",
       " '232. The Adventures of Pinocchio_ LIVE!.mp3',\n",
       " '301. Open Windows.mp3',\n",
       " '224. Starcrash_ LIVE!.mp3',\n",
       " '139 Simply Irresistible (w_ Jensen Karp).mp3',\n",
       " '267. Abraxas, Guardian of the Universe.mp3',\n",
       " '206 Little Italy.mp3',\n",
       " '186 Geostorm_ LIVE! (w_ Colton Dunn, Jessica St. Clair).mp3',\n",
       " '118. Furious 7_ LIVE (w_ Adam Scott).mp3',\n",
       " '242 The Boyfriend School.mp3',\n",
       " '149. The Lawnmower Man_ LIVE! (w_ Neil Casey, Emily Heller).mp3',\n",
       " '135 Solarbabies_ LIVE! (w_ John Mulaney).mp3',\n",
       " '104 Zardoz 2.mp3',\n",
       " '194 Yes, Giorgio_ LIVE!.mp3',\n",
       " '143. Gods of Egypt (w_ Erin Gibson, Bryan Safi).mp3',\n",
       " '286. Kate and Leopold.mp3',\n",
       " '98 LOL_ LIVE! (w_ Rob Huebel, Chelsea Peretti, John Flynn).mp3',\n",
       " '231. Master of Disguise (Live from The Beacon Theatre).mp3',\n",
       " '299. Love on a Leash.mp3',\n",
       " '89. Gooby (w_ Nathan Fielder).mp3',\n",
       " '207 Dragon Blade (w_ Daniel Radcliffe, Erin Darke).mp3',\n",
       " '47 Super Mario Bros_ LIVE!.mp3',\n",
       " '162 My Stepmother Is An Alien_ LIVE! (w_ Whitney Cummings).mp3',\n",
       " '282. Knight Before Christmas.mp3',\n",
       " '169 The Garbage Pail Kids Movie_ LIVE! (w_ Jon Lovett).mp3',\n",
       " '45 Road House_ LIVE!.mp3',\n",
       " '306. Oogie Loves.mp3',\n",
       " '111 Hercules in New York_ LIVE! (w_ Abbi Jacobson).mp3',\n",
       " '302. An American Werewolf in Paris.mp3',\n",
       " '1 Burlesque.mp3',\n",
       " '182 Rock Star_ LIVE! (w_ Jake Weisman).mp3',\n",
       " '211. The Secret (w_ Topher Grace, Joel Kim Booster).mp3',\n",
       " '110 The Island of Dr. Moreau (w_ Alex Fernie).mp3',\n",
       " '151 The 2nd Annual Howdies Pt. 1.mp3',\n",
       " '220. Hobbs _ Shaw_ LIVE! (w_ Adam Scott, Nicole Byer).mp3',\n",
       " '178 Superman IV_ The Quest For Peace_ LIVE! (w_ Natasha Lyonne, Jessica St. Clair).mp3',\n",
       " '263. The January Man with Kulap Vilaysack.mp3',\n",
       " '83. Winter_s Tale (w_ Andy Daly).mp3',\n",
       " '93 Staying Alive_ LIVE! (w_ Katie Dippold).mp3',\n",
       " '305. Designed to Kill.mp3',\n",
       " '54 The Odd Life of Timothy Green (w_ Tim Heidecker).mp3',\n",
       " '114 Runaway (w_ Rhea Butcher).mp3',\n",
       " '100 Junior.mp3',\n",
       " '103 Zardoz (w_ Brett Gelman).mp3',\n",
       " '170 Bratz (w_ Kate Berlant).mp3',\n",
       " '141 The Shadow_ LIVE! (w_ Pete Davidson).mp3',\n",
       " '145. Vampire Academy (w_ Michael Showalter, Aisling Bea).mp3',\n",
       " '86. Ernest Goes To Jail (w_ Lesley Arfin).mp3',\n",
       " '261. A Talking Cat!! with Jessica St  Clair.mp3',\n",
       " '33 Abduction (w_ Jessica Chaffin).mp3',\n",
       " '243 The Peanut Butter Solution.mp3',\n",
       " '48 Sleepaway Camp.mp3',\n",
       " '75 Daredevil (w_ Ed Brubaker).mp3',\n",
       " '176 Jazz Singer_ LIVE! (w_ Chris Gethard).mp3',\n",
       " '15 The Back-Up Plan (w_ Jackie Clarke).mp3',\n",
       " '61 Stop! Or My Mom Will Shoot (w_ Kate Spencer).mp3',\n",
       " '10. Mac _ Me.mp3',\n",
       " '213. Shanghai Surprise (w_ Jordan Rubin).mp3',\n",
       " '22. Leprechaun in the Hood.mp3',\n",
       " '167 Chopping Mall_ LIVE! (w_ Mary Holland).mp3',\n",
       " '70 Gymkata_ LIVE! (w_ Michael Showalter).mp3',\n",
       " '59 Spice World (w_ Retta).mp3',\n",
       " '271. Fast _ Furious F9 with Adam Scott.mp3',\n",
       " '41 Spider-Man 3.mp3',\n",
       " '125 Steel_ LIVE! (w_ Anders Holm).mp3',\n",
       " '101 Xanadu_ LIVE! (w_ Michaela Watkins).mp3',\n",
       " '161 The Fate of the Furious (w_ Adam Scott).mp3',\n",
       " '133 The Quest (w_ Jon Gabrus).mp3',\n",
       " '7 All About Steve (w_ Brandon Johnson).mp3',\n",
       " '25 Catwoman.mp3',\n",
       " '293. Grand Piano.mp3',\n",
       " '212. Hello Mary Lou_ Prom Night II_ LIVE! (w_ Charlize Theron, Seth Rogen).mp3',\n",
       " '289 Shattered.mp3',\n",
       " '298. Music from Another Room.mp3',\n",
       " '90 Sharknado 2_ The Second One (w_ Scott Aukerman).mp3',\n",
       " '122 Death Spa_ LIVE! (w_ Horatio Sanz).mp3',\n",
       " '171 Miami Connection_ LIVE! (w_ Chris Geere).mp3',\n",
       " '256 10 Year Anniversary Reflections_Burlesque Re-Release.mp3',\n",
       " '108 Con Air LIVE! (w_ Seth Grahame-Smith).mp3',\n",
       " '62 Joyful Noise\\u2028 (w_ Fred Stoller).mp3',\n",
       " '99 A View To a Kill_ LIVE (w_ Matt Gourley, Matt Mira).mp3',\n",
       " '288. Dancin It_s On.mp3',\n",
       " '26 Jingle All The Way.mp3',\n",
       " '88 Mr. Nanny_ LIVE! (w_ Rob Corddry).mp3',\n",
       " '270. The 6th Day.mp3',\n",
       " '204. Holiday in Handcuffs (w_ Jessica St. Clair).mp3',\n",
       " '154 Highlander II_ The Quickening LIVE! (w_ Sam Richardson).mp3',\n",
       " '240 Megaforce_ LIVE!.mp3',\n",
       " '36 On the Line.mp3',\n",
       " '13 Crank 2_ High Voltage (w_ Jensen Karp).mp3',\n",
       " '79 Deck the Halls_ LIVE! (w_ Andrea Savage).mp3',\n",
       " '50 Twilight_ Breaking Dawn Pt. 2 (w_ Doug Benson).mp3',\n",
       " '296.5 Tuff Turf Last Looks.mp3',\n",
       " '115. Sharknado 3_ Oh Hell No! (w_ Scott Aukerman).mp3',\n",
       " '148 Vampire_s Kiss_ LIVE! (w_ Hayes Davenport).mp3',\n",
       " '163 The Running Man (w_ Kulap Vilaysack).mp3',\n",
       " '259. Holy Matrimony 1994 _ Patricia Arquette.mp3',\n",
       " '226. Body of Evidence_ LIVE!.mp3',\n",
       " '200 Action Jackson_ LIVE! (w_ Seth Rogen).mp3',\n",
       " '247 2_22 LIVE!.mp3',\n",
       " '131. The Covenant (w_ Alison Rich).mp3',\n",
       " '296. Tuff Turf.mp3',\n",
       " '297. The Stardust Brothers.mp3',\n",
       " '5. Drive Angry.mp3',\n",
       " '275. Bugsy Malone.mp3',\n",
       " '23 The Room_ Director_s Edition.mp3',\n",
       " '140 Mannequin Two_ On the Move (w_ Steve Agee).mp3',\n",
       " '38 Bad Ass (w_ Danny Trejo).mp3',\n",
       " '175. Ultraviolet_ LIVE! (w_ Nick Wiger, Mike Mitchell).mp3',\n",
       " '183 Ladybugs_ LIVE! (w_ Patton Oswalt).mp3',\n",
       " '18. Gigli.mp3',\n",
       " '192 Striptease_ LIVE!.mp3',\n",
       " '52 Reindeer Games.mp3',\n",
       " '156 xXx_ Return of Xander Cage_ LIVE! (w_ Adam Scott).mp3',\n",
       " '97. Rhinestone_ LIVE! (w_ Matt Jones).mp3',\n",
       " '273. The island.mp3',\n",
       " '152 The 2nd Annual Howdies Pt. 2.mp3',\n",
       " '238 Bloodshot (w_ Adam Scott).mp3',\n",
       " '245 Money Plane.mp3',\n",
       " '137 The Avengers_ LIVE! (w_ Tom Scharpling).mp3',\n",
       " '9 Fast Five.mp3',\n",
       " '184 Johnny Mnemonic_ LIVE! (w_ Jessica St. Clair).mp3',\n",
       " '230. Fateful Findings_ LIVE! (w_ Rob Huebel).mp3',\n",
       " '255 A Very Nutty Christmas.mp3',\n",
       " '64 After Earth (w_ Paul F. Tompkins).mp3',\n",
       " '155. Airborne_ LIVE! (w_ Scott Aukerman, Kumail Nanjiani, Danielle Schneider).mp3',\n",
       " '221. The Hottie and the Nottie_ LIVE!.mp3',\n",
       " '198 Look Who_s Talking Too_ LIVE!.mp3',\n",
       " '249 Deadly Mile High Club.mp3',\n",
       " '279. Made in Heaven.mp3',\n",
       " '84 No Holds Barred_ LIVE! (w_ Thomas Lennon).mp3',\n",
       " '56 Nothing But Trouble.mp3',\n",
       " '277. Uninvited.mp3',\n",
       " '268 Tough Guys Don_t Dance.mp3',\n",
       " '193 Blues Brothers 2000_ LIVE!.mp3',\n",
       " '29 Trespass (w_ Rachael Harris).mp3',\n",
       " '290. Stone Cold.mp3',\n",
       " '209. The Snowman_ LIVE! (w_ Erin Gibson, Bryan Safi).mp3',\n",
       " '262 Zack Snyder_s Justice League (w_ Gri.mp3',\n",
       " '285. Voyage of the Rock Aliens.mp3',\n",
       " '66 Demolition Man_ LIVE! (w_ Wyatt Cenac).mp3',\n",
       " '160 The Lake House_ LIVE! (w_ Starlee Kine, Aisling Bea).mp3',\n",
       " '269. Replicas.mp3',\n",
       " '303. Wish Upon.mp3',\n",
       " '113 Teenage Mutant Ninja Turtles II_ The Secret of the Ooze_ LIVE! (w_ Adam Pally).mp3',\n",
       " '95 Temptation_ Confessions of a Marriage Counselor (w_ Katie Aselton).mp3']"
      ]
     },
     "execution_count": 1,
     "metadata": {},
     "output_type": "execute_result"
    }
   ],
   "source": [
    "import glob \n",
    "base_dir = '/Users/kaleb/Documents/HDTGM Episodes'\n",
    "\n",
    "all_files = glob.glob(f\"{base_dir}/*\")\n",
    "fnames = [f.split('/')[-1] for f in all_files]\n"
   ]
  },
  {
   "cell_type": "code",
   "execution_count": 158,
   "metadata": {},
   "outputs": [
    {
     "data": {
      "text/plain": [
       "99457280"
      ]
     },
     "execution_count": 158,
     "metadata": {},
     "output_type": "execute_result"
    }
   ],
   "source": [
    "import base64 \n",
    "with open('./media/audio_files/300. Hard Target.mp3', 'rb') as f:\n",
    "    audio_data = base64.b64encode(f.read()).decode('UTF-8')\n"
   ]
  },
  {
   "cell_type": "code",
   "execution_count": 2,
   "metadata": {},
   "outputs": [],
   "source": [
    "from imdb import Cinemagoer\n",
    "\n",
    "ia = Cinemagoer()"
   ]
  },
  {
   "cell_type": "code",
   "execution_count": 8,
   "metadata": {},
   "outputs": [],
   "source": [
    "x = ia.search_movie('Snowmance')[0] "
   ]
  },
  {
   "cell_type": "code",
   "execution_count": 9,
   "metadata": {},
   "outputs": [
    {
     "data": {
      "text/plain": [
       "{'title': 'Snowmance',\n",
       " 'year': 2017,\n",
       " 'kind': 'tv movie',\n",
       " 'cover url': 'https://m.media-amazon.com/images/M/MV5BNGM3MmIyYmYtYWI0Yi00YTAyLWI0YTAtZWNjNTAwNjlhNTI0XkEyXkFqcGdeQXVyODEyNzgyNDg@._V1_QL75_UX50_CR0,1,50,74_.jpg'}"
      ]
     },
     "execution_count": 9,
     "metadata": {},
     "output_type": "execute_result"
    }
   ],
   "source": [
    "x.data"
   ]
  },
  {
   "cell_type": "code",
   "execution_count": 12,
   "metadata": {},
   "outputs": [
    {
     "data": {
      "text/plain": [
       "<Movie id:7657428[http] title:_Snowmance (2017) (TV)_>"
      ]
     },
     "execution_count": 12,
     "metadata": {},
     "output_type": "execute_result"
    }
   ],
   "source": [
    "y= ia.get_movie(x.getID())\n",
    "y"
   ]
  },
  {
   "cell_type": "code",
   "execution_count": 18,
   "metadata": {},
   "outputs": [
    {
     "data": {
      "text/plain": [
       "'Sarah has always been a true romantic, so her favorite Christmas tradition is building her annual \"Snow Beau\" snowman with her best friend Nick. After another breakup right before the holidays, Sarah begins to wonder if she\\'ll ever find her very own true love. When a little Christmas magic brings her Snow Beau to life as the romantically-perfect Cole, Sarah must decide whether to pursue the romance she\\'s always dreamed of or the true love that has been right in front of her all along.'"
      ]
     },
     "execution_count": 18,
     "metadata": {},
     "output_type": "execute_result"
    }
   ],
   "source": [
    "y['plot outline']"
   ]
  },
  {
   "cell_type": "code",
   "execution_count": 154,
   "metadata": {},
   "outputs": [
    {
     "data": {
      "text/plain": [
       "{'title': 'Deadfall',\n",
       " 'episode_no': '218',\n",
       " 'imdb_info': {'imdb_title': 'Deadfall',\n",
       "  'genres': ['Crime', 'Drama', 'Thriller'],\n",
       "  'description': 'After a heist of a casino, the criminal Addison and his sister Liza are on the run to Canada. Addison tells his sister to get a ride to the border while he will cross the woods. Meanwhile, the former boxer Jay, released from prison on probation, calls his mother June who invites her son for Thanksgiving dinner. While driving on the road, he sees Liza and gives her a ride. But Sheriff Marshall T. Becker is hunting Addison with his men but excludes his daughter, Deputy Hanna, from the hunting party. An unlikely gathering of characters for a Thanksgiving celebration.',\n",
       "  'rating': 6.2,\n",
       "  'year': 2012,\n",
       "  'cast': ['Eric Bana', 'Olivia Wilde', 'Dennis Lafond']}}"
      ]
     },
     "execution_count": 154,
     "metadata": {},
     "output_type": "execute_result"
    }
   ],
   "source": [
    "test = '218. Deadfall LIVE! (w_ Chelsea Peretti).mp3'\n",
    "import re \n",
    "\n",
    "def strip_to_title(filename):\n",
    "    cut_strings = ['.mp3', 'LIVE!', 'LIVE']\n",
    "\n",
    "    title_str = filename\n",
    "    if ')' not in title_str and '(' in title_str:\n",
    "        title_str = title_str.replace('.mp3', ').mp3')\n",
    "\n",
    "    # Remove everything up to first letter\n",
    "    title_str = re.sub('^[^A-Za-z]+', '', title_str)\n",
    "    title_str = re.sub('\\([^)]*\\)', '', title_str)\n",
    "    for c in cut_strings:\n",
    "        title_str = title_str.replace(c, '')\n",
    "\n",
    "    search_results = ia.search_movie(title_str.strip())\n",
    "    \n",
    "    check_ind, found_movie = 0, False\n",
    "    while check_ind < len(search_results) and not found_movie:\n",
    "        first_movie = ia.get_movie(search_results[check_ind].getID())    \n",
    "        if 'plot' in first_movie.keys():\n",
    "            found_movie = True\n",
    "        else:\n",
    "            check_ind += 1\n",
    "    \n",
    "    # If it couldn't be found, or if it's a TV show (number of episodes), skip\n",
    "    # Later, let's replace the search results query with a fuzzy match, and if match < thresh skip\n",
    "    if check_ind == len(search_results) or 'number of episodes' in first_movie.keys():\n",
    "        imdb_info = {}\n",
    "    else:\n",
    "        cast = first_movie.get('cast')\n",
    "        cast = [str(c) for c in cast[:(min(3, len(cast)))]]\n",
    "        imdb_info = {\n",
    "            'imdb_title': first_movie['title'],\n",
    "            'genres': first_movie['genres'],\n",
    "            'description': first_movie['plot outline'] if 'plot outline' in first_movie.keys() else first_movie['plot'],\n",
    "            'rating': first_movie.get('rating', -1),\n",
    "            'year': first_movie['year'],\n",
    "            'cast': cast\n",
    "        }\n",
    "    \n",
    "    # Get episode number from title\n",
    "    episode_no = re.search('(^([0-9]+))', filename).group(0)\n",
    "\n",
    "    res = {\n",
    "        'title': title_str.strip(),\n",
    "        'episode_no': episode_no,\n",
    "        'imdb_info': imdb_info\n",
    "    }\n",
    "    return res\n",
    "\n",
    "strip_to_title(test)\n"
   ]
  },
  {
   "cell_type": "code",
   "execution_count": 155,
   "metadata": {},
   "outputs": [
    {
     "name": "stdout",
     "output_type": "stream",
     "text": [
      "Stripping file 0 of 308: 110 The Island of Dr. Moreau (w_ Alex Fernie).mp3\n",
      "{'title': 'The Island of Dr. Moreau', 'episode_no': '110', 'imdb_info': {'imdb_title': 'The Island of Dr. Moreau', 'genres': ['Horror', 'Sci-Fi', 'Thriller'], 'description': 'Set in the year 2010, Dr. Moreau has successfully combined human and animal DNA to make a crossbreed animal. Well, as usual, something goes wrong and David Thewlis must try to stop it before it is too late. Originally rated R, but cut by Frankenheimer to allow \"a wider audience\".', 'rating': 4.5, 'year': 1996, 'cast': ['Marlon Brando', 'Val Kilmer', 'David Thewlis']}}\n",
      "Stripping file 1 of 308: 151 The 2nd Annual Howdies Pt. 1.mp3\n",
      "{'title': 'The 2nd Annual Howdies Pt. 1', 'episode_no': '151', 'imdb_info': {'imdb_title': '2nd Annual Urban One Honors', 'genres': ['Music'], 'description': 'The 2nd ANNUAL URBAN ONE HONORS is a ceremony co-hosted by Chris Tucker and Cathy Hughes that celebrates the best in black culture and honors achievements made by individuals in the fields of radio, television, music, social media, politics and social activism. The event is held at the Theater at MGM National Theater in Oxon Hill, Maryland and broadcast January 20, 2020 on TV One.', 'rating': -1, 'year': 2020, 'cast': ['Clarence Avant', 'Tai Beauchamp', 'Eric Benét']}}\n",
      "Stripping file 2 of 308: 220. Hobbs _ Shaw_ LIVE! (w_ Adam Scott, Nicole Byer).mp3\n",
      "{'title': 'Hobbs _ Shaw_', 'episode_no': '220', 'imdb_info': {'imdb_title': 'Fast & Furious Presents: Hobbs & Shaw', 'genres': ['Action', 'Adventure', 'Thriller'], 'description': ['Lawman Luke Hobbs and outcast Deckard Shaw form an unlikely alliance when a cyber-genetically enhanced villain threatens the future of humanity.'], 'rating': 6.5, 'year': 2019, 'cast': ['Dwayne Johnson', 'Jason Statham', 'Idris Elba']}}\n",
      "Stripping file 3 of 308: 178 Superman IV_ The Quest For Peace_ LIVE! (w_ Natasha Lyonne, Jessica St. Clair).mp3\n",
      "{'title': 'Superman IV_ The Quest For Peace_', 'episode_no': '178', 'imdb_info': {'imdb_title': 'Superman IV: The Quest for Peace', 'genres': ['Action', 'Adventure', 'Sci-Fi'], 'description': 'Superman does a lot in his newest adventure. Archvillain Lex Luthor, determined to make the world safe for nuclear arms merchants, creates a new being to challenge the Man of Steel: the radiation-charged Nuclear Man. The two super-powered foes clash in an explosive screen extranvaganza that sees Superman save the Statue of Liberty, repulse a volcanic eruption of Mount Etna, rebuild the demolished Great Wall of China and perform many more spetactular feats.', 'rating': 3.7, 'year': 1987, 'cast': ['Christopher Reeve', 'Gene Hackman', 'Jackie Cooper']}}\n",
      "Stripping file 4 of 308: 263. The January Man with Kulap Vilaysack.mp3\n",
      "{'title': 'The January Man with Kulap Vilaysack', 'episode_no': '263', 'imdb_info': {}}\n",
      "Stripping file 5 of 308: 83. Winter_s Tale (w_ Andy Daly).mp3\n",
      "{'title': 'Winter_s Tale', 'episode_no': '83', 'imdb_info': {'imdb_title': \"Winter's Tale\", 'genres': ['Drama', 'Fantasy', 'Mystery', 'Romance'], 'description': \"New York City is subsumed in arctic winds, dark nights, and white lights, its life unfolds, for it is an extraordinary hive of the imagination, the greatest house ever built, and nothing exists that can check its vitality. One night in winter, Peter Lake (Colin Farrell), orphan and master-mechanic, attempts to rob a fortress-like mansion on the Upper West Side. Though he thinks the house is empty, the daughter of the house is home. Thus begins the love between Peter, an Irish burglar in his early 20's, and Beverly Penn (Jessica Brown Findlay), a young girl, who is dying.\", 'rating': 6.1, 'year': 2014, 'cast': ['Colin Farrell', 'Matt Bomer', 'Lucy Griffiths']}}\n",
      "Stripping file 6 of 308: 93 Staying Alive_ LIVE! (w_ Katie Dippold).mp3\n",
      "{'title': 'Staying Alive_', 'episode_no': '93', 'imdb_info': {'imdb_title': 'Staying Alive', 'genres': ['Drama', 'Music', 'Romance'], 'description': 'In this sequel to Saturday Night Fever, former disco king Tony Manero has left Brooklyn and lives in Manhattan. He stays in a cheap hotel and works as a dance instructor and as a dance-club waiter, trying to succeed as a professional Broadway dancer. Breaking away from his Brooklyn life, family, and friends has matured Tony and refined his personality, represented by his diminished accent and his avoidance of alcohol and profanity. But certain attitudes have not changed, as with his most-recent girlfriend, who sings in a local rock band.', 'rating': 4.7, 'year': 1983, 'cast': ['John Travolta', 'Cynthia Rhodes', 'Finola Hughes']}}\n",
      "Stripping file 7 of 308: 305. Designed to Kill.mp3\n"
     ]
    },
    {
     "ename": "KeyError",
     "evalue": "'year'",
     "output_type": "error",
     "traceback": [
      "\u001b[0;31m---------------------------------------------------------------------------\u001b[0m",
      "\u001b[0;31mKeyError\u001b[0m                                  Traceback (most recent call last)",
      "Cell \u001b[0;32mIn[155], line 4\u001b[0m\n\u001b[1;32m      2\u001b[0m \u001b[39mfor\u001b[39;00m i, f \u001b[39min\u001b[39;00m \u001b[39menumerate\u001b[39m(fnames[\u001b[39m194\u001b[39m:]):\n\u001b[1;32m      3\u001b[0m     \u001b[39mprint\u001b[39m(\u001b[39mf\u001b[39m\u001b[39m'\u001b[39m\u001b[39mStripping file \u001b[39m\u001b[39m{\u001b[39;00mi\u001b[39m}\u001b[39;00m\u001b[39m of \u001b[39m\u001b[39m{\u001b[39;00m\u001b[39mlen\u001b[39m(fnames)\u001b[39m}\u001b[39;00m\u001b[39m: \u001b[39m\u001b[39m{\u001b[39;00mf\u001b[39m}\u001b[39;00m\u001b[39m'\u001b[39m)\n\u001b[0;32m----> 4\u001b[0m     res \u001b[39m=\u001b[39m strip_to_title(f)\n\u001b[1;32m      5\u001b[0m     \u001b[39mprint\u001b[39m(res)\n",
      "Cell \u001b[0;32mIn[154], line 39\u001b[0m, in \u001b[0;36mstrip_to_title\u001b[0;34m(filename)\u001b[0m\n\u001b[1;32m     32\u001b[0m     cast \u001b[39m=\u001b[39m first_movie\u001b[39m.\u001b[39mget(\u001b[39m'\u001b[39m\u001b[39mcast\u001b[39m\u001b[39m'\u001b[39m)\n\u001b[1;32m     33\u001b[0m     cast \u001b[39m=\u001b[39m [\u001b[39mstr\u001b[39m(c) \u001b[39mfor\u001b[39;00m c \u001b[39min\u001b[39;00m cast[:(\u001b[39mmin\u001b[39m(\u001b[39m3\u001b[39m, \u001b[39mlen\u001b[39m(cast)))]]\n\u001b[1;32m     34\u001b[0m     imdb_info \u001b[39m=\u001b[39m {\n\u001b[1;32m     35\u001b[0m         \u001b[39m'\u001b[39m\u001b[39mimdb_title\u001b[39m\u001b[39m'\u001b[39m: first_movie[\u001b[39m'\u001b[39m\u001b[39mtitle\u001b[39m\u001b[39m'\u001b[39m],\n\u001b[1;32m     36\u001b[0m         \u001b[39m'\u001b[39m\u001b[39mgenres\u001b[39m\u001b[39m'\u001b[39m: first_movie[\u001b[39m'\u001b[39m\u001b[39mgenres\u001b[39m\u001b[39m'\u001b[39m],\n\u001b[1;32m     37\u001b[0m         \u001b[39m'\u001b[39m\u001b[39mdescription\u001b[39m\u001b[39m'\u001b[39m: first_movie[\u001b[39m'\u001b[39m\u001b[39mplot outline\u001b[39m\u001b[39m'\u001b[39m] \u001b[39mif\u001b[39;00m \u001b[39m'\u001b[39m\u001b[39mplot outline\u001b[39m\u001b[39m'\u001b[39m \u001b[39min\u001b[39;00m first_movie\u001b[39m.\u001b[39mkeys() \u001b[39melse\u001b[39;00m first_movie[\u001b[39m'\u001b[39m\u001b[39mplot\u001b[39m\u001b[39m'\u001b[39m],\n\u001b[1;32m     38\u001b[0m         \u001b[39m'\u001b[39m\u001b[39mrating\u001b[39m\u001b[39m'\u001b[39m: first_movie\u001b[39m.\u001b[39mget(\u001b[39m'\u001b[39m\u001b[39mrating\u001b[39m\u001b[39m'\u001b[39m, \u001b[39m-\u001b[39m\u001b[39m1\u001b[39m),\n\u001b[0;32m---> 39\u001b[0m         \u001b[39m'\u001b[39m\u001b[39myear\u001b[39m\u001b[39m'\u001b[39m: first_movie[\u001b[39m'\u001b[39;49m\u001b[39myear\u001b[39;49m\u001b[39m'\u001b[39;49m],\n\u001b[1;32m     40\u001b[0m         \u001b[39m'\u001b[39m\u001b[39mcast\u001b[39m\u001b[39m'\u001b[39m: cast\n\u001b[1;32m     41\u001b[0m     }\n\u001b[1;32m     43\u001b[0m \u001b[39m# Get episode number from title\u001b[39;00m\n\u001b[1;32m     44\u001b[0m episode_no \u001b[39m=\u001b[39m re\u001b[39m.\u001b[39msearch(\u001b[39m'\u001b[39m\u001b[39m(^([0-9]+))\u001b[39m\u001b[39m'\u001b[39m, filename)\u001b[39m.\u001b[39mgroup(\u001b[39m0\u001b[39m)\n",
      "File \u001b[0;32m~/Documents/gitRepos/Projects/Hdtgm_webserver/hdtgm_server/lib/python3.8/site-packages/imdb/utils.py:1503\u001b[0m, in \u001b[0;36m_Container.__getitem__\u001b[0;34m(self, key)\u001b[0m\n\u001b[1;32m   1501\u001b[0m     rawData \u001b[39m=\u001b[39m \u001b[39mself\u001b[39m\u001b[39m.\u001b[39mdata[\u001b[39mself\u001b[39m\u001b[39m.\u001b[39mkeys_alias[key]]\n\u001b[1;32m   1502\u001b[0m \u001b[39melse\u001b[39;00m:\n\u001b[0;32m-> 1503\u001b[0m     rawData \u001b[39m=\u001b[39m \u001b[39mself\u001b[39;49m\u001b[39m.\u001b[39;49mdata[key]\n\u001b[1;32m   1504\u001b[0m \u001b[39mif\u001b[39;00m key \u001b[39min\u001b[39;00m \u001b[39mself\u001b[39m\u001b[39m.\u001b[39mkeys_tomodify \u001b[39mand\u001b[39;00m \\\n\u001b[1;32m   1505\u001b[0m         \u001b[39mself\u001b[39m\u001b[39m.\u001b[39mmodFunct \u001b[39mnot\u001b[39;00m \u001b[39min\u001b[39;00m (\u001b[39mNone\u001b[39;00m, modNull):\n\u001b[1;32m   1506\u001b[0m     \u001b[39mtry\u001b[39;00m:\n",
      "\u001b[0;31mKeyError\u001b[0m: 'year'"
     ]
    }
   ],
   "source": [
    "# [strip_to_title(f) for f in fnames]\n",
    "for i, f in enumerate(fnames[194:]):\n",
    "    print(f'Stripping file {i} of {len(fnames)}: {f}')\n",
    "    res = strip_to_title(f)\n",
    "    print(res)"
   ]
  },
  {
   "cell_type": "markdown",
   "metadata": {},
   "source": []
  },
  {
   "cell_type": "code",
   "execution_count": null,
   "metadata": {},
   "outputs": [
    {
     "data": {
      "text/plain": [
       "['Clarence Avant', 'Tai Beauchamp', 'Eric Benét']"
      ]
     },
     "execution_count": 153,
     "metadata": {},
     "output_type": "execute_result"
    }
   ],
   "source": [
    "from kafka import KafkaProducer \n",
    "\n",
    "p = KafkaProducer(bootstrap_servers=['kafka1:19092', 'kafka2:19093', 'kafka3:19094'])\n",
    "p"
   ]
  },
  {
   "cell_type": "code",
   "execution_count": null,
   "metadata": {},
   "outputs": [],
   "source": [
    "p.send('test_new_topic', {'a': 'b', 'c': 'd'})"
   ]
  },
  {
   "cell_type": "code",
   "execution_count": null,
   "metadata": {},
   "outputs": [],
   "source": [
    "from kafka.admin import KafkaAdminClient, NewTopic\n",
    "\n",
    "admin_client = KafkaAdminClient(\n",
    "    bootstrap_servers=['kafka1:19092', 'kafka2:19093', 'kafka3:19094'], \n",
    "    client_id='test'\n",
    ")\n",
    "\n",
    "topic_list = []\n",
    "topic_list.append(NewTopic(name=\"example_topic\", num_partitions=1, replication_factor=1))\n",
    "admin_client.create_topics(new_topics=topic_list, validate_only=False)"
   ]
  },
  {
   "cell_type": "code",
   "execution_count": 146,
   "metadata": {},
   "outputs": [
    {
     "data": {
      "text/plain": [
       "{'imdb_title': '2nd Annual Urban One Honors',\n",
       " 'genres': ['Music'],\n",
       " 'description': 'The 2nd ANNUAL URBAN ONE HONORS is a ceremony co-hosted by Chris Tucker and Cathy Hughes that celebrates the best in black culture and honors achievements made by individuals in the fields of radio, television, music, social media, politics and social activism. The event is held at the Theater at MGM National Theater in Oxon Hill, Maryland and broadcast January 20, 2020 on TV One.',\n",
       " 'rating': -1,\n",
       " 'year': 2020}"
      ]
     },
     "execution_count": 146,
     "metadata": {},
     "output_type": "execute_result"
    }
   ],
   "source": [
    "filename = '151 The 2nd Annual Howdies Pt. 1.mp3'\n",
    "cut_strings = ['.mp3', 'LIVE!', 'LIVE']\n",
    "\n",
    "title_str = filename\n",
    "if ')' not in title_str and '(' in title_str:\n",
    "    title_str = title_str.replace('.mp3', ').mp3')\n",
    "\n",
    "# Remove everything up to first letter\n",
    "title_str = re.sub('^[^A-Za-z]+', '', title_str)\n",
    "title_str = re.sub('\\([^)]*\\)', '', title_str)\n",
    "for c in cut_strings:\n",
    "    title_str = title_str.replace(c, '')\n",
    "\n",
    "search_results = ia.search_movie(title_str.strip())\n",
    "\n",
    "check_ind = 0\n",
    "while check_ind < len(search_results):\n",
    "    first_movie = ia.get_movie(search_results[check_ind].getID())    \n",
    "    if 'plot' not in first_movie.keys():\n",
    "        check_ind += 1\n",
    "    else:\n",
    "        break\n",
    "\n",
    "if check_ind == len(search_results) or 'number of episodes' in first_movie.keys():\n",
    "    imdb_info = {}\n",
    "else:\n",
    "    imdb_info = {\n",
    "        'imdb_title': first_movie['title'],\n",
    "        'genres': first_movie['genres'],\n",
    "        'description': first_movie['plot outline'] if 'plot outline' in first_movie.keys() else first_movie['plot'],\n",
    "        'rating': first_movie.get('rating', -1),\n",
    "        'year': first_movie['year'],\n",
    "        # 'cast': [c['name'] for c in first_movie['cast'][:3]]\n",
    "    }\n",
    "imdb_info"
   ]
  },
  {
   "cell_type": "code",
   "execution_count": 147,
   "metadata": {},
   "outputs": [
    {
     "data": {
      "text/plain": [
       "(array([195]),)"
      ]
     },
     "execution_count": 147,
     "metadata": {},
     "output_type": "execute_result"
    }
   ],
   "source": [
    "import numpy as np \n",
    "np.where(np.array(fnames)==filename)"
   ]
  },
  {
   "cell_type": "code",
   "execution_count": 17,
   "metadata": {},
   "outputs": [
    {
     "name": "stdout",
     "output_type": "stream",
     "text": [
      "Collecting fuzzywuzzy\n",
      "  Downloading fuzzywuzzy-0.18.0-py2.py3-none-any.whl (18 kB)\n",
      "Installing collected packages: fuzzywuzzy\n",
      "Successfully installed fuzzywuzzy-0.18.0\n",
      "\u001b[33mWARNING: You are using pip version 20.2.3; however, version 23.2.1 is available.\n",
      "You should consider upgrading via the '/Users/kaleb/Documents/gitRepos/Projects/Hdtgm_webserver/hdtgm_server/bin/python -m pip install --upgrade pip' command.\u001b[0m\n",
      "Collecting python-Levenshtein\n",
      "  Downloading python_Levenshtein-0.21.1-py3-none-any.whl (9.4 kB)\n",
      "Collecting Levenshtein==0.21.1\n",
      "  Downloading Levenshtein-0.21.1.tar.gz (139 kB)\n",
      "\u001b[K     |████████████████████████████████| 139 kB 1.2 MB/s eta 0:00:01\n",
      "\u001b[?25h  Installing build dependencies ... \u001b[?25ldone\n",
      "\u001b[?25h  Getting requirements to build wheel ... \u001b[?25ldone\n",
      "\u001b[?25h  Installing backend dependencies ... \u001b[?25lerror\n",
      "\u001b[31m  ERROR: Command errored out with exit status 1:\n",
      "   command: /Users/kaleb/Documents/gitRepos/Projects/Hdtgm_webserver/hdtgm_server/bin/python /Users/kaleb/Documents/gitRepos/Projects/Hdtgm_webserver/hdtgm_server/lib/python3.8/site-packages/pip install --ignore-installed --no-user --prefix /private/var/folders/yq/0rj1vx5548d98lpwvg7lwr_h0000gn/T/pip-build-env-yuzuq__t/normal --no-warn-script-location --no-binary :none: --only-binary :none: -i https://pypi.org/simple -- cmake\n",
      "       cwd: None\n",
      "  Complete output (54 lines):\n",
      "  Collecting cmake\n",
      "    Using cached cmake-3.27.2.tar.gz (35 kB)\n",
      "    Installing build dependencies: started\n",
      "    Installing build dependencies: finished with status 'done'\n",
      "    Getting requirements to build wheel: started\n",
      "    Getting requirements to build wheel: finished with status 'done'\n",
      "      Preparing wheel metadata: started\n",
      "      Preparing wheel metadata: finished with status 'done'\n",
      "  Building wheels for collected packages: cmake\n",
      "    Building wheel for cmake (PEP 517): started\n",
      "    Building wheel for cmake (PEP 517): finished with status 'error'\n",
      "    ERROR: Command errored out with exit status 1:\n",
      "     command: /Users/kaleb/Documents/gitRepos/Projects/Hdtgm_webserver/hdtgm_server/bin/python /Users/kaleb/Documents/gitRepos/Projects/Hdtgm_webserver/hdtgm_server/lib/python3.8/site-packages/pip/_vendor/pep517/_in_process.py build_wheel /var/folders/yq/0rj1vx5548d98lpwvg7lwr_h0000gn/T/tmpj6pnsp7m\n",
      "         cwd: /private/var/folders/yq/0rj1vx5548d98lpwvg7lwr_h0000gn/T/pip-install-mraipot_/cmake\n",
      "    Complete output (33 lines):\n",
      "    Traceback (most recent call last):\n",
      "      File \"/private/var/folders/yq/0rj1vx5548d98lpwvg7lwr_h0000gn/T/pip-build-env-a8fey12t/overlay/lib/python3.8/site-packages/skbuild/setuptools_wrap.py\", line 645, in setup\n",
      "        cmkr = cmaker.CMaker(cmake_executable)\n",
      "      File \"/private/var/folders/yq/0rj1vx5548d98lpwvg7lwr_h0000gn/T/pip-build-env-a8fey12t/overlay/lib/python3.8/site-packages/skbuild/cmaker.py\", line 148, in __init__\n",
      "        self.cmake_version = get_cmake_version(self.cmake_executable)\n",
      "      File \"/private/var/folders/yq/0rj1vx5548d98lpwvg7lwr_h0000gn/T/pip-build-env-a8fey12t/overlay/lib/python3.8/site-packages/skbuild/cmaker.py\", line 105, in get_cmake_version\n",
      "        raise SKBuildError(msg) from err\n",
      "  \n",
      "  \n",
      "        =============================DEBUG ASSISTANCE=============================\n",
      "        If you are seeing a compilation error please try the following steps to\n",
      "        successfully install cmake:\n",
      "        1) Upgrade to the latest pip and try again. This will fix errors for most\n",
      "           users. See: https://pip.pypa.io/en/stable/installing/#upgrading-pip\n",
      "        2) If on Linux, with glibc < 2.12, you can set PIP_ONLY_BINARY=cmake in\n",
      "           order to retrieve the last manylinux1 compatible wheel.\n",
      "        3) If on Linux, with glibc < 2.12, you can cap \"cmake<3.23\" in your\n",
      "           requirements in order to retrieve the last manylinux1 compatible wheel.\n",
      "        4) Open an issue with the debug information that follows at\n",
      "           https://github.com/scikit-build/cmake-python-distributions/issues\n",
      "  \n",
      "        Python: 3.8.9\n",
      "        platform: macOS-12.3-arm64-arm-64bit\n",
      "        macos: 12.3\n",
      "        machine: arm64\n",
      "        bits: 64\n",
      "        pip: n/a\n",
      "        setuptools: 68.1.2\n",
      "        scikit-build: 0.17.6\n",
      "        PEP517_BUILD_BACKEND=setuptools.build_meta\n",
      "        =============================DEBUG ASSISTANCE=============================\n",
      "  \n",
      "    Problem with the CMake installation, aborting build. CMake executable is cmake\n",
      "    ----------------------------------------\n",
      "    ERROR: Failed building wheel for cmake\n",
      "  Failed to build cmake\n",
      "  ERROR: Could not build wheels for cmake which use PEP 517 and cannot be installed directly\n",
      "  WARNING: You are using pip version 20.2.3; however, version 23.2.1 is available.\n",
      "  You should consider upgrading via the '/Users/kaleb/Documents/gitRepos/Projects/Hdtgm_webserver/hdtgm_server/bin/python -m pip install --upgrade pip' command.\n",
      "  ----------------------------------------\u001b[0m\n",
      "\u001b[?25h\u001b[31mERROR: Command errored out with exit status 1: /Users/kaleb/Documents/gitRepos/Projects/Hdtgm_webserver/hdtgm_server/bin/python /Users/kaleb/Documents/gitRepos/Projects/Hdtgm_webserver/hdtgm_server/lib/python3.8/site-packages/pip install --ignore-installed --no-user --prefix /private/var/folders/yq/0rj1vx5548d98lpwvg7lwr_h0000gn/T/pip-build-env-yuzuq__t/normal --no-warn-script-location --no-binary :none: --only-binary :none: -i https://pypi.org/simple -- cmake Check the logs for full command output.\u001b[0m\n",
      "\u001b[33mWARNING: You are using pip version 20.2.3; however, version 23.2.1 is available.\n",
      "You should consider upgrading via the '/Users/kaleb/Documents/gitRepos/Projects/Hdtgm_webserver/hdtgm_server/bin/python -m pip install --upgrade pip' command.\u001b[0m\n"
     ]
    }
   ],
   "source": [
    "!pip install fuzzywuzzy\n",
    "!pip install python-Levenshtein"
   ]
  },
  {
   "cell_type": "code",
   "execution_count": 47,
   "metadata": {},
   "outputs": [
    {
     "name": "stdout",
     "output_type": "stream",
     "text": [
      "b'world'\n"
     ]
    }
   ],
   "source": [
    "import redis \n",
    "\n",
    "r = redis.Redis(host='localhost', port=6379)\n",
    "\n",
    "r.set('hello', 'world')\n",
    "print(r.get('hello'))"
   ]
  },
  {
   "cell_type": "code",
   "execution_count": 50,
   "metadata": {},
   "outputs": [
    {
     "data": {
      "text/plain": [
       "True"
      ]
     },
     "execution_count": 50,
     "metadata": {},
     "output_type": "execute_result"
    }
   ],
   "source": [
    "r.get('h') is None"
   ]
  },
  {
   "cell_type": "code",
   "execution_count": 45,
   "metadata": {},
   "outputs": [
    {
     "data": {
      "text/plain": [
       "[4, 5, 6]"
      ]
     },
     "execution_count": 45,
     "metadata": {},
     "output_type": "execute_result"
    }
   ],
   "source": [
    "import json \n",
    "r.set('foo_dict', json.dumps({'a': [1, 2, 3], 'b': [4, 5, 6]}))\n",
    "y = json.loads(r.get('foo_dict').decode())\n",
    "y['b']"
   ]
  },
  {
   "cell_type": "code",
   "execution_count": 32,
   "metadata": {},
   "outputs": [
    {
     "data": {
      "text/plain": [
       "0"
      ]
     },
     "execution_count": 32,
     "metadata": {},
     "output_type": "execute_result"
    }
   ],
   "source": [
    "fuzz.partial_ratio('Gigli', '296. Tuff Turf.mp3')"
   ]
  },
  {
   "cell_type": "code",
   "execution_count": 33,
   "metadata": {},
   "outputs": [
    {
     "data": {
      "text/plain": [
       "['218. Deadfall LIVE! (w_ Chelsea Peretti).mp3',\n",
       " '11 The Tourist (w_ Gil Ozeri, Natasha Leggero).mp3',\n",
       " '40 Judge Dredd (w_ Erica Oyama).mp3',\n",
       " '229. The Spirit of Christmas (w_ Jessica St. Clair).mp3',\n",
       " '248 The VelociPastor.mp3',\n",
       " '217. Jaws 3-D.mp3',\n",
       " '308. Ghost in the Machine.mp3',\n",
       " '233. Space Jam_ LIVE!.mp3',\n",
       " '153. Escape from LA_ LIVE! (w_ D_Arcy Carden, Dan Levy).mp3',\n",
       " '278. Old.mp3']"
      ]
     },
     "execution_count": 33,
     "metadata": {},
     "output_type": "execute_result"
    }
   ],
   "source": [
    "ff = fnames[:10]\n",
    "ff"
   ]
  },
  {
   "cell_type": "code",
   "execution_count": 34,
   "metadata": {},
   "outputs": [
    {
     "name": "stdout",
     "output_type": "stream",
     "text": [
      "fuzzy match of \"218. Deadfall LIVE! (w_ Chelsea Peretti).mp3\" and \"Chelsea Peretti\" is: 100\n",
      "fuzzy match of \"11 The Tourist (w_ Gil Ozeri, Natasha Leggero).mp3\" and \"Chelsea Peretti\" is: 33\n",
      "fuzzy match of \"40 Judge Dredd (w_ Erica Oyama).mp3\" and \"Chelsea Peretti\" is: 27\n",
      "fuzzy match of \"229. The Spirit of Christmas (w_ Jessica St. Clair).mp3\" and \"Chelsea Peretti\" is: 33\n",
      "fuzzy match of \"248 The VelociPastor.mp3\" and \"Chelsea Peretti\" is: 33\n",
      "fuzzy match of \"217. Jaws 3-D.mp3\" and \"Chelsea Peretti\" is: 14\n",
      "fuzzy match of \"308. Ghost in the Machine.mp3\" and \"Chelsea Peretti\" is: 20\n",
      "fuzzy match of \"233. Space Jam_ LIVE!.mp3\" and \"Chelsea Peretti\" is: 20\n",
      "fuzzy match of \"153. Escape from LA_ LIVE! (w_ D_Arcy Carden, Dan Levy).mp3\" and \"Chelsea Peretti\" is: 20\n",
      "fuzzy match of \"278. Old.mp3\" and \"Chelsea Peretti\" is: 8\n"
     ]
    }
   ],
   "source": [
    "search_str = 'Chelsea Peretti'\n",
    "for f in ff:\n",
    "    print(f'fuzzy match of \"{f}\" and \"{search_str}\" is: {fuzz.partial_ratio(search_str, f)}')"
   ]
  },
  {
   "cell_type": "code",
   "execution_count": 11,
   "metadata": {},
   "outputs": [
    {
     "data": {
      "text/plain": [
       "'1 Burlesque.mp3'"
      ]
     },
     "execution_count": 11,
     "metadata": {},
     "output_type": "execute_result"
    }
   ],
   "source": [
    "all_filenames[0]"
   ]
  },
  {
   "cell_type": "code",
   "execution_count": 3,
   "metadata": {},
   "outputs": [],
   "source": [
    "import base64 \n",
    "\n",
    "with open(f\"{base_dir}/{fnames[0]}\", 'rb') as f:\n",
    "    data = f.read()\n",
    "    # wav_file = base64.b64encode(data).decode('UTF-8')\n",
    "    wav_file = data\n",
    "wav_file "
   ]
  },
  {
   "cell_type": "code",
   "execution_count": 6,
   "metadata": {},
   "outputs": [
    {
     "data": {
      "text/plain": [
       "'SUQzBAAAAD10XVRJVDIAAAA4AAADMTUzLiBFc2NhcGUgZnJvbSBMQTogTElWRSEgKHcvIEQnQXJjeSBDYXJkZW4sIERhbiBMZXZ5KVRQRTEAAAAXAAADSG93IERpZCBUaGlzIEdldCBNYWRlP1RBTEIAAAAXAAADSG93IERpZCBUaGlzIEdldCBNYWRlP1RMQU4AAAAI'"
      ]
     },
     "execution_count": 6,
     "metadata": {},
     "output_type": "execute_result"
    }
   ],
   "source": [
    "x[:200].decode('UTF-8')"
   ]
  },
  {
   "cell_type": "code",
   "execution_count": 13,
   "metadata": {},
   "outputs": [
    {
     "name": "stdout",
     "output_type": "stream",
     "text": [
      "Collecting requests\n",
      "  Using cached requests-2.31.0-py3-none-any.whl (62 kB)\n",
      "Collecting charset-normalizer<4,>=2\n",
      "  Downloading charset_normalizer-3.2.0-py3-none-any.whl (46 kB)\n",
      "\u001b[K     |████████████████████████████████| 46 kB 474 kB/s eta 0:00:01\n",
      "\u001b[?25hCollecting certifi>=2017.4.17\n",
      "  Using cached certifi-2023.7.22-py3-none-any.whl (158 kB)\n",
      "Collecting idna<4,>=2.5\n",
      "  Using cached idna-3.4-py3-none-any.whl (61 kB)\n",
      "Collecting urllib3<3,>=1.21.1\n",
      "  Using cached urllib3-2.0.4-py3-none-any.whl (123 kB)\n",
      "Installing collected packages: charset-normalizer, certifi, idna, urllib3, requests\n",
      "Successfully installed certifi-2023.7.22 charset-normalizer-3.2.0 idna-3.4 requests-2.31.0 urllib3-2.0.4\n",
      "\u001b[33mWARNING: You are using pip version 20.2.3; however, version 23.2.1 is available.\n",
      "You should consider upgrading via the '/Users/kaleb/Documents/gitRepos/Projects/Hdtgm_webserver/hdtgm_server/bin/python -m pip install --upgrade pip' command.\u001b[0m\n"
     ]
    }
   ],
   "source": [
    "!pip install requests"
   ]
  },
  {
   "cell_type": "code",
   "execution_count": 14,
   "metadata": {},
   "outputs": [
    {
     "name": "stderr",
     "output_type": "stream",
     "text": [
      "/Users/kaleb/Documents/gitRepos/Projects/Hdtgm_webserver/hdtgm_server/lib/python3.8/site-packages/urllib3/__init__.py:34: NotOpenSSLWarning: urllib3 v2.0 only supports OpenSSL 1.1.1+, currently the 'ssl' module is compiled with 'LibreSSL 2.8.3'. See: https://github.com/urllib3/urllib3/issues/3020\n",
      "  warnings.warn(\n"
     ]
    },
    {
     "ename": "MissingSchema",
     "evalue": "Invalid URL '/audio': No scheme supplied. Perhaps you meant https:///audio?",
     "output_type": "error",
     "traceback": [
      "\u001b[0;31m---------------------------------------------------------------------------\u001b[0m",
      "\u001b[0;31mMissingSchema\u001b[0m                             Traceback (most recent call last)",
      "Cell \u001b[0;32mIn[14], line 3\u001b[0m\n\u001b[1;32m      1\u001b[0m \u001b[39mimport\u001b[39;00m \u001b[39mrequests\u001b[39;00m\n\u001b[0;32m----> 3\u001b[0m requests\u001b[39m.\u001b[39;49mget(\u001b[39m'\u001b[39;49m\u001b[39m/audio\u001b[39;49m\u001b[39m'\u001b[39;49m)\n",
      "File \u001b[0;32m~/Documents/gitRepos/Projects/Hdtgm_webserver/hdtgm_server/lib/python3.8/site-packages/requests/api.py:73\u001b[0m, in \u001b[0;36mget\u001b[0;34m(url, params, **kwargs)\u001b[0m\n\u001b[1;32m     62\u001b[0m \u001b[39mdef\u001b[39;00m \u001b[39mget\u001b[39m(url, params\u001b[39m=\u001b[39m\u001b[39mNone\u001b[39;00m, \u001b[39m*\u001b[39m\u001b[39m*\u001b[39mkwargs):\n\u001b[1;32m     63\u001b[0m \u001b[39m    \u001b[39m\u001b[39mr\u001b[39m\u001b[39m\"\"\"Sends a GET request.\u001b[39;00m\n\u001b[1;32m     64\u001b[0m \n\u001b[1;32m     65\u001b[0m \u001b[39m    :param url: URL for the new :class:`Request` object.\u001b[39;00m\n\u001b[0;32m   (...)\u001b[0m\n\u001b[1;32m     70\u001b[0m \u001b[39m    :rtype: requests.Response\u001b[39;00m\n\u001b[1;32m     71\u001b[0m \u001b[39m    \"\"\"\u001b[39;00m\n\u001b[0;32m---> 73\u001b[0m     \u001b[39mreturn\u001b[39;00m request(\u001b[39m\"\u001b[39;49m\u001b[39mget\u001b[39;49m\u001b[39m\"\u001b[39;49m, url, params\u001b[39m=\u001b[39;49mparams, \u001b[39m*\u001b[39;49m\u001b[39m*\u001b[39;49mkwargs)\n",
      "File \u001b[0;32m~/Documents/gitRepos/Projects/Hdtgm_webserver/hdtgm_server/lib/python3.8/site-packages/requests/api.py:59\u001b[0m, in \u001b[0;36mrequest\u001b[0;34m(method, url, **kwargs)\u001b[0m\n\u001b[1;32m     55\u001b[0m \u001b[39m# By using the 'with' statement we are sure the session is closed, thus we\u001b[39;00m\n\u001b[1;32m     56\u001b[0m \u001b[39m# avoid leaving sockets open which can trigger a ResourceWarning in some\u001b[39;00m\n\u001b[1;32m     57\u001b[0m \u001b[39m# cases, and look like a memory leak in others.\u001b[39;00m\n\u001b[1;32m     58\u001b[0m \u001b[39mwith\u001b[39;00m sessions\u001b[39m.\u001b[39mSession() \u001b[39mas\u001b[39;00m session:\n\u001b[0;32m---> 59\u001b[0m     \u001b[39mreturn\u001b[39;00m session\u001b[39m.\u001b[39;49mrequest(method\u001b[39m=\u001b[39;49mmethod, url\u001b[39m=\u001b[39;49murl, \u001b[39m*\u001b[39;49m\u001b[39m*\u001b[39;49mkwargs)\n",
      "File \u001b[0;32m~/Documents/gitRepos/Projects/Hdtgm_webserver/hdtgm_server/lib/python3.8/site-packages/requests/sessions.py:575\u001b[0m, in \u001b[0;36mSession.request\u001b[0;34m(self, method, url, params, data, headers, cookies, files, auth, timeout, allow_redirects, proxies, hooks, stream, verify, cert, json)\u001b[0m\n\u001b[1;32m    562\u001b[0m \u001b[39m# Create the Request.\u001b[39;00m\n\u001b[1;32m    563\u001b[0m req \u001b[39m=\u001b[39m Request(\n\u001b[1;32m    564\u001b[0m     method\u001b[39m=\u001b[39mmethod\u001b[39m.\u001b[39mupper(),\n\u001b[1;32m    565\u001b[0m     url\u001b[39m=\u001b[39murl,\n\u001b[0;32m   (...)\u001b[0m\n\u001b[1;32m    573\u001b[0m     hooks\u001b[39m=\u001b[39mhooks,\n\u001b[1;32m    574\u001b[0m )\n\u001b[0;32m--> 575\u001b[0m prep \u001b[39m=\u001b[39m \u001b[39mself\u001b[39;49m\u001b[39m.\u001b[39;49mprepare_request(req)\n\u001b[1;32m    577\u001b[0m proxies \u001b[39m=\u001b[39m proxies \u001b[39mor\u001b[39;00m {}\n\u001b[1;32m    579\u001b[0m settings \u001b[39m=\u001b[39m \u001b[39mself\u001b[39m\u001b[39m.\u001b[39mmerge_environment_settings(\n\u001b[1;32m    580\u001b[0m     prep\u001b[39m.\u001b[39murl, proxies, stream, verify, cert\n\u001b[1;32m    581\u001b[0m )\n",
      "File \u001b[0;32m~/Documents/gitRepos/Projects/Hdtgm_webserver/hdtgm_server/lib/python3.8/site-packages/requests/sessions.py:486\u001b[0m, in \u001b[0;36mSession.prepare_request\u001b[0;34m(self, request)\u001b[0m\n\u001b[1;32m    483\u001b[0m     auth \u001b[39m=\u001b[39m get_netrc_auth(request\u001b[39m.\u001b[39murl)\n\u001b[1;32m    485\u001b[0m p \u001b[39m=\u001b[39m PreparedRequest()\n\u001b[0;32m--> 486\u001b[0m p\u001b[39m.\u001b[39;49mprepare(\n\u001b[1;32m    487\u001b[0m     method\u001b[39m=\u001b[39;49mrequest\u001b[39m.\u001b[39;49mmethod\u001b[39m.\u001b[39;49mupper(),\n\u001b[1;32m    488\u001b[0m     url\u001b[39m=\u001b[39;49mrequest\u001b[39m.\u001b[39;49murl,\n\u001b[1;32m    489\u001b[0m     files\u001b[39m=\u001b[39;49mrequest\u001b[39m.\u001b[39;49mfiles,\n\u001b[1;32m    490\u001b[0m     data\u001b[39m=\u001b[39;49mrequest\u001b[39m.\u001b[39;49mdata,\n\u001b[1;32m    491\u001b[0m     json\u001b[39m=\u001b[39;49mrequest\u001b[39m.\u001b[39;49mjson,\n\u001b[1;32m    492\u001b[0m     headers\u001b[39m=\u001b[39;49mmerge_setting(\n\u001b[1;32m    493\u001b[0m         request\u001b[39m.\u001b[39;49mheaders, \u001b[39mself\u001b[39;49m\u001b[39m.\u001b[39;49mheaders, dict_class\u001b[39m=\u001b[39;49mCaseInsensitiveDict\n\u001b[1;32m    494\u001b[0m     ),\n\u001b[1;32m    495\u001b[0m     params\u001b[39m=\u001b[39;49mmerge_setting(request\u001b[39m.\u001b[39;49mparams, \u001b[39mself\u001b[39;49m\u001b[39m.\u001b[39;49mparams),\n\u001b[1;32m    496\u001b[0m     auth\u001b[39m=\u001b[39;49mmerge_setting(auth, \u001b[39mself\u001b[39;49m\u001b[39m.\u001b[39;49mauth),\n\u001b[1;32m    497\u001b[0m     cookies\u001b[39m=\u001b[39;49mmerged_cookies,\n\u001b[1;32m    498\u001b[0m     hooks\u001b[39m=\u001b[39;49mmerge_hooks(request\u001b[39m.\u001b[39;49mhooks, \u001b[39mself\u001b[39;49m\u001b[39m.\u001b[39;49mhooks),\n\u001b[1;32m    499\u001b[0m )\n\u001b[1;32m    500\u001b[0m \u001b[39mreturn\u001b[39;00m p\n",
      "File \u001b[0;32m~/Documents/gitRepos/Projects/Hdtgm_webserver/hdtgm_server/lib/python3.8/site-packages/requests/models.py:368\u001b[0m, in \u001b[0;36mPreparedRequest.prepare\u001b[0;34m(self, method, url, headers, files, data, params, auth, cookies, hooks, json)\u001b[0m\n\u001b[1;32m    365\u001b[0m \u001b[39m\u001b[39m\u001b[39m\"\"\"Prepares the entire request with the given parameters.\"\"\"\u001b[39;00m\n\u001b[1;32m    367\u001b[0m \u001b[39mself\u001b[39m\u001b[39m.\u001b[39mprepare_method(method)\n\u001b[0;32m--> 368\u001b[0m \u001b[39mself\u001b[39;49m\u001b[39m.\u001b[39;49mprepare_url(url, params)\n\u001b[1;32m    369\u001b[0m \u001b[39mself\u001b[39m\u001b[39m.\u001b[39mprepare_headers(headers)\n\u001b[1;32m    370\u001b[0m \u001b[39mself\u001b[39m\u001b[39m.\u001b[39mprepare_cookies(cookies)\n",
      "File \u001b[0;32m~/Documents/gitRepos/Projects/Hdtgm_webserver/hdtgm_server/lib/python3.8/site-packages/requests/models.py:439\u001b[0m, in \u001b[0;36mPreparedRequest.prepare_url\u001b[0;34m(self, url, params)\u001b[0m\n\u001b[1;32m    436\u001b[0m     \u001b[39mraise\u001b[39;00m InvalidURL(\u001b[39m*\u001b[39me\u001b[39m.\u001b[39margs)\n\u001b[1;32m    438\u001b[0m \u001b[39mif\u001b[39;00m \u001b[39mnot\u001b[39;00m scheme:\n\u001b[0;32m--> 439\u001b[0m     \u001b[39mraise\u001b[39;00m MissingSchema(\n\u001b[1;32m    440\u001b[0m         \u001b[39mf\u001b[39m\u001b[39m\"\u001b[39m\u001b[39mInvalid URL \u001b[39m\u001b[39m{\u001b[39;00murl\u001b[39m!r}\u001b[39;00m\u001b[39m: No scheme supplied. \u001b[39m\u001b[39m\"\u001b[39m\n\u001b[1;32m    441\u001b[0m         \u001b[39mf\u001b[39m\u001b[39m\"\u001b[39m\u001b[39mPerhaps you meant https://\u001b[39m\u001b[39m{\u001b[39;00murl\u001b[39m}\u001b[39;00m\u001b[39m?\u001b[39m\u001b[39m\"\u001b[39m\n\u001b[1;32m    442\u001b[0m     )\n\u001b[1;32m    444\u001b[0m \u001b[39mif\u001b[39;00m \u001b[39mnot\u001b[39;00m host:\n\u001b[1;32m    445\u001b[0m     \u001b[39mraise\u001b[39;00m InvalidURL(\u001b[39mf\u001b[39m\u001b[39m\"\u001b[39m\u001b[39mInvalid URL \u001b[39m\u001b[39m{\u001b[39;00murl\u001b[39m!r}\u001b[39;00m\u001b[39m: No host supplied\u001b[39m\u001b[39m\"\u001b[39m)\n",
      "\u001b[0;31mMissingSchema\u001b[0m: Invalid URL '/audio': No scheme supplied. Perhaps you meant https:///audio?"
     ]
    }
   ],
   "source": [
    "import requests\n",
    "\n",
    "requests.get('/audio')"
   ]
  },
  {
   "cell_type": "code",
   "execution_count": 4,
   "metadata": {},
   "outputs": [
    {
     "data": {
      "text/plain": [
       "b'SUQzBAAAAD10XVRJVDIAAAA4AAADMTUzLiBFc2NhcGUgZnJvbSBMQTogTElWRSEgKHcvIEQnQXJjeSBDYXJkZW4sIERhbiBMZXZ5KVRQRTEAAAAXAAADSG93IERpZCBUaGlzIEdldCBNYWRlP1RBTEIAAAAXAAADSG93IERpZCBUaGlzIEdldCBNYWRlP1RMQU4AAAAI'"
      ]
     },
     "execution_count": 4,
     "metadata": {},
     "output_type": "execute_result"
    }
   ],
   "source": [
    "x[:200]"
   ]
  }
 ],
 "metadata": {
  "kernelspec": {
   "display_name": "hdtgm_server",
   "language": "python",
   "name": "python3"
  },
  "language_info": {
   "codemirror_mode": {
    "name": "ipython",
    "version": 3
   },
   "file_extension": ".py",
   "mimetype": "text/x-python",
   "name": "python",
   "nbconvert_exporter": "python",
   "pygments_lexer": "ipython3",
   "version": "3.8.9"
  },
  "orig_nbformat": 4
 },
 "nbformat": 4,
 "nbformat_minor": 2
}
